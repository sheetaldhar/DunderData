{
 "cells": [
  {
   "cell_type": "markdown",
   "metadata": {},
   "source": [
    "## Lists\n",
    "One of Python's most powerful built-in [data structure](https://en.wikipedia.org/wiki/Data_structure) is the **`list`**. It is very versatile and able to do many things. Even crude data exploration and matrix algebra can be done using lists. Lists are sequences of objects separated by commas. Anything can go inside lists, even other lists. A list also falls into the category of a ['container'](http://stackoverflow.com/questions/11575925/what-exactly-are-containers-in-python-and-what-are-all-the-python-container) (objects that contain other objects). Lists are defined by the brackets **`[ ]`** operator followed by comma separated values."
   ]
  },
  {
   "cell_type": "code",
   "execution_count": 1,
   "metadata": {
    "collapsed": false
   },
   "outputs": [
    {
     "data": {
      "text/plain": [
       "[1, 2, 3, 4, 'one', 'two', 4.9]"
      ]
     },
     "execution_count": 1,
     "metadata": {},
     "output_type": "execute_result"
    }
   ],
   "source": [
    "# a list object with integers, strings and floats. Each element is separated by a comma\n",
    "my_list = [1, 2, 3, 4, 'one', 'two', 4.9]\n",
    "\n",
    "my_list"
   ]
  },
  {
   "cell_type": "markdown",
   "metadata": {},
   "source": [
    "### Accessing list elements\n",
    "Each element of a list is accessed with the index operator, **`[ ]`**. Lists are indexed beginning at 0. To get the nth element, put n-1 in the brackets."
   ]
  },
  {
   "cell_type": "code",
   "execution_count": 2,
   "metadata": {
    "collapsed": false
   },
   "outputs": [
    {
     "data": {
      "text/plain": [
       "3"
      ]
     },
     "execution_count": 2,
     "metadata": {},
     "output_type": "execute_result"
    }
   ],
   "source": [
    "# accessing the 3rd element\n",
    "my_list[2]"
   ]
  },
  {
   "cell_type": "markdown",
   "metadata": {},
   "source": [
    "### Mutating Lists\n",
    "Lists are objects that are mutable (\"able to be changed after creation\"). Each element in the list can be changed and new elements can be added and other elements can be deleted. This is in contrast to strings where no character can be modified, added or deleted."
   ]
  },
  {
   "cell_type": "code",
   "execution_count": 3,
   "metadata": {
    "collapsed": false
   },
   "outputs": [
    {
     "name": "stdout",
     "output_type": "stream",
     "text": [
      "[1, 2, 3, 4, 'one', 'two', 4.9]\n"
     ]
    },
    {
     "data": {
      "text/plain": [
       "[1, 2, 3, 'changed', 'one', 'two', 4.9]"
      ]
     },
     "execution_count": 3,
     "metadata": {},
     "output_type": "execute_result"
    }
   ],
   "source": [
    "# Change the 4th element of the list to 'changed'\n",
    "print(my_list)\n",
    "my_list[3] = 'changed'\n",
    "my_list"
   ]
  },
  {
   "cell_type": "markdown",
   "metadata": {},
   "source": [
    "### Unexpected behavior with mutable objects\n",
    "When assigning one mutable object to multiple different variables, a huge surprise awaits the novice programmer. When one of the variables the object is assigned to mutates the object, the other variable also shows the mutation. This is because both variables are referring to the same object.\n",
    "\n",
    "The below example will better illustrate this:"
   ]
  },
  {
   "cell_type": "code",
   "execution_count": 2,
   "metadata": {
    "collapsed": false
   },
   "outputs": [
    {
     "name": "stdout",
     "output_type": "stream",
     "text": [
      "[1000, 5, 10]\n",
      "[1000, 5, 10]\n"
     ]
    }
   ],
   "source": [
    "# create a list\n",
    "list_1 = [1, 5, 10]\n",
    "\n",
    "# assign list_1 to list_2\n",
    "list_2 = list_1\n",
    "\n",
    "# mutate one of the lists\n",
    "list_1[0] = 1000\n",
    "\n",
    "# print out the lists\n",
    "print(list_1)\n",
    "print(list_2) # Unexpected behavior. list_2 was also mutated!"
   ]
  },
  {
   "cell_type": "markdown",
   "metadata": {},
   "source": [
    "### Problem 1\n",
    "<span style=\"color:green\">Mutate `list_2` and print out both lists. Does mutating list_2 still change list_1? </span> "
   ]
  },
  {
   "cell_type": "code",
   "execution_count": 4,
   "metadata": {
    "collapsed": false
   },
   "outputs": [
    {
     "name": "stdout",
     "output_type": "stream",
     "text": [
      "[2000, 5, 10]\n",
      "[2000, 5, 10]\n"
     ]
    }
   ],
   "source": [
    "list_2[0]=2000\n",
    "print(list_1)\n",
    "print(list_2)"
   ]
  },
  {
   "cell_type": "markdown",
   "metadata": {},
   "source": [
    "### More detail on the same mutable objects assigned to a different variable\n",
    "In the above code when **`list_1`** is assigned to **`list_2`**, Python does not create a new block of memory to hold **`list_2`**. It simply makes a reference from **`list_2`** to the same list that was created when **`list_1`** was assigned. Both **`list_1`** and **`list_2`** point to the same object. Any modification to **`list_1`** or **`list_2`** change the underlying reference object.\n",
    "\n",
    "### Can we explicitly see the reference identification?\n",
    "Yes, the **`id`** function will show the unique id as an integer so that you can see if two variables are referring to the same object or not."
   ]
  },
  {
   "cell_type": "code",
   "execution_count": 6,
   "metadata": {
    "collapsed": false
   },
   "outputs": [
    {
     "data": {
      "text/plain": [
       "(4373205384, 4373205384)"
      ]
     },
     "execution_count": 6,
     "metadata": {},
     "output_type": "execute_result"
    }
   ],
   "source": [
    "# confirm that the identity of the list_1 and list_2 variables are the same\n",
    "id(list_1), id(list_2)"
   ]
  },
  {
   "cell_type": "markdown",
   "metadata": {},
   "source": [
    "### Creating a unique list copy\n",
    "If you are intending to create a unique new list that has the same elements of another list, you will need to use the copy method. The copy method creates a new object in memory with it's own unique address identity."
   ]
  },
  {
   "cell_type": "code",
   "execution_count": 7,
   "metadata": {
    "collapsed": false
   },
   "outputs": [
    {
     "data": {
      "text/plain": [
       "(4373205384, 4373205384, 4372673480)"
      ]
     },
     "execution_count": 7,
     "metadata": {},
     "output_type": "execute_result"
    }
   ],
   "source": [
    "# create a copy of a list and confirm new identity\n",
    "list_3 = list_1.copy()\n",
    "id(list_1), id(list_2), id(list_3)"
   ]
  },
  {
   "cell_type": "code",
   "execution_count": 8,
   "metadata": {
    "collapsed": false
   },
   "outputs": [
    {
     "name": "stdout",
     "output_type": "stream",
     "text": [
      "[1000, 5, 'bar']\n",
      "[1000, 5, 'bar']\n",
      "[1000, 5, 'foo']\n"
     ]
    }
   ],
   "source": [
    "# mutate list_3 and list_1 to further confirm unique identities\n",
    "list_3[2] = 'foo'\n",
    "list_1[2] = 'bar'\n",
    "print(list_1)\n",
    "print(list_2)\n",
    "print(list_3)"
   ]
  },
  {
   "cell_type": "markdown",
   "metadata": {},
   "source": [
    "### Technical note: Shallow vs Deep Copying\n",
    "The copy method above does a shallow copy, meaning that any mutable object *within* the list will not be copied and still refer to the same object as before. For example, when a list contains another list, the inner list will not be copied. [See here for more info](https://docs.python.org/3/library/copy.html)"
   ]
  },
  {
   "cell_type": "markdown",
   "metadata": {},
   "source": [
    "### All List Methods\n",
    "As we did with strings in the previous notebook, we will print out all the methods (and attributes which there are none for lists) with the **`dir()`** function.\n",
    "\n",
    "By looking below we can see that there are many more special methods (those with double underscores) and far less normal methods. Special methods are universal to all Python objects so this is why you will see many repeated special method for objects of different types."
   ]
  },
  {
   "cell_type": "code",
   "execution_count": 9,
   "metadata": {
    "collapsed": false
   },
   "outputs": [
    {
     "name": "stdout",
     "output_type": "stream",
     "text": [
      "['__add__', '__class__', '__contains__', '__delattr__', '__delitem__', '__dir__', '__doc__', '__eq__', '__format__', '__ge__', '__getattribute__', '__getitem__', '__gt__', '__hash__', '__iadd__', '__imul__', '__init__', '__iter__', '__le__', '__len__', '__lt__', '__mul__', '__ne__', '__new__', '__reduce__', '__reduce_ex__', '__repr__', '__reversed__', '__rmul__', '__setattr__', '__setitem__', '__sizeof__', '__str__', '__subclasshook__', 'append', 'clear', 'copy', 'count', 'extend', 'index', 'insert', 'pop', 'remove', 'reverse', 'sort']\n"
     ]
    }
   ],
   "source": [
    "# like we did with strings lets see all the methods that are available to lists\n",
    "my_list = [1, 2, 3, 4, 'one', 'two', 4.9]\n",
    "print(dir(my_list))"
   ]
  },
  {
   "cell_type": "markdown",
   "metadata": {},
   "source": [
    "### Experimenting with list methods\n",
    "A series of examples will follow that show some list methods. Remember that methods use the dot notation and always end in parentheses."
   ]
  },
  {
   "cell_type": "code",
   "execution_count": 10,
   "metadata": {
    "collapsed": false
   },
   "outputs": [],
   "source": [
    "# to add an element to the end of a list use append\n",
    "my_list.append(22)"
   ]
  },
  {
   "cell_type": "markdown",
   "metadata": {},
   "source": [
    "### Why was there was no output?\n",
    "When a method returns no output in Python, it does *not* mean that nothing happend. Something almost always *happens* but you might not see it immediately. In this case, the list was **mutated in place**. 22 was appended to the list and the object **`None`** was returned."
   ]
  },
  {
   "cell_type": "code",
   "execution_count": 11,
   "metadata": {
    "collapsed": false
   },
   "outputs": [
    {
     "data": {
      "text/plain": [
       "[1, 2, 3, 4, 'one', 'two', 4.9, 22]"
      ]
     },
     "execution_count": 11,
     "metadata": {},
     "output_type": "execute_result"
    }
   ],
   "source": [
    "# See that 22 was appended\n",
    "my_list"
   ]
  },
  {
   "cell_type": "markdown",
   "metadata": {},
   "source": [
    "### What does it mean to have `None` returned?\n",
    "In Python, there is an object that represents nothing and that is the keyword **`None`**. `None` is a special object that has no non-special attributes or methods. Methods must always return something. Some methods complete their operation on an object and have no need to return anything but since Python demands that all methods return something, these methods return **`None`**. See example below."
   ]
  },
  {
   "cell_type": "code",
   "execution_count": 12,
   "metadata": {
    "collapsed": false
   },
   "outputs": [
    {
     "data": {
      "text/plain": [
       "NoneType"
      ]
     },
     "execution_count": 12,
     "metadata": {},
     "output_type": "execute_result"
    }
   ],
   "source": [
    "# append an item to a list and show that None is returned after completion of the operation\n",
    "my_new_list = [1, 2, 3]\n",
    "returned_value = my_new_list.append(5)  # This command appends 5 to my_new_list and returns None\n",
    "type(returned_value) # returned_value is now None"
   ]
  },
  {
   "cell_type": "code",
   "execution_count": 13,
   "metadata": {
    "collapsed": false
   },
   "outputs": [
    {
     "data": {
      "text/plain": [
       "[1, 2, 3, 5]"
      ]
     },
     "execution_count": 13,
     "metadata": {},
     "output_type": "execute_result"
    }
   ],
   "source": [
    "# my_new_list still got 5 appended to it\n",
    "my_new_list"
   ]
  },
  {
   "cell_type": "markdown",
   "metadata": {},
   "source": [
    "### How to tell if an object is `None`\n",
    "**`None`** is a special object that uses different syntax to determine whether it is indeed None. You must use the identity operator **`is`** which will evaluate as boolean."
   ]
  },
  {
   "cell_type": "code",
   "execution_count": 14,
   "metadata": {
    "collapsed": false
   },
   "outputs": [
    {
     "name": "stdout",
     "output_type": "stream",
     "text": [
      "True\n",
      "True\n",
      "False\n"
     ]
    }
   ],
   "source": [
    "# Must use `is` to determine if an object is None\n",
    "print(returned_value is None)\n",
    "print(returned_value == None) # this still evaluates as true but is not standard and doesn't work in all situations\n",
    "print(my_new_list is None)"
   ]
  },
  {
   "cell_type": "markdown",
   "metadata": {},
   "source": [
    "### Operations that happen 'in-place'\n",
    "When the list above was appended to, it was referred to as happening **in-place**. When a method acts on an object **in-place** None is usually returned. Most methods return some value but when methods return **`None`**, that is usually an indicator that the object was mutated in place. \n",
    "\n",
    "Take a look at the example below where the string method `count` will return the number of a particular letter in the string. Alternatively, see the append list method that returns `None`."
   ]
  },
  {
   "cell_type": "code",
   "execution_count": 15,
   "metadata": {
    "collapsed": false
   },
   "outputs": [
    {
     "name": "stdout",
     "output_type": "stream",
     "text": [
      "2\n",
      "None\n"
     ]
    }
   ],
   "source": [
    "# example of a method that returns an integer vs one that returns None but with an in-place operation\n",
    "test_string = 'i am a test string'\n",
    "test_list = [1, 2, 3]\n",
    "print(test_string.count('a'))\n",
    "print(test_list.append(4))"
   ]
  },
  {
   "cell_type": "code",
   "execution_count": 16,
   "metadata": {
    "collapsed": false
   },
   "outputs": [
    {
     "data": {
      "text/plain": [
       "[1, 2, 3, 4]"
      ]
     },
     "execution_count": 16,
     "metadata": {},
     "output_type": "execute_result"
    }
   ],
   "source": [
    "# did test_list still get the number 4 appended to it?\n",
    "# Yes! The operation completed in-place and returned None\n",
    "test_list"
   ]
  },
  {
   "cell_type": "markdown",
   "metadata": {},
   "source": [
    "### In-place operations in Pandas\n",
    "Pandas is the main data exploration library in Python and what the bulk of the course will focus on. Many pandas methods allow you to perform in-place operations so keep an eye out for this in the future when we cover this in class."
   ]
  },
  {
   "cell_type": "markdown",
   "metadata": {},
   "source": [
    "### More list methods"
   ]
  },
  {
   "cell_type": "code",
   "execution_count": 17,
   "metadata": {
    "collapsed": false
   },
   "outputs": [
    {
     "data": {
      "text/plain": [
       "[]"
      ]
     },
     "execution_count": 17,
     "metadata": {},
     "output_type": "execute_result"
    }
   ],
   "source": [
    "# clear empties the list\n",
    "my_list.clear()\n",
    "my_list"
   ]
  },
  {
   "cell_type": "code",
   "execution_count": 18,
   "metadata": {
    "collapsed": false
   },
   "outputs": [
    {
     "data": {
      "text/plain": [
       "4"
      ]
     },
     "execution_count": 18,
     "metadata": {},
     "output_type": "execute_result"
    }
   ],
   "source": [
    "# find first occurence of an item in list\n",
    "my_list = [1, 2, 3, 4, 'one', 'fifth', 'two', 4.9]\n",
    "my_list.index('one')"
   ]
  },
  {
   "cell_type": "code",
   "execution_count": 19,
   "metadata": {
    "collapsed": false
   },
   "outputs": [
    {
     "data": {
      "text/plain": [
       "[1, 2, 3, 4, 'one', 'fifth', 'fifth', 'two', 4.9]"
      ]
     },
     "execution_count": 19,
     "metadata": {},
     "output_type": "execute_result"
    }
   ],
   "source": [
    "#insert item after fifth index. operation happens in-place\n",
    "my_list.insert(5, 'fifth')\n",
    "my_list"
   ]
  },
  {
   "cell_type": "code",
   "execution_count": 20,
   "metadata": {
    "collapsed": false
   },
   "outputs": [
    {
     "data": {
      "text/plain": [
       "[4.9, 'two', 'fifth', 'fifth', 'one', 4, 3, 2, 1]"
      ]
     },
     "execution_count": 20,
     "metadata": {},
     "output_type": "execute_result"
    }
   ],
   "source": [
    "# reverse a list in place\n",
    "my_list.reverse()\n",
    "my_list"
   ]
  },
  {
   "cell_type": "markdown",
   "metadata": {},
   "source": [
    "### Getting the length of a list\n",
    "Looking at all the list methods produced by the **`dir`** function, the special method **`__len__`** is available just like it was with strings. This indicates that the **`len`** *function* can be used to count the number of elements in the list."
   ]
  },
  {
   "cell_type": "code",
   "execution_count": 21,
   "metadata": {
    "collapsed": false
   },
   "outputs": [
    {
     "data": {
      "text/plain": [
       "9"
      ]
     },
     "execution_count": 21,
     "metadata": {},
     "output_type": "execute_result"
    }
   ],
   "source": [
    "# return the number of elements in a list with the len function\n",
    "len(my_list)"
   ]
  },
  {
   "cell_type": "code",
   "execution_count": 22,
   "metadata": {
    "collapsed": false
   },
   "outputs": [
    {
     "data": {
      "text/plain": [
       "9"
      ]
     },
     "execution_count": 22,
     "metadata": {},
     "output_type": "execute_result"
    }
   ],
   "source": [
    "# use dunder len, the special method\n",
    "my_list.__len__() # almost never done in practice"
   ]
  },
  {
   "cell_type": "markdown",
   "metadata": {},
   "source": [
    "### Sorting a list\n",
    "Lists can be sorted using the sort function as long as each element is the same type and that type is orderable.\n",
    "\n",
    "Since `my_list` has different types (strings and numbers) an error will be raised."
   ]
  },
  {
   "cell_type": "code",
   "execution_count": 23,
   "metadata": {
    "collapsed": false
   },
   "outputs": [
    {
     "ename": "TypeError",
     "evalue": "unorderable types: str() < float()",
     "output_type": "error",
     "traceback": [
      "\u001b[0;31m---------------------------------------------------------------------------\u001b[0m",
      "\u001b[0;31mTypeError\u001b[0m                                 Traceback (most recent call last)",
      "\u001b[0;32m<ipython-input-23-ac6ec5e37cb1>\u001b[0m in \u001b[0;36m<module>\u001b[0;34m()\u001b[0m\n\u001b[1;32m      1\u001b[0m \u001b[0;31m#sort the list\u001b[0m\u001b[0;34m\u001b[0m\u001b[0;34m\u001b[0m\u001b[0m\n\u001b[0;32m----> 2\u001b[0;31m \u001b[0mmy_list\u001b[0m\u001b[0;34m.\u001b[0m\u001b[0msort\u001b[0m\u001b[0;34m(\u001b[0m\u001b[0;34m)\u001b[0m\u001b[0;34m\u001b[0m\u001b[0m\n\u001b[0m",
      "\u001b[0;31mTypeError\u001b[0m: unorderable types: str() < float()"
     ]
    }
   ],
   "source": [
    "#sort the list\n",
    "my_list.sort()"
   ]
  },
  {
   "cell_type": "code",
   "execution_count": 24,
   "metadata": {
    "collapsed": false
   },
   "outputs": [
    {
     "data": {
      "text/plain": [
       "[-87, 0, 8, 12, 90.8]"
      ]
     },
     "execution_count": 24,
     "metadata": {},
     "output_type": "execute_result"
    }
   ],
   "source": [
    "# sortable list\n",
    "sortable_list = [8, 12, 90.8, -87, 0]\n",
    "sortable_list.sort() # operation happens in place so\n",
    "sortable_list"
   ]
  },
  {
   "cell_type": "markdown",
   "metadata": {},
   "source": [
    "### Advanced: Custom Sorting\n",
    "It's possible to use the sort method to sort a list in a manner different than its natural ordering. To do this, you must use the **`key`** argument in the sort method and pass it the name of a function that you would like to apply to each element of the list.\n",
    "\n",
    "In the below example, the **`str`** function will be passed to the `key` argument. The `str` function converts its input into a string. "
   ]
  },
  {
   "cell_type": "code",
   "execution_count": 25,
   "metadata": {
    "collapsed": false
   },
   "outputs": [
    {
     "data": {
      "text/plain": [
       "'5'"
      ]
     },
     "execution_count": 25,
     "metadata": {},
     "output_type": "execute_result"
    }
   ],
   "source": [
    "# First an example of the str function. Here it is converting the integer 5 into the string '5'\n",
    "str(5)"
   ]
  },
  {
   "cell_type": "code",
   "execution_count": 26,
   "metadata": {
    "collapsed": false
   },
   "outputs": [
    {
     "data": {
      "text/plain": [
       "[1, 2, 3, 4, 4.9, 'fifth', 'fifth', 'one', 'two']"
      ]
     },
     "execution_count": 26,
     "metadata": {},
     "output_type": "execute_result"
    }
   ],
   "source": [
    "# Now lets sort my_list which contains both numbers and strings \n",
    "# by using the key argument and passing it the str function\n",
    "my_list.sort(key=str)\n",
    "my_list"
   ]
  },
  {
   "cell_type": "markdown",
   "metadata": {},
   "source": [
    "### Advanced: Problem 2\n",
    "<span style=\"color:green\">Create a variable that is assigned to a list of five lists where the inner lists have different numbers of elements and different types of elements. Use the sort method to sort the outer list by the number of elements in each inner list. Lists of lists are [explained below here.](#Lists-of-Lists)</span> "
   ]
  },
  {
   "cell_type": "code",
   "execution_count": 150,
   "metadata": {
    "collapsed": false
   },
   "outputs": [
    {
     "data": {
      "text/plain": [
       "[[3],\n",
       " ['awesome'],\n",
       " [2, 'three'],\n",
       " [[5, 6, 7, '%'], [9, 10, 11, 12, 22, 33, 44]],\n",
       " [13, 14, 15, 16]]"
      ]
     },
     "execution_count": 150,
     "metadata": {},
     "output_type": "execute_result"
    }
   ],
   "source": [
    "listing = [[2,'three'],[[5,6,7,'%'],[9,10,11,12,22,33,44]],[13,14,15,16],[3],['awesome']]\n",
    "listing.sort(key=len)\n",
    "listing"
   ]
  },
  {
   "cell_type": "markdown",
   "metadata": {},
   "source": [
    "### Slicing lists\n",
    "Slicing and element grabbing happens the same way in lists as it does in strings. The big difference is that lists are mutable (each element is able to be changed). Strings are not."
   ]
  },
  {
   "cell_type": "code",
   "execution_count": 28,
   "metadata": {
    "collapsed": false
   },
   "outputs": [
    {
     "data": {
      "text/plain": [
       "(1, 'two')"
      ]
     },
     "execution_count": 28,
     "metadata": {},
     "output_type": "execute_result"
    }
   ],
   "source": [
    "# selecting elements. Use negative numbers to grab elements starting from the end\n",
    "my_list[0], my_list[-1]"
   ]
  },
  {
   "cell_type": "code",
   "execution_count": 29,
   "metadata": {
    "collapsed": false,
    "scrolled": true
   },
   "outputs": [
    {
     "data": {
      "text/plain": [
       "[1, 2, 3]"
      ]
     },
     "execution_count": 29,
     "metadata": {},
     "output_type": "execute_result"
    }
   ],
   "source": [
    "# from begging to 1 prior to 3rd position\n",
    "my_list[:3]"
   ]
  },
  {
   "cell_type": "code",
   "execution_count": 30,
   "metadata": {
    "collapsed": false
   },
   "outputs": [
    {
     "data": {
      "text/plain": [
       "[4, 4.9, 'fifth', 'fifth', 'one', 'two']"
      ]
     },
     "execution_count": 30,
     "metadata": {},
     "output_type": "execute_result"
    }
   ],
   "source": [
    "# from 3rd position til end\n",
    "my_list[3:]"
   ]
  },
  {
   "cell_type": "markdown",
   "metadata": {},
   "source": [
    "### Start : Stop : Step\n",
    "List slicing uses the exact same slicing form as strings. If the start index is not included it is defaulted to the first element. If the stop index is not included it is defaulted to stop at the last element. If the step size is not included it is defaulted to 1. \n",
    "\n",
    "If the stop index is included, the list is sliced up to but does not include the stop index element.\n",
    "\n",
    "See the many slicing examples below:"
   ]
  },
  {
   "cell_type": "code",
   "execution_count": 31,
   "metadata": {
    "collapsed": false
   },
   "outputs": [
    {
     "data": {
      "text/plain": [
       "[1, 2, 3, 4, 4.9, 'fifth', 'fifth', 'one', 'two']"
      ]
     },
     "execution_count": 31,
     "metadata": {},
     "output_type": "execute_result"
    }
   ],
   "source": [
    "# lets first output my_list\n",
    "my_list"
   ]
  },
  {
   "cell_type": "code",
   "execution_count": 32,
   "metadata": {
    "collapsed": false
   },
   "outputs": [
    {
     "data": {
      "text/plain": [
       "[1, 2, 3, 4, 4.9, 'fifth', 'fifth', 'one', 'two']"
      ]
     },
     "execution_count": 32,
     "metadata": {},
     "output_type": "execute_result"
    }
   ],
   "source": [
    "# slice with defaul start, stop and step. Looks strange but is legal\n",
    "my_list[::]"
   ]
  },
  {
   "cell_type": "code",
   "execution_count": 33,
   "metadata": {
    "collapsed": false
   },
   "outputs": [
    {
     "data": {
      "text/plain": [
       "[1, 2, 3, 4, 4.9, 'fifth', 'fifth', 'one', 'two']"
      ]
     },
     "execution_count": 33,
     "metadata": {},
     "output_type": "execute_result"
    }
   ],
   "source": [
    "# Same thing as above\n",
    "my_list[:]"
   ]
  },
  {
   "cell_type": "code",
   "execution_count": 34,
   "metadata": {
    "collapsed": false
   },
   "outputs": [
    {
     "data": {
      "text/plain": [
       "[1, 2, 3]"
      ]
     },
     "execution_count": 34,
     "metadata": {},
     "output_type": "execute_result"
    }
   ],
   "source": [
    "# Slice up to but not including the 3rd index\n",
    "my_list[:3]"
   ]
  },
  {
   "cell_type": "code",
   "execution_count": 35,
   "metadata": {
    "collapsed": false
   },
   "outputs": [
    {
     "data": {
      "text/plain": [
       "[4.9, 'fifth', 'fifth', 'one', 'two']"
      ]
     },
     "execution_count": 35,
     "metadata": {},
     "output_type": "execute_result"
    }
   ],
   "source": [
    "# slice from the fourth index to the end\n",
    "my_list[4:]"
   ]
  },
  {
   "cell_type": "code",
   "execution_count": 36,
   "metadata": {
    "collapsed": false
   },
   "outputs": [
    {
     "data": {
      "text/plain": [
       "[2, 4]"
      ]
     },
     "execution_count": 36,
     "metadata": {},
     "output_type": "execute_result"
    }
   ],
   "source": [
    "# slice from the 1st index to the 5th index with step size 2\n",
    "my_list[1:5:2]"
   ]
  },
  {
   "cell_type": "markdown",
   "metadata": {},
   "source": [
    "### Negative Step Size\n",
    "Occasionally you might want to slice from a higher index down to a lower index. To do this you use a negative step size and must put the higher index first."
   ]
  },
  {
   "cell_type": "code",
   "execution_count": 37,
   "metadata": {
    "collapsed": false
   },
   "outputs": [
    {
     "data": {
      "text/plain": [
       "[]"
      ]
     },
     "execution_count": 37,
     "metadata": {},
     "output_type": "execute_result"
    }
   ],
   "source": [
    "# This example does not work correctly and returns an empty list. Must have higher index first\n",
    "my_list[1:4:-1] "
   ]
  },
  {
   "cell_type": "code",
   "execution_count": 38,
   "metadata": {
    "collapsed": false
   },
   "outputs": [
    {
     "data": {
      "text/plain": [
       "[4.9, 4, 3]"
      ]
     },
     "execution_count": 38,
     "metadata": {},
     "output_type": "execute_result"
    }
   ],
   "source": [
    "# correctly slice from high to low with negative step size\n",
    "my_list[4:1:-1]"
   ]
  },
  {
   "cell_type": "code",
   "execution_count": 39,
   "metadata": {
    "collapsed": false
   },
   "outputs": [
    {
     "data": {
      "text/plain": [
       "['two', 'one', 'fifth', 'fifth', 4.9, 4, 3, 2, 1]"
      ]
     },
     "execution_count": 39,
     "metadata": {},
     "output_type": "execute_result"
    }
   ],
   "source": [
    "# reverse a list. This is non-intuitive but a very pythonic way of reversing a list\n",
    "my_list[::-1]"
   ]
  },
  {
   "cell_type": "markdown",
   "metadata": {},
   "source": [
    "### Negative Start and Stop indexes\n",
    "All three list slice numbers can be negative. Negative numbers for start and stop are equal to the index beginning from the end of the list. So `my_list[-4]` represents the 4th element from the end.\n",
    "\n",
    "Although negative numbers work, it's best to use positive numbers when possible as they are more readable and less error prone."
   ]
  },
  {
   "cell_type": "code",
   "execution_count": 40,
   "metadata": {
    "collapsed": false
   },
   "outputs": [
    {
     "data": {
      "text/plain": [
       "['fifth', 'fifth', 'one']"
      ]
     },
     "execution_count": 40,
     "metadata": {},
     "output_type": "execute_result"
    }
   ],
   "source": [
    "# Slice from the 4th element from the end up to but not including the last element\n",
    "my_list[-4:-1]"
   ]
  },
  {
   "cell_type": "markdown",
   "metadata": {},
   "source": [
    "### The Range Function\n",
    "**`Range`** is a function that can be used to create a sequence of numbers using the same start, stop, step style of list and string slicing we have already seen. Range is different in that it doesn't actually produce a sequence of numbers when its first called. It 'lazily' evaluates, meaning it only generates the next number in the sequence when demanded. Get [more information on the range function](http://stackoverflow.com/questions/13092267/if-range-is-a-generator-in-python-3-3-why-can-i-not-call-next-on-a-range)\n",
    "\n",
    "This is very similar to what a generator does. Generators are a more advanced topic [that can be read about here](http://stackoverflow.com/questions/1756096/understanding-generators-in-python)). \n",
    "\n",
    "Ranges can be converted to lists with the **`list`** function, otherwise they remain as **`range`** objects."
   ]
  },
  {
   "cell_type": "code",
   "execution_count": 1,
   "metadata": {
    "collapsed": false
   },
   "outputs": [
    {
     "data": {
      "text/plain": [
       "[5, 6, 7, 8, 9]"
      ]
     },
     "execution_count": 1,
     "metadata": {},
     "output_type": "execute_result"
    }
   ],
   "source": [
    "# Some examples of creating lists with the range function\n",
    "# use start, stop, step as the arguments and wrap list around range\n",
    "list(range(5, 10)) # step size defaults to 1"
   ]
  },
  {
   "cell_type": "code",
   "execution_count": 2,
   "metadata": {
    "collapsed": false
   },
   "outputs": [
    {
     "data": {
      "text/plain": [
       "[0, 1, 2, 3, 4, 5, 6, 7, 8, 9]"
      ]
     },
     "execution_count": 2,
     "metadata": {},
     "output_type": "execute_result"
    }
   ],
   "source": [
    "# Start from 0 up to but not including the given argument\n",
    "list(range(10)) # start is defaulted to 0 if not given"
   ]
  },
  {
   "cell_type": "code",
   "execution_count": 3,
   "metadata": {
    "collapsed": false
   },
   "outputs": [
    {
     "data": {
      "text/plain": [
       "[300, 350, 400, 450, 500, 550, 600, 650, 700, 750, 800, 850, 900, 950]"
      ]
     },
     "execution_count": 3,
     "metadata": {},
     "output_type": "execute_result"
    }
   ],
   "source": [
    "# start from 300 go to 1000 by 50\n",
    "list(range(300, 1000, 50))"
   ]
  },
  {
   "cell_type": "code",
   "execution_count": 4,
   "metadata": {
    "collapsed": false
   },
   "outputs": [
    {
     "data": {
      "text/plain": [
       "[800, 712, 624, 536]"
      ]
     },
     "execution_count": 4,
     "metadata": {},
     "output_type": "execute_result"
    }
   ],
   "source": [
    "# start from 800 go to 512 by -88\n",
    "list(range(800, 512, -88))"
   ]
  },
  {
   "cell_type": "code",
   "execution_count": 10,
   "metadata": {
    "collapsed": false
   },
   "outputs": [
    {
     "data": {
      "text/plain": [
       "range(3, 20, 4)"
      ]
     },
     "execution_count": 10,
     "metadata": {},
     "output_type": "execute_result"
    }
   ],
   "source": [
    "# stays a range object\n",
    "# almost no evaluation happens\n",
    "a=range(3, 20, 4)\n",
    "a"
   ]
  },
  {
   "cell_type": "code",
   "execution_count": 11,
   "metadata": {
    "collapsed": false
   },
   "outputs": [
    {
     "data": {
      "text/plain": [
       "range"
      ]
     },
     "execution_count": 11,
     "metadata": {},
     "output_type": "execute_result"
    }
   ],
   "source": [
    "type(a)"
   ]
  },
  {
   "cell_type": "markdown",
   "metadata": {},
   "source": [
    "### Mutating Slices of lists\n",
    "It's possible to reassign multiple elements of a list with a single element."
   ]
  },
  {
   "cell_type": "code",
   "execution_count": 8,
   "metadata": {
    "collapsed": false
   },
   "outputs": [
    {
     "data": {
      "text/plain": [
       "[0, 1, 2, 3, 4, 5, 6, 7, 8, 9, 10, 11, 12, 13, 14, 15, 16, 17, 18, 19]"
      ]
     },
     "execution_count": 8,
     "metadata": {},
     "output_type": "execute_result"
    }
   ],
   "source": [
    "# Lets first create a list of numbers from 0 to 20\n",
    "my_list = list(range(20))\n",
    "my_list"
   ]
  },
  {
   "cell_type": "code",
   "execution_count": 9,
   "metadata": {
    "collapsed": false
   },
   "outputs": [
    {
     "data": {
      "text/plain": [
       "[0, 1, 2, 3, 4, 5, 6, 7, 8, 9, 10, 'greater than 10']"
      ]
     },
     "execution_count": 9,
     "metadata": {},
     "output_type": "execute_result"
    }
   ],
   "source": [
    "# assign all numbers greater than 10 to 'greater than 10'\n",
    "my_list[11:] = ['greater than 10']\n",
    "my_list"
   ]
  },
  {
   "cell_type": "markdown",
   "metadata": {},
   "source": [
    "### Problem 3\n",
    "<span style=\"color:green\">Notice above that 'greater than 10' was surrounded by [ ]. This means that ['greater than 10'] is a list. Do the same operation as the cell above except without the [ ]. What happens?</span> "
   ]
  },
  {
   "cell_type": "code",
   "execution_count": 10,
   "metadata": {
    "collapsed": false
   },
   "outputs": [
    {
     "data": {
      "text/plain": [
       "[0,\n",
       " 1,\n",
       " 2,\n",
       " 3,\n",
       " 4,\n",
       " 5,\n",
       " 6,\n",
       " 7,\n",
       " 8,\n",
       " 9,\n",
       " 10,\n",
       " 'g',\n",
       " 'r',\n",
       " 'e',\n",
       " 'a',\n",
       " 't',\n",
       " 'e',\n",
       " 'r',\n",
       " ' ',\n",
       " 't',\n",
       " 'h',\n",
       " 'a',\n",
       " 'n',\n",
       " ' ',\n",
       " '1',\n",
       " '0']"
      ]
     },
     "execution_count": 10,
     "metadata": {},
     "output_type": "execute_result"
    }
   ],
   "source": [
    "my_list[11:]='greater than 10'\n",
    "my_list"
   ]
  },
  {
   "cell_type": "markdown",
   "metadata": {},
   "source": [
    "### Problem 4\n",
    "<span style=\"color:green\">Create a list of 10 elements starting from 0 using the range function. Slice the list from the 2nd element to the 6th element with a step size of 2 and attempt to assign a single element list to it. What happens?</span> "
   ]
  },
  {
   "cell_type": "code",
   "execution_count": 31,
   "metadata": {
    "collapsed": false
   },
   "outputs": [
    {
     "ename": "ValueError",
     "evalue": "attempt to assign sequence of size 1 to extended slice of size 2",
     "output_type": "error",
     "traceback": [
      "\u001b[0;31m---------------------------------------------------------------------------\u001b[0m",
      "\u001b[0;31mValueError\u001b[0m                                Traceback (most recent call last)",
      "\u001b[0;32m<ipython-input-31-dfaff3e6686f>\u001b[0m in \u001b[0;36m<module>\u001b[0;34m()\u001b[0m\n\u001b[1;32m      1\u001b[0m \u001b[0mnew_list\u001b[0m \u001b[0;34m=\u001b[0m \u001b[0mlist\u001b[0m\u001b[0;34m(\u001b[0m\u001b[0mrange\u001b[0m\u001b[0;34m(\u001b[0m\u001b[0;36m10\u001b[0m\u001b[0;34m)\u001b[0m\u001b[0;34m)\u001b[0m\u001b[0;34m\u001b[0m\u001b[0m\n\u001b[0;32m----> 2\u001b[0;31m \u001b[0mnew_list\u001b[0m\u001b[0;34m[\u001b[0m\u001b[0;36m2\u001b[0m\u001b[0;34m:\u001b[0m\u001b[0;36m6\u001b[0m\u001b[0;34m:\u001b[0m\u001b[0;36m2\u001b[0m\u001b[0;34m]\u001b[0m \u001b[0;34m=\u001b[0m \u001b[0;34m[\u001b[0m\u001b[0;36m2\u001b[0m\u001b[0;34m]\u001b[0m\u001b[0;34m\u001b[0m\u001b[0m\n\u001b[0m\u001b[1;32m      3\u001b[0m \u001b[0mnew_list\u001b[0m\u001b[0;34m\u001b[0m\u001b[0m\n\u001b[1;32m      4\u001b[0m \u001b[0;34m\u001b[0m\u001b[0m\n",
      "\u001b[0;31mValueError\u001b[0m: attempt to assign sequence of size 1 to extended slice of size 2"
     ]
    }
   ],
   "source": [
    "new_list = list(range(10))\n",
    "new_list[2:6:2] = [2]\n",
    "new_list\n",
    "\n"
   ]
  },
  {
   "cell_type": "markdown",
   "metadata": {},
   "source": [
    "### Problem 5\n",
    "<span style=\"color:green\">After the error above in problem 4, try and assign a different list to that slice that does not raise an error. What is the rule for assigning new elements to slices of lists?</span> "
   ]
  },
  {
   "cell_type": "code",
   "execution_count": 43,
   "metadata": {
    "collapsed": false
   },
   "outputs": [
    {
     "data": {
      "text/plain": [
       "[0, 1, 100, 3, 200, 5, 6, 7, 8, 9]"
      ]
     },
     "execution_count": 43,
     "metadata": {},
     "output_type": "execute_result"
    }
   ],
   "source": [
    "new_list = list(range(10))\n",
    "new_list[2:6:2] = [100,200]\n",
    "new_list"
   ]
  },
  {
   "cell_type": "markdown",
   "metadata": {},
   "source": [
    "### The `slice` function\n",
    "Rarely used but occasionally very useful is the **`slice`** function, which again uses the same start, stop, step notation. The slice function returns a slice object which you can assign to a variable and place inside the **`[ ]`** of a list to slice. It takes the place of the `start:stop:step` notation."
   ]
  },
  {
   "cell_type": "code",
   "execution_count": 1,
   "metadata": {
    "collapsed": false
   },
   "outputs": [
    {
     "data": {
      "text/plain": [
       "[0, 1, 2, 3, 4, 5, 6, 7, 8, 9, 10, 11, 12, 13, 14, 15, 16, 17, 18, 19]"
      ]
     },
     "execution_count": 1,
     "metadata": {},
     "output_type": "execute_result"
    }
   ],
   "source": [
    "# First lets create a list\n",
    "my_list = list(range(20)) # create a list\n",
    "my_list"
   ]
  },
  {
   "cell_type": "code",
   "execution_count": 2,
   "metadata": {
    "collapsed": false
   },
   "outputs": [
    {
     "data": {
      "text/plain": [
       "[4, 7, 10, 13]"
      ]
     },
     "execution_count": 2,
     "metadata": {},
     "output_type": "execute_result"
    }
   ],
   "source": [
    "# create a slice object and use it to slice from the 4th index up to the 15th by 3\n",
    "my_slice = slice(4, 15, 3)\n",
    "my_list[my_slice]"
   ]
  },
  {
   "cell_type": "code",
   "execution_count": 3,
   "metadata": {
    "collapsed": false
   },
   "outputs": [
    {
     "data": {
      "text/plain": [
       "[4, 7, 10, 13]"
      ]
     },
     "execution_count": 3,
     "metadata": {},
     "output_type": "execute_result"
    }
   ],
   "source": [
    "# Which is the same as\n",
    "my_list[4:15:3]"
   ]
  },
  {
   "cell_type": "markdown",
   "metadata": {},
   "source": [
    "### Problem 6\n",
    "<span style=\"color:green\">Create a list using the range function from 100 to 500. Then create a slice object that starts from the 20th element from the end and slices to the end (use keyword `None` for this) by 5. Use this slice object in the list you created.</span> "
   ]
  },
  {
   "cell_type": "code",
   "execution_count": 48,
   "metadata": {
    "collapsed": false
   },
   "outputs": [
    {
     "data": {
      "text/plain": [
       "[480,\n",
       " 475,\n",
       " 470,\n",
       " 465,\n",
       " 460,\n",
       " 455,\n",
       " 450,\n",
       " 445,\n",
       " 440,\n",
       " 435,\n",
       " 430,\n",
       " 425,\n",
       " 420,\n",
       " 415,\n",
       " 410,\n",
       " 405,\n",
       " 400,\n",
       " 395,\n",
       " 390,\n",
       " 385,\n",
       " 380,\n",
       " 375,\n",
       " 370,\n",
       " 365,\n",
       " 360,\n",
       " 355,\n",
       " 350,\n",
       " 345,\n",
       " 340,\n",
       " 335,\n",
       " 330,\n",
       " 325,\n",
       " 320,\n",
       " 315,\n",
       " 310,\n",
       " 305,\n",
       " 300,\n",
       " 295,\n",
       " 290,\n",
       " 285,\n",
       " 280,\n",
       " 275,\n",
       " 270,\n",
       " 265,\n",
       " 260,\n",
       " 255,\n",
       " 250,\n",
       " 245,\n",
       " 240,\n",
       " 235,\n",
       " 230,\n",
       " 225,\n",
       " 220,\n",
       " 215,\n",
       " 210,\n",
       " 205,\n",
       " 200,\n",
       " 195,\n",
       " 190,\n",
       " 185,\n",
       " 180,\n",
       " 175,\n",
       " 170,\n",
       " 165,\n",
       " 160,\n",
       " 155,\n",
       " 150,\n",
       " 145,\n",
       " 140,\n",
       " 135,\n",
       " 130,\n",
       " 125,\n",
       " 120,\n",
       " 115,\n",
       " 110,\n",
       " 105,\n",
       " 100]"
      ]
     },
     "execution_count": 48,
     "metadata": {},
     "output_type": "execute_result"
    }
   ],
   "source": [
    "my_list = list(range(100,500))\n",
    "my_slice = slice(-20,-500,-5)\n",
    "my_list[my_slice]\n"
   ]
  },
  {
   "cell_type": "markdown",
   "metadata": {},
   "source": [
    "### Deleting with the `del` operator\n",
    "In Python it's possible to delete variables and completely remove them from the program."
   ]
  },
  {
   "cell_type": "code",
   "execution_count": 53,
   "metadata": {
    "collapsed": true
   },
   "outputs": [],
   "source": [
    "# create a variable and then delete it\n",
    "var = 'some variable'\n",
    "del var"
   ]
  },
  {
   "cell_type": "code",
   "execution_count": 54,
   "metadata": {
    "collapsed": false
   },
   "outputs": [
    {
     "ename": "NameError",
     "evalue": "name 'var' is not defined",
     "output_type": "error",
     "traceback": [
      "\u001b[0;31m---------------------------------------------------------------------------\u001b[0m",
      "\u001b[0;31mNameError\u001b[0m                                 Traceback (most recent call last)",
      "\u001b[0;32m<ipython-input-54-128eb2045269>\u001b[0m in \u001b[0;36m<module>\u001b[0;34m()\u001b[0m\n\u001b[1;32m      1\u001b[0m \u001b[0;31m# now try and access that variable and get an error\u001b[0m\u001b[0;34m\u001b[0m\u001b[0;34m\u001b[0m\u001b[0m\n\u001b[0;32m----> 2\u001b[0;31m \u001b[0mvar\u001b[0m\u001b[0;34m\u001b[0m\u001b[0m\n\u001b[0m",
      "\u001b[0;31mNameError\u001b[0m: name 'var' is not defined"
     ]
    }
   ],
   "source": [
    "# now try and access that variable and get an error\n",
    "var"
   ]
  },
  {
   "cell_type": "markdown",
   "metadata": {},
   "source": [
    "### Deleting elements in a list\n",
    "More useful than just deleting a variable is the ability to delete elements of a list, or any portion of mutable objects (as you will see in Pandas).\n",
    "\n",
    "It is possible to delete single elements and even slices so this operation is quite versatile."
   ]
  },
  {
   "cell_type": "code",
   "execution_count": 55,
   "metadata": {
    "collapsed": false
   },
   "outputs": [
    {
     "data": {
      "text/plain": [
       "[0, 1, 2, 3, 4, 5, 6, 7, 8, 9, 10, 11, 12, 13, 14, 15, 16, 17, 18, 19]"
      ]
     },
     "execution_count": 55,
     "metadata": {},
     "output_type": "execute_result"
    }
   ],
   "source": [
    "# create a list\n",
    "my_list = list(range(20))\n",
    "my_list"
   ]
  },
  {
   "cell_type": "code",
   "execution_count": 56,
   "metadata": {
    "collapsed": false
   },
   "outputs": [
    {
     "data": {
      "text/plain": [
       "[0, 1, 2, 3, 4, 5, 6, 7, 9, 10, 11, 12, 13, 14, 15, 16, 17, 18, 19]"
      ]
     },
     "execution_count": 56,
     "metadata": {},
     "output_type": "execute_result"
    }
   ],
   "source": [
    "# delete the element at the 8th index\n",
    "del my_list[8]\n",
    "my_list"
   ]
  },
  {
   "cell_type": "code",
   "execution_count": 57,
   "metadata": {
    "collapsed": false
   },
   "outputs": [
    {
     "data": {
      "text/plain": [
       "[0, 1, 2, 3, 13, 14, 15, 16, 17, 18, 19]"
      ]
     },
     "execution_count": 57,
     "metadata": {},
     "output_type": "execute_result"
    }
   ],
   "source": [
    "# delete a slice from the 4th to the 12th element\n",
    "del my_list[4:12]\n",
    "my_list"
   ]
  },
  {
   "cell_type": "code",
   "execution_count": 58,
   "metadata": {
    "collapsed": false
   },
   "outputs": [
    {
     "data": {
      "text/plain": [
       "[0, 1, 2, 4, 5, 7, 8, 10, 11, 13, 14, 16, 17, 19]"
      ]
     },
     "execution_count": 58,
     "metadata": {},
     "output_type": "execute_result"
    }
   ],
   "source": [
    "# delete from the 3rd to the last element with a step size of 3\n",
    "my_list = list(range(20))\n",
    "del my_list[3::3]\n",
    "my_list"
   ]
  },
  {
   "cell_type": "markdown",
   "metadata": {},
   "source": [
    "### Creating a list out a string\n",
    "There is a function **`list`** that is used to force objects of other types to become a list. One use of this is to convert a string to a list. Every character in the string is now an element in the list."
   ]
  },
  {
   "cell_type": "code",
   "execution_count": 14,
   "metadata": {
    "collapsed": false
   },
   "outputs": [
    {
     "name": "stdout",
     "output_type": "stream",
     "text": [
      "['s', 't', 'r', 'i', 'n', 'g', ' ', 'a', 'b', 'o', 'u', 't', ' ', 't', 'o', ' ', 'b', 'e', ' ', 'a', ' ', 'l', 'i', 's', 't']\n"
     ]
    }
   ],
   "source": [
    "# create a list of characters from a string\n",
    "my_string = 'string about to be a list'\n",
    "print(list(my_string))"
   ]
  },
  {
   "cell_type": "markdown",
   "metadata": {},
   "source": [
    "### Problem 7\n",
    "<span style=\"color:green\">Create a list of characters using the list function on a string. Delete elements starting from index 2 up to index 6. Output the new list.\n",
    "</span> "
   ]
  },
  {
   "cell_type": "code",
   "execution_count": 59,
   "metadata": {
    "collapsed": false
   },
   "outputs": [
    {
     "name": "stdout",
     "output_type": "stream",
     "text": [
      "Old String: ['T', 'h', 'i', 's', ' ', 'i', 's', ' ', 'm', 'y', ' ', 'm', 'a', 'd', 'e', 'u', 'p', ' ', 's', 't', 'r', 'i', 'n', 'g']\n",
      "New String: ['T', 'h', 's', ' ', 'm', 'y', ' ', 'm', 'a', 'd', 'e', 'u', 'p', ' ', 's', 't', 'r', 'i', 'n', 'g']\n"
     ]
    }
   ],
   "source": [
    "my_string = 'This is my madeup string'\n",
    "new_list = (list(my_string))\n",
    "print \"Old String:\",new_list\n",
    "del new_list[2:6]\n",
    "print \"New String:\", new_list\n",
    "\n"
   ]
  },
  {
   "cell_type": "markdown",
   "metadata": {},
   "source": [
    "### Advanced: Problem 8\n",
    "<span style=\"color:green\">Create a list using the range function from 352 to 5218 by 7. Delete elements starting from the index that is 100th from the end up to the 8th element from the end by 6. Without printing out the entire list, what is the last number that was deleted from your original list? \n",
    "</span> "
   ]
  },
  {
   "cell_type": "code",
   "execution_count": 65,
   "metadata": {
    "collapsed": false
   },
   "outputs": [],
   "source": [
    "my_list = list(range(352,5218,7))\n",
    "del my_list[-100:-8:-6]\n",
    "\n"
   ]
  },
  {
   "cell_type": "markdown",
   "metadata": {},
   "source": [
    "### Creating a string out of a list\n",
    "Just like we created a list from a string, it is possible to create a string from a list. First, you must have a list of strings that you would like to concatenate together to make one long string. All the elements are joined together by a separating string using the **`join`** method."
   ]
  },
  {
   "cell_type": "code",
   "execution_count": 62,
   "metadata": {
    "collapsed": false
   },
   "outputs": [
    {
     "data": {
      "text/plain": [
       "'humpty dumpty sat on a wall'"
      ]
     },
     "execution_count": 62,
     "metadata": {},
     "output_type": "execute_result"
    }
   ],
   "source": [
    "# Create a list of strings\n",
    "list_of_strings = ['humpty', 'dumpty', 'sat', 'on', 'a', 'wall']\n",
    "\n",
    "# choose a string that will act as the separator between each string element\n",
    "# lets just use a blank space\n",
    "separator = ' '\n",
    "\n",
    "# use the join string method to create one string from the list of strings\n",
    "separator.join(list_of_strings)"
   ]
  },
  {
   "cell_type": "code",
   "execution_count": 63,
   "metadata": {
    "collapsed": false
   },
   "outputs": [
    {
     "data": {
      "text/plain": [
       "'humpty dumpty sat on a wall'"
      ]
     },
     "execution_count": 63,
     "metadata": {},
     "output_type": "execute_result"
    }
   ],
   "source": [
    "# do the same thing without assigning the separator variable first\n",
    "' '.join(list_of_strings)"
   ]
  },
  {
   "cell_type": "code",
   "execution_count": 64,
   "metadata": {
    "collapsed": false
   },
   "outputs": [
    {
     "data": {
      "text/plain": [
       "'humpty 001111000 dumpty 001111000 sat 001111000 on 001111000 a 001111000 wall'"
      ]
     },
     "execution_count": 64,
     "metadata": {},
     "output_type": "execute_result"
    }
   ],
   "source": [
    "# use any other set of characters as the separator\n",
    "' 001111000 '.join(list_of_strings)"
   ]
  },
  {
   "cell_type": "markdown",
   "metadata": {},
   "source": [
    "### Problem 9\n",
    "<span style=\"color:green\">Use the character 'a' to separate and join the following list to reveal the magic word </span>"
   ]
  },
  {
   "cell_type": "code",
   "execution_count": 66,
   "metadata": {
    "collapsed": false
   },
   "outputs": [
    {
     "data": {
      "text/plain": [
       "'abaracadabara!'"
      ]
     },
     "execution_count": 66,
     "metadata": {},
     "output_type": "execute_result"
    }
   ],
   "source": [
    "# concatenate all elements of this list together separated by 'a'\n",
    "magic_word = ['', 'b', 'r', 'c', 'd', 'b', 'r', '!']\n",
    "'a'.join(magic_word)"
   ]
  },
  {
   "cell_type": "markdown",
   "metadata": {},
   "source": [
    "### List Concatenation\n",
    "Lists are concatenated in the same way strings are - with the plus (+) operator"
   ]
  },
  {
   "cell_type": "code",
   "execution_count": 66,
   "metadata": {
    "collapsed": false
   },
   "outputs": [
    {
     "data": {
      "text/plain": [
       "[1, 2, 3, 4, 5, 6]"
      ]
     },
     "execution_count": 66,
     "metadata": {},
     "output_type": "execute_result"
    }
   ],
   "source": [
    "list_1 = [1,2,3]\n",
    "list_2 = [4, 5, 6]\n",
    "list_1 + list_2"
   ]
  },
  {
   "cell_type": "code",
   "execution_count": 67,
   "metadata": {
    "collapsed": true
   },
   "outputs": [],
   "source": [
    "# there is also the extend method, which concatenates lists in-place\n",
    "list_1 = ['a', 'b', 'c']\n",
    "list_1.extend([1,2,3]) # Returns None (no output) and the operation happens in-place"
   ]
  },
  {
   "cell_type": "code",
   "execution_count": 68,
   "metadata": {
    "collapsed": false
   },
   "outputs": [
    {
     "data": {
      "text/plain": [
       "['a', 'b', 'c', 1, 2, 3]"
      ]
     },
     "execution_count": 68,
     "metadata": {},
     "output_type": "execute_result"
    }
   ],
   "source": [
    "# output the list to see extend worked properly\n",
    "list_1"
   ]
  },
  {
   "cell_type": "markdown",
   "metadata": {},
   "source": [
    "### List Equality\n",
    "Two equal signs can be used to test equality of lists. Lists must have all elements in the same exact order."
   ]
  },
  {
   "cell_type": "code",
   "execution_count": 69,
   "metadata": {
    "collapsed": false
   },
   "outputs": [
    {
     "data": {
      "text/plain": [
       "True"
      ]
     },
     "execution_count": 69,
     "metadata": {},
     "output_type": "execute_result"
    }
   ],
   "source": [
    "# checking equality\n",
    "list_1 = list(range(5))\n",
    "list_2 = [0, 1, 2, 3, 4]\n",
    "list_1 == list_2"
   ]
  },
  {
   "cell_type": "code",
   "execution_count": 70,
   "metadata": {
    "collapsed": false
   },
   "outputs": [
    {
     "data": {
      "text/plain": [
       "True"
      ]
     },
     "execution_count": 70,
     "metadata": {},
     "output_type": "execute_result"
    }
   ],
   "source": [
    "# can even use the special method __eq__\n",
    "list_1.__eq__(list_2)"
   ]
  },
  {
   "cell_type": "code",
   "execution_count": 71,
   "metadata": {
    "collapsed": false
   },
   "outputs": [
    {
     "data": {
      "text/plain": [
       "True"
      ]
     },
     "execution_count": 71,
     "metadata": {},
     "output_type": "execute_result"
    }
   ],
   "source": [
    "# slicing and concatenating list and checking equality\n",
    "list_1[:3] + list_1[3:] == list_1"
   ]
  },
  {
   "cell_type": "markdown",
   "metadata": {},
   "source": [
    "### Problem 10\n",
    "<span style=\"color:green\">use the + operator to concatenate two lists. Make the first list the even elements of test_list and the second list the odd elements of test_list</span>"
   ]
  },
  {
   "cell_type": "code",
   "execution_count": 85,
   "metadata": {
    "collapsed": false
   },
   "outputs": [
    {
     "data": {
      "text/plain": [
       "[0, 2, 4, 6, 8, 10, 12, 14, 16, 18, 1, 3, 5, 7, 9, 11, 13, 15, 17, 19]"
      ]
     },
     "execution_count": 85,
     "metadata": {},
     "output_type": "execute_result"
    }
   ],
   "source": [
    "test_list = list(range(20))\n",
    "first_list=test_list[:20:2]\n",
    "second_list = test_list[1:20:2]\n",
    "final_list = first_list+second_list\n",
    "final_list\n",
    "\n"
   ]
  },
  {
   "cell_type": "markdown",
   "metadata": {},
   "source": [
    "### Problem 11\n",
    "<span style=\"color:green\">Create a list then use the `extend` method to add elements to it</span>"
   ]
  },
  {
   "cell_type": "code",
   "execution_count": 99,
   "metadata": {
    "collapsed": false
   },
   "outputs": [
    {
     "data": {
      "text/plain": [
       "[12, 24, 34, 56, 78, 1000, 2000, 3000]"
      ]
     },
     "execution_count": 99,
     "metadata": {},
     "output_type": "execute_result"
    }
   ],
   "source": [
    "old_list = [12,24,34,56,78]\n",
    "old_list.extend([1000,2000,3000])\n",
    "old_list\n"
   ]
  },
  {
   "cell_type": "markdown",
   "metadata": {},
   "source": [
    "### Problem 12\n",
    "<span style=\"color:green\">In words, without actually programming, what will <strong>my_list * 5</strong> do?</span>"
   ]
  },
  {
   "cell_type": "markdown",
   "metadata": {},
   "source": [
    "Repeats it five times."
   ]
  },
  {
   "cell_type": "markdown",
   "metadata": {},
   "source": [
    "### Lists of Lists\n",
    "Lists of lists are similar to n-dimensional arrays in scientific computing"
   ]
  },
  {
   "cell_type": "code",
   "execution_count": 74,
   "metadata": {
    "collapsed": true
   },
   "outputs": [],
   "source": [
    "# create a list of lists\n",
    "# lists can even contain functions\n",
    "list_list = [[1, 2, 3], [5,6], [90, 100, 109], max]"
   ]
  },
  {
   "cell_type": "code",
   "execution_count": 75,
   "metadata": {
    "collapsed": false
   },
   "outputs": [
    {
     "data": {
      "text/plain": [
       "8"
      ]
     },
     "execution_count": 75,
     "metadata": {},
     "output_type": "execute_result"
    }
   ],
   "source": [
    "# get the max of two numbers in a really bizarre way\n",
    "list_list[3](5,8)"
   ]
  },
  {
   "cell_type": "code",
   "execution_count": 76,
   "metadata": {
    "collapsed": false
   },
   "outputs": [
    {
     "data": {
      "text/plain": [
       "[1, 2, 3]"
      ]
     },
     "execution_count": 76,
     "metadata": {},
     "output_type": "execute_result"
    }
   ],
   "source": [
    "# What happens when we access the first element?\n",
    "list_list[0]"
   ]
  },
  {
   "cell_type": "code",
   "execution_count": 77,
   "metadata": {
    "collapsed": false
   },
   "outputs": [
    {
     "data": {
      "text/plain": [
       "3"
      ]
     },
     "execution_count": 77,
     "metadata": {},
     "output_type": "execute_result"
    }
   ],
   "source": [
    "# How to access nested lists\n",
    "list_list[0][2]"
   ]
  },
  {
   "cell_type": "code",
   "execution_count": 78,
   "metadata": {
    "collapsed": false
   },
   "outputs": [
    {
     "data": {
      "text/plain": [
       "3"
      ]
     },
     "execution_count": 78,
     "metadata": {},
     "output_type": "execute_result"
    }
   ],
   "source": [
    "# Use different indices to get the same item\n",
    "list_list[-4][-1]"
   ]
  },
  {
   "cell_type": "code",
   "execution_count": 79,
   "metadata": {
    "collapsed": false
   },
   "outputs": [
    {
     "data": {
      "text/plain": [
       "[100, 109]"
      ]
     },
     "execution_count": 79,
     "metadata": {},
     "output_type": "execute_result"
    }
   ],
   "source": [
    "# get a  slice of a list of a list\n",
    "list_list[2][1:]"
   ]
  },
  {
   "cell_type": "code",
   "execution_count": 80,
   "metadata": {
    "collapsed": false
   },
   "outputs": [
    {
     "data": {
      "text/plain": [
       "[[1, 2, 3], [5, 6], [90, 900, 909], <function max>]"
      ]
     },
     "execution_count": 80,
     "metadata": {},
     "output_type": "execute_result"
    }
   ],
   "source": [
    "# mutate this list of list\n",
    "list_list[2][1:] = [900, 909]\n",
    "list_list"
   ]
  },
  {
   "cell_type": "markdown",
   "metadata": {},
   "source": [
    "### Problem 13\n",
    "<span style=\"color:green\">First create a list containing at least three inner lists. Then replace the second list with a reverse of the third list.</span>"
   ]
  },
  {
   "cell_type": "code",
   "execution_count": 112,
   "metadata": {
    "collapsed": false
   },
   "outputs": [
    {
     "data": {
      "text/plain": [
       "[[23, 34, 45, 56], [76, 65, 54, 43], [43, 54, 65, 76]]"
      ]
     },
     "execution_count": 112,
     "metadata": {},
     "output_type": "execute_result"
    }
   ],
   "source": [
    "list_hello= [[23,34,45,56],[90,80,70,60],[43,54,65,76]]\n",
    "list_hello[1]=list_hello[2][-1::-1]\n",
    "list_hello"
   ]
  },
  {
   "cell_type": "markdown",
   "metadata": {},
   "source": [
    "### Check item is in list\n",
    "To determine if an element is contained within a list the **`in`** or **`not in`** operator is used. This is done in the same way as checking for a substring in a string with `in` (and `not in`) keywords."
   ]
  },
  {
   "cell_type": "code",
   "execution_count": 83,
   "metadata": {
    "collapsed": false
   },
   "outputs": [
    {
     "data": {
      "text/plain": [
       "True"
      ]
     },
     "execution_count": 83,
     "metadata": {},
     "output_type": "execute_result"
    }
   ],
   "source": [
    "# check list membership\n",
    "my_list = [6, 'word', 2]\n",
    "6 in my_list"
   ]
  },
  {
   "cell_type": "code",
   "execution_count": 84,
   "metadata": {
    "collapsed": false
   },
   "outputs": [
    {
     "data": {
      "text/plain": [
       "False"
      ]
     },
     "execution_count": 84,
     "metadata": {},
     "output_type": "execute_result"
    }
   ],
   "source": [
    "12 in my_list"
   ]
  },
  {
   "cell_type": "code",
   "execution_count": 85,
   "metadata": {
    "collapsed": false
   },
   "outputs": [
    {
     "data": {
      "text/plain": [
       "True"
      ]
     },
     "execution_count": 85,
     "metadata": {},
     "output_type": "execute_result"
    }
   ],
   "source": [
    "5 not in my_list"
   ]
  },
  {
   "cell_type": "markdown",
   "metadata": {},
   "source": [
    "### Problem 14\n",
    "<span style=\"color:green\">Create a list using the range function from 0 to 100,000 by 113 and determine if the value 87,649 is in the list or not.</span>"
   ]
  },
  {
   "cell_type": "code",
   "execution_count": 133,
   "metadata": {
    "collapsed": false
   },
   "outputs": [
    {
     "data": {
      "text/plain": [
       "False"
      ]
     },
     "execution_count": 133,
     "metadata": {},
     "output_type": "execute_result"
    }
   ],
   "source": [
    "new_list = (range(0,100000,113))\n",
    "87649 in new_list\n"
   ]
  },
  {
   "cell_type": "markdown",
   "metadata": {},
   "source": [
    "### Congrats on finishing notebook 3!\n",
    "Keep going to notebook 4!"
   ]
  }
 ],
 "metadata": {
  "anaconda-cloud": {},
  "kernelspec": {
   "display_name": "Python [default]",
   "language": "python",
   "name": "python2"
  },
  "language_info": {
   "codemirror_mode": {
    "name": "ipython",
    "version": 2
   },
   "file_extension": ".py",
   "mimetype": "text/x-python",
   "name": "python",
   "nbconvert_exporter": "python",
   "pygments_lexer": "ipython2",
   "version": "2.7.12"
  }
 },
 "nbformat": 4,
 "nbformat_minor": 0
}
