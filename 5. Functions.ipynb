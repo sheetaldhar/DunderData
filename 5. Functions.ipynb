{
 "cells": [
  {
   "cell_type": "markdown",
   "metadata": {},
   "source": [
    "# Functions\n",
    "\n",
    "Functions are fundamental to all programming languages and have already been utilized quite a bit before this notebook. A function is a group of the same reusable programming statements that can be repeatedly called with a reference to the function name. Functions allow you to store code that you would like to reference over and over again without having to rewrite that same code for each execution. All functions must return a Python object (even if it is `None`).\n",
    "\n",
    "### Built-in Functions\n",
    "Python comes standard with about [70 builtin functions](https://docs.python.org/3.4/library/functions.html) for the most common and important tasks. These are functions that are ready to use without any need to import them from other modules. The Python standard library contains many modules with access to hundred's of other functions that do require the **`import`** statement. And thanks to Python being open source, many tens of thousands of 3rd party libraries with functions for anything you can imagine have been built."
   ]
  },
  {
   "cell_type": "markdown",
   "metadata": {},
   "source": [
    "### Calling Basic Functions\n",
    "Functions are referenced by their name and are always followed by parentheses. Inside the parentheses are a list of comma separated **arguments** that are either references to variables or literal values\n",
    "\n",
    "### Using built-in functions\n",
    "Below are some examples of using built-in functions. These will all be colored green (or some color) in most editors."
   ]
  },
  {
   "cell_type": "code",
   "execution_count": 9,
   "metadata": {
    "collapsed": false
   },
   "outputs": [
    {
     "data": {
      "text/plain": [
       "5"
      ]
     },
     "execution_count": 9,
     "metadata": {},
     "output_type": "execute_result"
    }
   ],
   "source": [
    "# take the absolute value of a number\n",
    "abs(-5)"
   ]
  },
  {
   "cell_type": "code",
   "execution_count": 10,
   "metadata": {
    "collapsed": false
   },
   "outputs": [
    {
     "data": {
      "text/plain": [
       "8"
      ]
     },
     "execution_count": 10,
     "metadata": {},
     "output_type": "execute_result"
    }
   ],
   "source": [
    "# get the max of two values\n",
    "max(5, 8)"
   ]
  },
  {
   "cell_type": "code",
   "execution_count": 13,
   "metadata": {
    "collapsed": false
   },
   "outputs": [
    {
     "data": {
      "text/plain": [
       "6"
      ]
     },
     "execution_count": 13,
     "metadata": {},
     "output_type": "execute_result"
    }
   ],
   "source": [
    "# truncate a float to make an int\n",
    "int(6.92378)"
   ]
  },
  {
   "cell_type": "code",
   "execution_count": 14,
   "metadata": {
    "collapsed": false
   },
   "outputs": [
    {
     "data": {
      "text/plain": [
       "4"
      ]
     },
     "execution_count": 14,
     "metadata": {},
     "output_type": "execute_result"
    }
   ],
   "source": [
    "# Get the length of a list\n",
    "my_list = [8, 0, 'asf', True]\n",
    "len(my_list)"
   ]
  },
  {
   "cell_type": "markdown",
   "metadata": {},
   "source": [
    "### How to find out how functions work?\n",
    "Its quite unlikely that you will remember how to use all Python functions and the parameters required for each one. Python documentation is quite good and help can be found directly in the notebook. There are three methods that can be used: help function, ?, and shift + tab + tab\n",
    "\n",
    "### Get help using the help function or the question mark (?)\n",
    "You can output the documentation by putting the name of the function inside the help function or by putting a question mark after the name of the function."
   ]
  },
  {
   "cell_type": "code",
   "execution_count": 22,
   "metadata": {
    "collapsed": false
   },
   "outputs": [
    {
     "name": "stdout",
     "output_type": "stream",
     "text": [
      "Help on built-in function max in module builtins:\n",
      "\n",
      "max(...)\n",
      "    max(iterable, *[, default=obj, key=func]) -> value\n",
      "    max(arg1, arg2, *args, *[, key=func]) -> value\n",
      "    \n",
      "    With a single iterable argument, return its biggest item. The\n",
      "    default keyword-only argument specifies an object to return if\n",
      "    the provided iterable is empty.\n",
      "    With two or more arguments, return the largest argument.\n",
      "\n"
     ]
    }
   ],
   "source": [
    "# get help using the help function\n",
    "help(max)"
   ]
  },
  {
   "cell_type": "code",
   "execution_count": 23,
   "metadata": {
    "collapsed": false
   },
   "outputs": [],
   "source": [
    "# get help using ?\n",
    "max?"
   ]
  },
  {
   "cell_type": "markdown",
   "metadata": {},
   "source": [
    "### Shift + tab + tab for help\n",
    "Personally, my favorite way of getting help is to write the name of the function and then press tab twice while holding down the shift key. This pops up the docstring in the cell"
   ]
  },
  {
   "cell_type": "code",
   "execution_count": null,
   "metadata": {
    "collapsed": true
   },
   "outputs": [],
   "source": [
    "# practice shift + tab + tab\n",
    "max"
   ]
  },
  {
   "cell_type": "markdown",
   "metadata": {},
   "source": [
    "### What does the help function say about the max function?\n",
    "Docstrings can be confusing for the novice and the description for `max` certainly seems pretty cryptic when first looking at it. The first two lines of the docstring show you the two ways you can invoke the `max` function. You can either pass it an iterable or any number of objects separated by commas.\n",
    "\n",
    "Let's see the `max` function used in different ways described by the documentation."
   ]
  },
  {
   "cell_type": "code",
   "execution_count": 39,
   "metadata": {
    "collapsed": false
   },
   "outputs": [
    {
     "data": {
      "text/plain": [
       "5"
      ]
     },
     "execution_count": 39,
     "metadata": {},
     "output_type": "execute_result"
    }
   ],
   "source": [
    "# pass max an iterable - here a list of numbers\n",
    "max([1, 2, 5, -9])"
   ]
  },
  {
   "cell_type": "code",
   "execution_count": 40,
   "metadata": {
    "collapsed": false
   },
   "outputs": [
    {
     "data": {
      "text/plain": [
       "'w'"
      ]
     },
     "execution_count": 40,
     "metadata": {},
     "output_type": "execute_result"
    }
   ],
   "source": [
    "# pass max an iterable - here a string\n",
    "max('lkjhweruih')"
   ]
  },
  {
   "cell_type": "code",
   "execution_count": 42,
   "metadata": {
    "collapsed": false
   },
   "outputs": [
    {
     "data": {
      "text/plain": [
       "9"
      ]
     },
     "execution_count": 42,
     "metadata": {},
     "output_type": "execute_result"
    }
   ],
   "source": [
    "# pass max many comma separated values\n",
    "max(5, 8, 9)"
   ]
  },
  {
   "cell_type": "code",
   "execution_count": 43,
   "metadata": {
    "collapsed": false
   },
   "outputs": [
    {
     "data": {
      "text/plain": [
       "'p'"
      ]
     },
     "execution_count": 43,
     "metadata": {},
     "output_type": "execute_result"
    }
   ],
   "source": [
    "# pass max more comma separated values\n",
    "max('a', 'd', 'p')"
   ]
  },
  {
   "cell_type": "code",
   "execution_count": 73,
   "metadata": {
    "collapsed": false
   },
   "outputs": [
    {
     "data": {
      "text/plain": [
       "10"
      ]
     },
     "execution_count": 73,
     "metadata": {},
     "output_type": "execute_result"
    }
   ],
   "source": [
    "# advanced usage\n",
    "# pass max an empty iterable - here an empty list.\n",
    "# The docstring tells us that it will return the value in the 'default' argument when the iterable is empty\n",
    "# more on the keyword argument 'default' soon\n",
    "max([], default=10)"
   ]
  },
  {
   "cell_type": "markdown",
   "metadata": {},
   "source": [
    "### What is an iterable?\n",
    "Python documentation has a fantastic glossary to look up common Python terms. [Direct link to iterable in glossary](https://docs.python.org/3/glossary.html#term-iterable)"
   ]
  },
  {
   "cell_type": "markdown",
   "metadata": {},
   "source": [
    "### Problem 1\n",
    "\n",
    "<span style=\"color:green\">Create three different variables with three different data types then use the `type` function to verify that the types are indeed different</span>"
   ]
  },
  {
   "cell_type": "code",
   "execution_count": 10,
   "metadata": {
    "collapsed": false
   },
   "outputs": [
    {
     "name": "stdout",
     "output_type": "stream",
     "text": [
      "x <type 'str'>\n",
      "y <type 'float'>\n",
      "z <type 'bool'>\n"
     ]
    }
   ],
   "source": [
    "x='string'\n",
    "y = 3.45\n",
    "z = True\n",
    "print \"x\", type(x)\n",
    "print \"y\", type(y)\n",
    "print \"z\", type(z)\n"
   ]
  },
  {
   "cell_type": "markdown",
   "metadata": {},
   "source": [
    "### Problem 2\n",
    "\n",
    "<span style=\"color:green\">The `eval` builtin function, takes a string as an argument and executes that string if it were Python code. Create a variable that stores a string that looks like Python code. Then use the `eval` function to execute this code string.</span>"
   ]
  },
  {
   "cell_type": "code",
   "execution_count": 16,
   "metadata": {
    "collapsed": false
   },
   "outputs": [
    {
     "data": {
      "text/plain": [
       "1"
      ]
     },
     "execution_count": 16,
     "metadata": {},
     "output_type": "execute_result"
    }
   ],
   "source": [
    "# your code here\n",
    "code_string = '71%2'\n",
    "eval(code_string)"
   ]
  },
  {
   "cell_type": "markdown",
   "metadata": {},
   "source": [
    "### Problem 3\n",
    "\n",
    "<span style=\"color:green\">Use the help or [read the official documentation](https://docs.python.org/3/library/functions.html) about how to use the `all` and `any` functions and use them correctly below.</span>"
   ]
  },
  {
   "cell_type": "code",
   "execution_count": 27,
   "metadata": {
    "collapsed": false
   },
   "outputs": [
    {
     "name": "stdout",
     "output_type": "stream",
     "text": [
      "False\n",
      "True\n"
     ]
    }
   ],
   "source": [
    "list =[2<1,True,0==0]\n",
    "print all(list)\n",
    "print any(list)"
   ]
  },
  {
   "cell_type": "markdown",
   "metadata": {},
   "source": [
    "### Positional and Keyword arguments\n",
    "There are two types of arguments that can be passed to functions, positional and keyword. Positional arguments always come first and are not named explicitly in the function call. They are passed as the literal value or as a variable name and are in the exact order that the function definition requires. Keyword arguments are explicitly named followed by the equal sign and their value.\n",
    "\n",
    "The print function, which has already been used quite a bit, has both positional and keyword arguments that can be passed to it. First, lets print out the documentation"
   ]
  },
  {
   "cell_type": "code",
   "execution_count": 74,
   "metadata": {
    "collapsed": false
   },
   "outputs": [
    {
     "name": "stdout",
     "output_type": "stream",
     "text": [
      "Help on built-in function print in module builtins:\n",
      "\n",
      "print(...)\n",
      "    print(value, ..., sep=' ', end='\\n', file=sys.stdout, flush=False)\n",
      "    \n",
      "    Prints the values to a stream, or to sys.stdout by default.\n",
      "    Optional keyword arguments:\n",
      "    file:  a file-like object (stream); defaults to the current sys.stdout.\n",
      "    sep:   string inserted between values, default a space.\n",
      "    end:   string appended after the last value, default a newline.\n",
      "    flush: whether to forcibly flush the stream.\n",
      "\n"
     ]
    }
   ],
   "source": [
    "help(print)"
   ]
  },
  {
   "cell_type": "markdown",
   "metadata": {},
   "source": [
    "### Default values for keyword arguments\n",
    "The `print` function can take any number of positional arguments and has four keyword arguments - sep, end, file and flush. Each of the keyword arguments are given a value as a default in this particular instance. Not all functions are defined with default values for their keyword arguments. If a keyword argument has no default values then the programmer must supply one or an error is raised.\n",
    "\n",
    "Let's use the print function with only positional arguments."
   ]
  },
  {
   "cell_type": "code",
   "execution_count": 77,
   "metadata": {
    "collapsed": false
   },
   "outputs": [
    {
     "name": "stdout",
     "output_type": "stream",
     "text": [
      "these 7 words are all positional arguments\n"
     ]
    }
   ],
   "source": [
    "# notice here that print can work with a mix of strings and numbers\n",
    "print('these', 7, 'words', 'are', 'all', 'positional', 'arguments')"
   ]
  },
  {
   "cell_type": "markdown",
   "metadata": {},
   "source": [
    "### Using a keyword argument\n",
    "By default, each argument in the print function is printed to the screen separated by a single space. The print function gives you the ability to change this separation with the `sep` argument."
   ]
  },
  {
   "cell_type": "code",
   "execution_count": 78,
   "metadata": {
    "collapsed": false
   },
   "outputs": [
    {
     "name": "stdout",
     "output_type": "stream",
     "text": [
      "these7wordsareallpositionalarguments\n"
     ]
    }
   ],
   "source": [
    "print('these', 7, 'words', 'are', 'all', 'positional', 'arguments', sep = '')"
   ]
  },
  {
   "cell_type": "markdown",
   "metadata": {},
   "source": [
    "Also by default, a new line character is printed at the end. Let's use multiple print statements to keep printing on the same line by changing the `end` argument."
   ]
  },
  {
   "cell_type": "code",
   "execution_count": 79,
   "metadata": {
    "collapsed": false
   },
   "outputs": [
    {
     "name": "stdout",
     "output_type": "stream",
     "text": [
      "this is sentence one\n",
      "and this is sentence two\n"
     ]
    }
   ],
   "source": [
    "# first show default behavior\n",
    "print('this is sentence one')\n",
    "print('and this is sentence two')"
   ]
  },
  {
   "cell_type": "code",
   "execution_count": 30,
   "metadata": {
    "collapsed": false
   },
   "outputs": [
    {
     "ename": "SyntaxError",
     "evalue": "invalid syntax (<ipython-input-30-7d8ad1412544>, line 2)",
     "output_type": "error",
     "traceback": [
      "\u001b[0;36m  File \u001b[0;32m\"<ipython-input-30-7d8ad1412544>\"\u001b[0;36m, line \u001b[0;32m2\u001b[0m\n\u001b[0;31m    print('this is sentence one', end=\". \")\u001b[0m\n\u001b[0m                                     ^\u001b[0m\n\u001b[0;31mSyntaxError\u001b[0m\u001b[0;31m:\u001b[0m invalid syntax\n"
     ]
    }
   ],
   "source": [
    "# print on same line\n",
    "print('this is sentence one', end=\". \")\n",
    "print('and this is sentence two - now on the same line')\n",
    "print('and this is sentence three on a new line')"
   ]
  },
  {
   "cell_type": "markdown",
   "metadata": {},
   "source": [
    "### Order of arguments\n",
    "Keyword arguments must follow positional arguments or an error will be raised. Keyword arguments themselves can appear in any order."
   ]
  },
  {
   "cell_type": "code",
   "execution_count": 83,
   "metadata": {
    "collapsed": false
   },
   "outputs": [
    {
     "ename": "SyntaxError",
     "evalue": "positional argument follows keyword argument (<ipython-input-83-a38cf5865481>, line 2)",
     "output_type": "error",
     "traceback": [
      "\u001b[0;36m  File \u001b[0;32m\"<ipython-input-83-a38cf5865481>\"\u001b[0;36m, line \u001b[0;32m2\u001b[0m\n\u001b[0;31m    print('keyword', 'argument', sep = 'a', 'not at end')\u001b[0m\n\u001b[0m                                           ^\u001b[0m\n\u001b[0;31mSyntaxError\u001b[0m\u001b[0;31m:\u001b[0m positional argument follows keyword argument\n"
     ]
    }
   ],
   "source": [
    "# error: keyword argument comes before some positional arguments\n",
    "print('keyword', 'argument', sep = 'a', 'not at end')"
   ]
  },
  {
   "cell_type": "code",
   "execution_count": 1,
   "metadata": {
    "collapsed": false
   },
   "outputs": [
    {
     "name": "stdout",
     "output_type": "stream",
     "text": [
      "keyword-argument-order does not matter. this is the end!"
     ]
    }
   ],
   "source": [
    "print('keyword', 'argument', 'order does not matter.', end = ' this is the end!', sep = '-')"
   ]
  },
  {
   "cell_type": "code",
   "execution_count": 85,
   "metadata": {
    "collapsed": false
   },
   "outputs": [
    {
     "name": "stdout",
     "output_type": "stream",
     "text": [
      "keyword-argument-order does not matter this is the end!"
     ]
    }
   ],
   "source": [
    "print('keyword', 'argument', 'order does not matter', sep = '-', end = ' this is the end!')"
   ]
  },
  {
   "cell_type": "markdown",
   "metadata": {},
   "source": [
    "### Problem 4\n",
    "\n",
    "<span style=\"color:green\">Use two consecutive print functions. Pass each print function three positional arguments and separate them with a period and end them with two new lines</span>"
   ]
  },
  {
   "cell_type": "code",
   "execution_count": 51,
   "metadata": {
    "collapsed": false
   },
   "outputs": [
    {
     "name": "stdout",
     "output_type": "stream",
     "text": [
      "This.Statement.Writes\n",
      "\n",
      "That.Statement.Reads\n",
      "\n"
     ]
    }
   ],
   "source": [
    "from __future__ import print_function\n",
    "print('This', 'Statement', 'Writes', sep='.', end='\\n\\n')\n",
    "print('That', 'Statement', 'Reads', sep='.', end='\\n\\n')"
   ]
  },
  {
   "cell_type": "markdown",
   "metadata": {},
   "source": [
    "### User defined functions\n",
    "You can define your own functions. Each function is defined using the `def` keyword followed by the function name and parentheses. If there are any arguments passed to the function they are included in the function definition separated by commas. The first line is always ended with a colon and the body of the function indented. Each function must end by returning a Python object using the `return` keyword. If there is no `return` statement, then `None` is returned.\n",
    "\n",
    "### Simple Functions"
   ]
  },
  {
   "cell_type": "code",
   "execution_count": 57,
   "metadata": {
    "collapsed": true
   },
   "outputs": [],
   "source": [
    "# Square a number\n",
    "def square_number(num):\n",
    "    return num ** 2"
   ]
  },
  {
   "cell_type": "code",
   "execution_count": 58,
   "metadata": {
    "collapsed": false
   },
   "outputs": [
    {
     "data": {
      "text/plain": [
       "81"
      ]
     },
     "execution_count": 58,
     "metadata": {},
     "output_type": "execute_result"
    }
   ],
   "source": [
    "square_number(9)"
   ]
  },
  {
   "cell_type": "code",
   "execution_count": 60,
   "metadata": {
    "collapsed": true
   },
   "outputs": [],
   "source": [
    "# find volume of a cylinder\n",
    "def cylinder_vol(radius, height):\n",
    "    pi = 3.14\n",
    "    return pi * radius ** 2 * height"
   ]
  },
  {
   "cell_type": "code",
   "execution_count": 61,
   "metadata": {
    "collapsed": false
   },
   "outputs": [
    {
     "data": {
      "text/plain": [
       "235.5"
      ]
     },
     "execution_count": 61,
     "metadata": {},
     "output_type": "execute_result"
    }
   ],
   "source": [
    "cylinder_vol(5, 3)"
   ]
  },
  {
   "cell_type": "code",
   "execution_count": 62,
   "metadata": {
    "collapsed": true
   },
   "outputs": [],
   "source": [
    "# no arguments\n",
    "def print_hello_world():\n",
    "    print('Hello World!')"
   ]
  },
  {
   "cell_type": "code",
   "execution_count": 64,
   "metadata": {
    "collapsed": false
   },
   "outputs": [
    {
     "name": "stdout",
     "output_type": "stream",
     "text": [
      "Hello World!\n"
     ]
    }
   ],
   "source": [
    "print_hello_world()"
   ]
  },
  {
   "cell_type": "markdown",
   "metadata": {},
   "source": [
    "### Positional and Keyword Arguments\n",
    "Let's examine the function `cyclinder_vol` that was created above. The function takes two arguments, radius and height and returns a float value. Are these arguments positional or keyword? They can actually be both depending on how the function is invoked. Some examples can clear this up."
   ]
  },
  {
   "cell_type": "code",
   "execution_count": 86,
   "metadata": {
    "collapsed": false
   },
   "outputs": [
    {
     "data": {
      "text/plain": [
       "141.3"
      ]
     },
     "execution_count": 86,
     "metadata": {},
     "output_type": "execute_result"
    }
   ],
   "source": [
    "# Use as positional arguments\n",
    "# If the keyword argument names are not given, then the interpreter will assume that the order \n",
    "# of the arguments given is in the same order as the function assigned.\n",
    "cylinder_vol(3, 5)"
   ]
  },
  {
   "cell_type": "code",
   "execution_count": 87,
   "metadata": {
    "collapsed": false
   },
   "outputs": [
    {
     "data": {
      "text/plain": [
       "235.5"
      ]
     },
     "execution_count": 87,
     "metadata": {},
     "output_type": "execute_result"
    }
   ],
   "source": [
    "# which is different than\n",
    "cylinder_vol(5, 3)"
   ]
  },
  {
   "cell_type": "code",
   "execution_count": 88,
   "metadata": {
    "collapsed": false
   },
   "outputs": [
    {
     "ename": "TypeError",
     "evalue": "cylinder_vol() missing 1 required positional argument: 'height'",
     "output_type": "error",
     "traceback": [
      "\u001b[0;31m---------------------------------------------------------------------------\u001b[0m",
      "\u001b[0;31mTypeError\u001b[0m                                 Traceback (most recent call last)",
      "\u001b[0;32m<ipython-input-88-3d616d7502d0>\u001b[0m in \u001b[0;36m<module>\u001b[0;34m()\u001b[0m\n\u001b[1;32m      1\u001b[0m \u001b[0;31m# Since there are no default values supplied both arguments are necessary.\u001b[0m\u001b[0;34m\u001b[0m\u001b[0;34m\u001b[0m\u001b[0m\n\u001b[0;32m----> 2\u001b[0;31m \u001b[0mcylinder_vol\u001b[0m\u001b[0;34m(\u001b[0m\u001b[0;36m5\u001b[0m\u001b[0;34m)\u001b[0m\u001b[0;34m\u001b[0m\u001b[0m\n\u001b[0m",
      "\u001b[0;31mTypeError\u001b[0m: cylinder_vol() missing 1 required positional argument: 'height'"
     ]
    }
   ],
   "source": [
    "# Since there are no default values supplied both arguments are necessary.\n",
    "# missing height\n",
    "cylinder_vol(5)"
   ]
  },
  {
   "cell_type": "code",
   "execution_count": 90,
   "metadata": {
    "collapsed": false
   },
   "outputs": [
    {
     "data": {
      "text/plain": [
       "235.5"
      ]
     },
     "execution_count": 90,
     "metadata": {},
     "output_type": "execute_result"
    }
   ],
   "source": [
    "# use keyword arguments\n",
    "cylinder_vol(radius=5, height=3)"
   ]
  },
  {
   "cell_type": "code",
   "execution_count": 93,
   "metadata": {
    "collapsed": false
   },
   "outputs": [
    {
     "data": {
      "text/plain": [
       "235.5"
      ]
     },
     "execution_count": 93,
     "metadata": {},
     "output_type": "execute_result"
    }
   ],
   "source": [
    "# use keyword arguments. Order does not matter\n",
    "cylinder_vol(height=3, radius=5)"
   ]
  },
  {
   "cell_type": "code",
   "execution_count": 94,
   "metadata": {
    "collapsed": false
   },
   "outputs": [
    {
     "data": {
      "text/plain": [
       "235.5"
      ]
     },
     "execution_count": 94,
     "metadata": {},
     "output_type": "execute_result"
    }
   ],
   "source": [
    "# use both positional and keyword arguments\n",
    "cylinder_vol(5, height=3)"
   ]
  },
  {
   "cell_type": "code",
   "execution_count": 95,
   "metadata": {
    "collapsed": false
   },
   "outputs": [
    {
     "ename": "TypeError",
     "evalue": "cylinder_vol() got multiple values for argument 'radius'",
     "output_type": "error",
     "traceback": [
      "\u001b[0;31m---------------------------------------------------------------------------\u001b[0m",
      "\u001b[0;31mTypeError\u001b[0m                                 Traceback (most recent call last)",
      "\u001b[0;32m<ipython-input-95-a27117460aa0>\u001b[0m in \u001b[0;36m<module>\u001b[0;34m()\u001b[0m\n\u001b[1;32m      1\u001b[0m \u001b[0;31m# try and use radius as keyword argument after positional argument\u001b[0m\u001b[0;34m\u001b[0m\u001b[0;34m\u001b[0m\u001b[0m\n\u001b[0;32m----> 2\u001b[0;31m \u001b[0mcylinder_vol\u001b[0m\u001b[0;34m(\u001b[0m\u001b[0;36m3\u001b[0m\u001b[0;34m,\u001b[0m \u001b[0mradius\u001b[0m\u001b[0;34m=\u001b[0m\u001b[0;36m5\u001b[0m\u001b[0;34m)\u001b[0m\u001b[0;34m\u001b[0m\u001b[0m\n\u001b[0m",
      "\u001b[0;31mTypeError\u001b[0m: cylinder_vol() got multiple values for argument 'radius'"
     ]
    }
   ],
   "source": [
    "# try and use radius as keyword argument after positional argument\n",
    "cylinder_vol(3, radius=5)"
   ]
  },
  {
   "cell_type": "markdown",
   "metadata": {},
   "source": [
    "### Default Values\n",
    "Each keyword argument in a function can be defaulted to a value. Default values are declared in the function definition. The argument will always be assigned the default value unless explicitly overridden in the function call. Let's see some examples."
   ]
  },
  {
   "cell_type": "code",
   "execution_count": 100,
   "metadata": {
    "collapsed": true
   },
   "outputs": [],
   "source": [
    "# Create a function with a default value\n",
    "def print_me(name='Ted'):\n",
    "    print('Hello, {}'.format(name))"
   ]
  },
  {
   "cell_type": "code",
   "execution_count": 101,
   "metadata": {
    "collapsed": false
   },
   "outputs": [
    {
     "name": "stdout",
     "output_type": "stream",
     "text": [
      "Hello, Ted\n"
     ]
    }
   ],
   "source": [
    "# call print_me without changing the default\n",
    "print_me()"
   ]
  },
  {
   "cell_type": "code",
   "execution_count": 102,
   "metadata": {
    "collapsed": false
   },
   "outputs": [
    {
     "name": "stdout",
     "output_type": "stream",
     "text": [
      "Hello, Monte\n"
     ]
    }
   ],
   "source": [
    "# call print_me and override the default value of the name argument\n",
    "print_me('Monte')"
   ]
  },
  {
   "cell_type": "code",
   "execution_count": 103,
   "metadata": {
    "collapsed": false
   },
   "outputs": [
    {
     "name": "stdout",
     "output_type": "stream",
     "text": [
      "Hello, Python\n"
     ]
    }
   ],
   "source": [
    "# do the same thing but using the keyword\n",
    "print_me(name='Python')"
   ]
  },
  {
   "cell_type": "markdown",
   "metadata": {},
   "source": [
    "### Problem 5\n",
    "\n",
    "<span style=\"color:green\">Define a function that finds the area of a circle and defaults the value of the radius to 0 if it's not given.</span>"
   ]
  },
  {
   "cell_type": "code",
   "execution_count": 62,
   "metadata": {
    "collapsed": false
   },
   "outputs": [
    {
     "data": {
      "text/plain": [
       "113.04"
      ]
     },
     "execution_count": 62,
     "metadata": {},
     "output_type": "execute_result"
    }
   ],
   "source": [
    "def area_of_circle(r=0):\n",
    "    pi=3.14\n",
    "    return pi*r**2\n",
    "area_of_circle(6)    "
   ]
  },
  {
   "cell_type": "markdown",
   "metadata": {},
   "source": [
    "### Dynamically vs Statically Typed\n",
    "Python is considered a dynamically-typed programming language meaning that variables don't have to be declared to be a certain type when they are created and they can change types with each assignment. Static typing, like Java, require the programmer to set the type of the variable when first defined. See examples below:\n",
    "\n",
    "Java  \n",
    "`int a = 5;\n",
    "String a = 'asdf';\n",
    "`\n",
    "\n",
    "Python  \n",
    "`a = 5\n",
    "a = 'asdf'\n",
    "`\n",
    "\n",
    "Python does no type checking for you, so during run-time its possible to pass a function a parameter of the non-intended type. Statically typed languages will catch these errors during compile time before program execution. [Good Stackoverflow discussion](http://stackoverflow.com/questions/1517582/what-is-the-difference-between-statically-typed-and-dynamically-typed-languages)\n",
    "\n",
    "Let's use the `cylinder_vol` function from above and pass a string value to height and see that a type error occurs."
   ]
  },
  {
   "cell_type": "code",
   "execution_count": 67,
   "metadata": {
    "collapsed": false
   },
   "outputs": [
    {
     "ename": "TypeError",
     "evalue": "can't multiply sequence by non-int of type 'float'",
     "output_type": "error",
     "traceback": [
      "\u001b[0;31m---------------------------------------------------------------------------\u001b[0m",
      "\u001b[0;31mTypeError\u001b[0m                                 Traceback (most recent call last)",
      "\u001b[0;32m<ipython-input-67-9fc7bb17488c>\u001b[0m in \u001b[0;36m<module>\u001b[0;34m()\u001b[0m\n\u001b[0;32m----> 1\u001b[0;31m \u001b[0mcylinder_vol\u001b[0m\u001b[0;34m(\u001b[0m\u001b[0;36m5\u001b[0m\u001b[0;34m,\u001b[0m \u001b[0;34m'three'\u001b[0m\u001b[0;34m)\u001b[0m\u001b[0;34m\u001b[0m\u001b[0m\n\u001b[0m",
      "\u001b[0;32m<ipython-input-60-2efd1b1c64f6>\u001b[0m in \u001b[0;36mcylinder_vol\u001b[0;34m(radius, height)\u001b[0m\n\u001b[1;32m      2\u001b[0m \u001b[0;32mdef\u001b[0m \u001b[0mcylinder_vol\u001b[0m\u001b[0;34m(\u001b[0m\u001b[0mradius\u001b[0m\u001b[0;34m,\u001b[0m \u001b[0mheight\u001b[0m\u001b[0;34m)\u001b[0m\u001b[0;34m:\u001b[0m\u001b[0;34m\u001b[0m\u001b[0m\n\u001b[1;32m      3\u001b[0m     \u001b[0mpi\u001b[0m \u001b[0;34m=\u001b[0m \u001b[0;36m3.14\u001b[0m\u001b[0;34m\u001b[0m\u001b[0m\n\u001b[0;32m----> 4\u001b[0;31m     \u001b[0;32mreturn\u001b[0m \u001b[0mpi\u001b[0m \u001b[0;34m*\u001b[0m \u001b[0mradius\u001b[0m \u001b[0;34m**\u001b[0m \u001b[0;36m2\u001b[0m \u001b[0;34m*\u001b[0m \u001b[0mheight\u001b[0m\u001b[0;34m\u001b[0m\u001b[0m\n\u001b[0m",
      "\u001b[0;31mTypeError\u001b[0m: can't multiply sequence by non-int of type 'float'"
     ]
    }
   ],
   "source": [
    "cylinder_vol(5, 'three')"
   ]
  },
  {
   "cell_type": "markdown",
   "metadata": {},
   "source": [
    "### Problem 6\n",
    "\n",
    "<span style=\"color:green\">Create a function that takes a string argument and returns True or False whether the string is a palindrome (spelled the same foward and backwards). Test your function on the word 'racecar'</span>"
   ]
  },
  {
   "cell_type": "code",
   "execution_count": 82,
   "metadata": {
    "collapsed": false
   },
   "outputs": [
    {
     "data": {
      "text/plain": [
       "True"
      ]
     },
     "execution_count": 82,
     "metadata": {},
     "output_type": "execute_result"
    }
   ],
   "source": [
    "def o_palindrome(word):\n",
    "    return word == word[::-1]\n",
    "      \n",
    "        \n",
    "o_palindrome('racecar')        "
   ]
  },
  {
   "cell_type": "markdown",
   "metadata": {},
   "source": [
    "### Problem 7\n",
    "\n",
    "<span style=\"color:green\">Create a function `concat_sort_list` that takes two lists and concatenates them together, sorts the list and then returns the sorted list.</span>"
   ]
  },
  {
   "cell_type": "code",
   "execution_count": 86,
   "metadata": {
    "collapsed": false
   },
   "outputs": [
    {
     "data": {
      "text/plain": [
       "[-8, 0, 2, 4, 5, 9]"
      ]
     },
     "execution_count": 86,
     "metadata": {},
     "output_type": "execute_result"
    }
   ],
   "source": [
    "def concat_sort_list (string1,string2):\n",
    "    return sorted(string1+string2)\n",
    "concat_sort_list([4, 5, 2], [9, 0, -8])"
   ]
  },
  {
   "cell_type": "code",
   "execution_count": null,
   "metadata": {
    "collapsed": true
   },
   "outputs": [],
   "source": [
    "# test code with\n",
    "concat_sort_list([4, 5, 2], [9, 0, -8]) == [-8, 0, 2, 4, 5, 9]"
   ]
  },
  {
   "cell_type": "markdown",
   "metadata": {},
   "source": [
    "### Anonymous functions\n",
    "Python has the ability to create functions in one line that are not necessarily stored to a name. Hence, these declarations are sometimes referred to as anonymous functions. They can be stored and referenced as a name just like any other function.\n",
    "\n",
    "They are declared using the keyword `lambda` followed by a comma separated list of argument names then a colon. The one line of Python code that will execute It takes the following form:\n",
    "\n",
    "`>>> lambda arg1, arg2, arg2: one line of Python code`"
   ]
  },
  {
   "cell_type": "code",
   "execution_count": 105,
   "metadata": {
    "collapsed": true
   },
   "outputs": [],
   "source": [
    "# Storing an anonymous function that adds three numbers together\n",
    "add_three = lambda x, y, z: x + y + z"
   ]
  },
  {
   "cell_type": "code",
   "execution_count": 106,
   "metadata": {
    "collapsed": false
   },
   "outputs": [
    {
     "data": {
      "text/plain": [
       "32"
      ]
     },
     "execution_count": 106,
     "metadata": {},
     "output_type": "execute_result"
    }
   ],
   "source": [
    "# these functions work the exact same as normal functions\n",
    "add_three(5, 8, 19)"
   ]
  },
  {
   "cell_type": "markdown",
   "metadata": {},
   "source": [
    "### Comparison to a normal function\n",
    "Normal functions are defined by the `def` keyword and surround their arguments in parentheses, can contain any number of lines of code and use the `return` keyword to return a value.\n",
    "\n",
    "Anonymous functions use the `lambda` keyword, do not use parentheses around their arguments, contain a single line of code, and return the value from that single line of code without the `return` keyword."
   ]
  },
  {
   "cell_type": "code",
   "execution_count": 107,
   "metadata": {
    "collapsed": true
   },
   "outputs": [],
   "source": [
    "### add_three as a normal function\n",
    "def add_three_normal(x, y, z):\n",
    "    return x + y + z"
   ]
  },
  {
   "cell_type": "code",
   "execution_count": 108,
   "metadata": {
    "collapsed": false
   },
   "outputs": [
    {
     "data": {
      "text/plain": [
       "32"
      ]
     },
     "execution_count": 108,
     "metadata": {},
     "output_type": "execute_result"
    }
   ],
   "source": [
    "add_three_normal(5, 8, 19)"
   ]
  },
  {
   "cell_type": "markdown",
   "metadata": {
    "collapsed": false
   },
   "source": [
    "### Problem 8\n",
    "\n",
    "<span style=\"color:green\">Create an anonymous function that calculates the area of a circle. Store it to a variable and check that it works.</span>"
   ]
  },
  {
   "cell_type": "code",
   "execution_count": 94,
   "metadata": {
    "collapsed": false
   },
   "outputs": [
    {
     "data": {
      "text/plain": [
       "28.26"
      ]
     },
     "execution_count": 94,
     "metadata": {},
     "output_type": "execute_result"
    }
   ],
   "source": [
    "circle_area = lambda r:3.14*r**2\n",
    "circle_area(3)"
   ]
  },
  {
   "cell_type": "markdown",
   "metadata": {},
   "source": [
    "### What's the use of anonymous functions?\n",
    "At first glance, it appears that lambda functions would have no use as at most they only shorten the amount of code written for a simple function. They actually aren't all that useful and the creator of Python had wanted to remove them at one point. They can come in handy when you want to create a quick function that does one small task without defining an entire function. \n",
    "\n",
    "Below will be many examples when their moderate usefulness shines through.\n",
    "\n",
    "### The sorted function\n",
    "Before we get to anonymous functions, let's review the builtin `sorted` function. It gets passed an iterable (a list, string, range, etc...) and returns the sorted version of that iterable in a list."
   ]
  },
  {
   "cell_type": "code",
   "execution_count": 112,
   "metadata": {
    "collapsed": false
   },
   "outputs": [
    {
     "data": {
      "text/plain": [
       "['apple', 'banana', 'orange', 'strawberry']"
      ]
     },
     "execution_count": 112,
     "metadata": {},
     "output_type": "execute_result"
    }
   ],
   "source": [
    "# example of sorting a list\n",
    "string_list = ['banana', 'strawberry', 'orange', 'apple']\n",
    "sorted(string_list)"
   ]
  },
  {
   "cell_type": "markdown",
   "metadata": {},
   "source": [
    "### Non-natural sorting\n",
    "Most Python objects have builtin rules for sorting. Strings are sorted in alphabetical order. But what if you wanted to sort by the second letter of the string above. You can do this by using the `key` argument from the sorted function. The `key` argument takes a function and applies that function to each of the items in the list first and then sorts the values returned from that function.\n",
    "\n",
    "To sort by the second letter we need a function that takes a string and returns the second letter."
   ]
  },
  {
   "cell_type": "code",
   "execution_count": 114,
   "metadata": {
    "collapsed": false
   },
   "outputs": [
    {
     "data": {
      "text/plain": [
       "'e'"
      ]
     },
     "execution_count": 114,
     "metadata": {},
     "output_type": "execute_result"
    }
   ],
   "source": [
    "# make second letter function\n",
    "def sec_letter(string):\n",
    "    return string[1]\n",
    "\n",
    "#example\n",
    "sec_letter('test')"
   ]
  },
  {
   "cell_type": "markdown",
   "metadata": {},
   "source": [
    "### Passing a function to the `key` argument\n",
    "We can now pass the `sec_letter` function to the `key` argument in the `sorted` function. This will return a list sorted by the second letter and not the first."
   ]
  },
  {
   "cell_type": "code",
   "execution_count": 115,
   "metadata": {
    "collapsed": false
   },
   "outputs": [
    {
     "data": {
      "text/plain": [
       "['banana', 'apple', 'orange', 'strawberry']"
      ]
     },
     "execution_count": 115,
     "metadata": {},
     "output_type": "execute_result"
    }
   ],
   "source": [
    "# example of sorting a list\n",
    "string_list = ['banana', 'strawberry', 'orange', 'apple']\n",
    "sorted(string_list, key=sec_letter)"
   ]
  },
  {
   "cell_type": "markdown",
   "metadata": {},
   "source": [
    "### A use case for anonymous functions\n",
    "Instead of declaring the function `sec_letter` it is possible to use an anonymous function and pass it to the `key` argument of the `sorted` function."
   ]
  },
  {
   "cell_type": "code",
   "execution_count": 116,
   "metadata": {
    "collapsed": false
   },
   "outputs": [
    {
     "data": {
      "text/plain": [
       "['banana', 'apple', 'orange', 'strawberry']"
      ]
     },
     "execution_count": 116,
     "metadata": {},
     "output_type": "execute_result"
    }
   ],
   "source": [
    "# use an anonymous function instead of sec_letter\n",
    "string_list = ['banana', 'strawberry', 'orange', 'apple']\n",
    "sorted(string_list, key = lambda word: word[1])"
   ]
  },
  {
   "cell_type": "markdown",
   "metadata": {},
   "source": [
    "### Problem 9\n",
    "\n",
    "<span style=\"color:green\">Use the sorted function to sort a list of strings using the last letter. Use an anonymous function passed to the key argument.</span>"
   ]
  },
  {
   "cell_type": "code",
   "execution_count": 97,
   "metadata": {
    "collapsed": false
   },
   "outputs": [
    {
     "data": {
      "text/plain": [
       "['banana', 'orange', 'apple', 'strawberry']"
      ]
     },
     "execution_count": 97,
     "metadata": {},
     "output_type": "execute_result"
    }
   ],
   "source": [
    "string_list = ['banana', 'strawberry', 'orange', 'apple']\n",
    "sorted(string_list,key = lambda word:word[-1])"
   ]
  },
  {
   "cell_type": "markdown",
   "metadata": {},
   "source": [
    "### Problem 10\n",
    "\n",
    "<span style=\"color:green\">Create a list of integers and sort them by their last digit. Use an anonymous function passed to the key argument.</span>"
   ]
  },
  {
   "cell_type": "code",
   "execution_count": 100,
   "metadata": {
    "collapsed": false
   },
   "outputs": [
    {
     "data": {
      "text/plain": [
       "[10, 11, 12, 23, 45, 66, 88]"
      ]
     },
     "execution_count": 100,
     "metadata": {},
     "output_type": "execute_result"
    }
   ],
   "source": [
    "list_one = [12,45,66,23,10,11,88]\n",
    "sorted(list_one,key = lambda word:word%10)"
   ]
  },
  {
   "cell_type": "markdown",
   "metadata": {},
   "source": [
    "### When to use lambda/def\n",
    "Many programmers do not like lambda functions as it can hide complexity if there is too much in one line. Generally lambda functions should be extremely simple functions that are easily read in the one line of code you have to write them. If they become too complex, its best to write a normal function with multiple lines. See an overly complex example below."
   ]
  },
  {
   "cell_type": "code",
   "execution_count": 120,
   "metadata": {
    "collapsed": false
   },
   "outputs": [
    {
     "data": {
      "text/plain": [
       "['banana', 'apple', 'orange', 'strawberry']"
      ]
     },
     "execution_count": 120,
     "metadata": {},
     "output_type": "execute_result"
    }
   ],
   "source": [
    "# Here is a bit more complex anonymous function that takes the difference\n",
    "# between the min and max ordinal value of each word as the key\n",
    "sorted(string_list, key=lambda word: max([ord(letter) for letter in word]) - min([ord(letter) for letter in word]) )"
   ]
  },
  {
   "cell_type": "markdown",
   "metadata": {},
   "source": [
    "### Advanced Problem 11\n",
    "\n",
    "<span style=\"color:green\">Use the sorted function (with the `key` argument) to sort a list of strings by the third lowest alphabetical letter. Use a lambda expression to find this thrid lowest letter. Take the word 'python' for example. If you sort it by letter it becomes hnopty. The third lowest letter is therefore 'o'.</span>"
   ]
  },
  {
   "cell_type": "code",
   "execution_count": 103,
   "metadata": {
    "collapsed": false
   },
   "outputs": [
    {
     "data": {
      "text/plain": [
       "['different', 'string', 'many', 'some', 'words', 'list', 'with']"
      ]
     },
     "execution_count": 103,
     "metadata": {},
     "output_type": "execute_result"
    }
   ],
   "source": [
    "# make a string list with each string having three or more characters\n",
    "string_list = 'some string list with many different words'.split()\n",
    "sorted(string_list,key = lambda word: sorted (word) [2])"
   ]
  },
  {
   "cell_type": "markdown",
   "metadata": {},
   "source": [
    "### Introduction to Map and Filter Functions: actually the same as List Comprehensions\n",
    "The two functions, map and filter are seldom used because list comprehensions accomplish both tasks in a more efficient and readable manner.\n",
    "\n",
    "The map function applies a single function to all elements of an iterable object. It technically returns an iterator and must be wrapped with the `list` function to see the output. The `map` function takes two arguments, the first is the function and the second the iterable. The function is applied to each element in the iterable. You will usually see lambda expressions used for the function passed to `map`."
   ]
  },
  {
   "cell_type": "code",
   "execution_count": 127,
   "metadata": {
    "collapsed": false
   },
   "outputs": [
    {
     "data": {
      "text/plain": [
       "[10, 16, -18, 0, 6]"
      ]
     },
     "execution_count": 127,
     "metadata": {},
     "output_type": "execute_result"
    }
   ],
   "source": [
    "# Double a list of numbers\n",
    "my_list = [5, 8, -9, 0, 3]\n",
    "list(map(lambda x: x * 2, my_list))"
   ]
  },
  {
   "cell_type": "markdown",
   "metadata": {},
   "source": [
    "### This is the exact same as a list comprehension\n",
    "The `map` function is doing the same thing that list comprehensions do"
   ]
  },
  {
   "cell_type": "code",
   "execution_count": 106,
   "metadata": {
    "collapsed": false
   },
   "outputs": [
    {
     "data": {
      "text/plain": [
       "[10, 16, -18, 0, 6]"
      ]
     },
     "execution_count": 106,
     "metadata": {},
     "output_type": "execute_result"
    }
   ],
   "source": [
    "# same as above with a list comprehension\n",
    "my_list = [5, 8, -9, 0, 3]\n",
    "[2 * x for x in my_list]"
   ]
  },
  {
   "cell_type": "markdown",
   "metadata": {},
   "source": [
    "### Problem 12\n",
    "\n",
    "<span style=\"color:green\">Use the map function to square each number in a list. Use an anonymous function to square each value. Do the same with a list comprehension</span>"
   ]
  },
  {
   "cell_type": "code",
   "execution_count": 114,
   "metadata": {
    "collapsed": false
   },
   "outputs": [
    {
     "data": {
      "text/plain": [
       "[81, 25, 1, 9801]"
      ]
     },
     "execution_count": 114,
     "metadata": {},
     "output_type": "execute_result"
    }
   ],
   "source": [
    "\n",
    "my_list = [9, 5, 1, 99]\n",
    "[x ** 2 for x in my_list]\n"
   ]
  },
  {
   "cell_type": "markdown",
   "metadata": {},
   "source": [
    "### Problem 13\n",
    "\n",
    "<span style=\"color:green\">Read the documentation on the **`filter`** builtin function. Use an anonymous function to filter out the even values from a range object of values 0 to 9</span>"
   ]
  },
  {
   "cell_type": "code",
   "execution_count": 132,
   "metadata": {
    "collapsed": false
   },
   "outputs": [
    {
     "ename": "ImportError",
     "evalue": "cannot import name filter",
     "output_type": "error",
     "traceback": [
      "\u001b[0;31m---------------------------------------------------------------------------\u001b[0m",
      "\u001b[0;31mImportError\u001b[0m                               Traceback (most recent call last)",
      "\u001b[0;32m<ipython-input-132-21b0f3322ef3>\u001b[0m in \u001b[0;36m<module>\u001b[0;34m()\u001b[0m\n\u001b[0;32m----> 1\u001b[0;31m \u001b[0;32mfrom\u001b[0m \u001b[0mfunctools\u001b[0m \u001b[0;32mimport\u001b[0m \u001b[0mfilter\u001b[0m\u001b[0;34m\u001b[0m\u001b[0m\n\u001b[0m\u001b[1;32m      2\u001b[0m \u001b[0mlist\u001b[0m\u001b[0;34m(\u001b[0m\u001b[0mfilter\u001b[0m\u001b[0;34m(\u001b[0m\u001b[0;32mlambda\u001b[0m \u001b[0mx\u001b[0m\u001b[0;34m:\u001b[0m \u001b[0mx\u001b[0m\u001b[0;34m%\u001b[0m\u001b[0;36m2\u001b[0m\u001b[0;34m==\u001b[0m\u001b[0;36m1\u001b[0m\u001b[0;34m,\u001b[0m\u001b[0mrange\u001b[0m\u001b[0;34m(\u001b[0m\u001b[0;36m9\u001b[0m\u001b[0;34m)\u001b[0m\u001b[0;34m)\u001b[0m\u001b[0;34m)\u001b[0m\u001b[0;34m\u001b[0m\u001b[0m\n",
      "\u001b[0;31mImportError\u001b[0m: cannot import name filter"
     ]
    }
   ],
   "source": [
    "\n",
    "list(filter(lambda x: x%2==1,range(9)))"
   ]
  },
  {
   "cell_type": "markdown",
   "metadata": {},
   "source": [
    "### Problem 14\n",
    "\n",
    "<span style=\"color:green\">Read the documentation on the **`reduce`** function which is part of the functools standard library. Use an anonymous function to sum up all the values from 0 to 9</span>"
   ]
  },
  {
   "cell_type": "code",
   "execution_count": 133,
   "metadata": {
    "collapsed": false
   },
   "outputs": [
    {
     "data": {
      "text/plain": [
       "45"
      ]
     },
     "execution_count": 133,
     "metadata": {},
     "output_type": "execute_result"
    }
   ],
   "source": [
    "from functools import reduce\n",
    "reduce(lambda x, y: x + y, range(10))"
   ]
  },
  {
   "cell_type": "markdown",
   "metadata": {},
   "source": [
    "### Problem 15 Advanced\n",
    "\n",
    "<span style=\"color:green\">Use **`map, reduce and filter`** to take the numbers 0 to 9, square them, filter out the even numbers and multiply the remaining together. This can be done in one line</span>"
   ]
  },
  {
   "cell_type": "code",
   "execution_count": 134,
   "metadata": {
    "collapsed": false
   },
   "outputs": [
    {
     "data": {
      "text/plain": [
       "893025"
      ]
     },
     "execution_count": 134,
     "metadata": {},
     "output_type": "execute_result"
    }
   ],
   "source": [
    "reduce(lambda x, y: x * y, filter(lambda x: x % 2 == 1, map(lambda x: x ** 2, range(10))))"
   ]
  },
  {
   "cell_type": "markdown",
   "metadata": {},
   "source": [
    "### Problem 16 Advanced\n",
    "\n",
    "<span style=\"color:green\">Use list comprehensions and the **`sum`** function to take the numbers 0 to 9, square the even numbers and sum them all up</span>"
   ]
  },
  {
   "cell_type": "code",
   "execution_count": 141,
   "metadata": {
    "collapsed": false
   },
   "outputs": [
    {
     "data": {
      "text/plain": [
       "165"
      ]
     },
     "execution_count": 141,
     "metadata": {},
     "output_type": "execute_result"
    }
   ],
   "source": [
    "sum([x ** 2 for x in range(10) if x % 2])"
   ]
  },
  {
   "cell_type": "markdown",
   "metadata": {},
   "source": [
    "### Problem 17: Advanced\n",
    "<span style=\"color:green\">In this problem you will write a function to transpose a two dimensional matrix. Transposing a matrix means to make the rows become the columns and vice versa. Create your matrix by creating a list of lists. In this case just choose a simple matrix like a 3 by 2.</span>"
   ]
  },
  {
   "cell_type": "code",
   "execution_count": 145,
   "metadata": {
    "collapsed": false
   },
   "outputs": [
    {
     "name": "stdout",
     "output_type": "stream",
     "text": [
      "[10, 20, 30]\n",
      "[11, 12, 13]\n",
      "[10, 11]\n",
      "[20, 12]\n",
      "[30, 13]\n"
     ]
    }
   ],
   "source": [
    "matrix = [[10,20,30], [11,12,13]]\n",
    "for row in matrix:\n",
    "    print(row)\n",
    "def transpose(matrix):\n",
    "    num_rows = len(matrix[0])\n",
    "    num_columns = len(matrix)\n",
    "    new_matrix = []\n",
    "    for i in range(num_rows):\n",
    "        new_matrix.append([])\n",
    "        for j in range(num_columns):\n",
    "            new_matrix[-1].append(matrix[j][i])\n",
    "    return new_matrix\n",
    "for row in transpose(matrix):\n",
    "    print(row)"
   ]
  },
  {
   "cell_type": "markdown",
   "metadata": {},
   "source": [
    "### Problem 18: Advanced\n",
    "Create a tic-tac-toe function that takes four parameters  \n",
    "\n",
    "1. **board**: a list of lists representing the game board  \n",
    "1. **mark**: 'x' or 'o'  \n",
    "1. **row**: Row that the mark will be played\n",
    "1. **col**: Column that the mark will be played\n",
    "\n",
    "Returns the updated board or the winner.  \n",
    "**`tic_tac_toe(board, 'x', 2, 0)`** should place an 'x' on the last row in the first position"
   ]
  },
  {
   "cell_type": "code",
   "execution_count": 130,
   "metadata": {
    "collapsed": true
   },
   "outputs": [],
   "source": []
  },
  {
   "cell_type": "markdown",
   "metadata": {},
   "source": [
    "### General Rules of Thumb for Functions\n",
    "Generally speaking, most professional Python code is written inside of a function or a method (a function for a class described later). Functions should do one task and do it well. If you find yourself writing a function that is doing more than one task its probably best to break it up into multiple functions. \n",
    "\n",
    "Although you can write functions with any number of lines, functions greater than about 20 lines of code can signal that they need to be broken up into multiple different functions. [Heres a good stackechange answer](http://softwareengineering.stackexchange.com/questions/133404/what-is-the-ideal-length-of-a-method-for-you/133406#133406) on writing functions."
   ]
  },
  {
   "cell_type": "markdown",
   "metadata": {},
   "source": [
    "### Returning more than one value\n",
    "Python allows for more than a single value to be returned from a function. Comma separated values during the return statement will allow for any number of objects to be returned. This technically returns a tuple which will be discussed in the next section."
   ]
  },
  {
   "cell_type": "code",
   "execution_count": 144,
   "metadata": {
    "collapsed": false
   },
   "outputs": [
    {
     "name": "stdout",
     "output_type": "stream",
     "text": [
      "10 21\n"
     ]
    }
   ],
   "source": [
    "# return both the sum and product of two numbers\n",
    "def sum_prod(a, b):\n",
    "    return a + b, a * b\n",
    "\n",
    "add, mult = sum_prod(3, 7)\n",
    "print(add, mult)"
   ]
  },
  {
   "cell_type": "markdown",
   "metadata": {},
   "source": [
    "### Problem 19\n",
    "<span style=\"color:green\">Write a function that returns the roll of two dice. Use the random.randint function to generate the rolls.</span>"
   ]
  },
  {
   "cell_type": "code",
   "execution_count": 147,
   "metadata": {
    "collapsed": false
   },
   "outputs": [
    {
     "data": {
      "text/plain": [
       "(5, 1)"
      ]
     },
     "execution_count": 147,
     "metadata": {},
     "output_type": "execute_result"
    }
   ],
   "source": [
    "import random\n",
    "def diceroll():\n",
    "    return random.randint(1, 6), random.randint(1, 6)\n",
    "\n",
    "diceroll()"
   ]
  },
  {
   "cell_type": "markdown",
   "metadata": {},
   "source": [
    "### Problem 20\n",
    "<span style=\"color:green\">You will write a function that plays a simple dice game. The game works as follows: You roll two dice and record the sum. You keep rolling the two dice until you re-roll your original total. Return the number of rolls it took to re-roll the original total. Do not simulate the original roll. Instead use an argument to pass the function a number between 2 and 12. Use the function you created in problem 19 to roll the dice. </span>"
   ]
  },
  {
   "cell_type": "code",
   "execution_count": null,
   "metadata": {
    "collapsed": false
   },
   "outputs": [],
   "source": []
  },
  {
   "cell_type": "markdown",
   "metadata": {},
   "source": [
    "### Problem 21: Advanced\n",
    "<span style=\"color:green\">This is a classic interview problem. Write a function that finds the degree difference between the minute and second on a clock. The function will accept two arguemnts, hour (between 1 and 12) and minute (between 0 and 59). Note: this should the absolute difference, so 180 degrees would be the absolute max possible value. Test your function with some times and make sure it makes sense. </span>"
   ]
  },
  {
   "cell_type": "code",
   "execution_count": 149,
   "metadata": {
    "collapsed": true
   },
   "outputs": [],
   "source": [
    "def degree_diff(hour, minute):\n",
    "    # your code here"
   ]
  },
  {
   "cell_type": "markdown",
   "metadata": {},
   "source": [
    "### More to functions\n",
    "There is quite a bit more technical discussion with functions but these basics will go a long way.\n",
    "\n",
    "# Congrats on finishing notebook 5!\n",
    "# Almost time for pandas!"
   ]
  }
 ],
 "metadata": {
  "anaconda-cloud": {},
  "kernelspec": {
   "display_name": "Python [default]",
   "language": "python",
   "name": "python2"
  },
  "language_info": {
   "codemirror_mode": {
    "name": "ipython",
    "version": 2
   },
   "file_extension": ".py",
   "mimetype": "text/x-python",
   "name": "python",
   "nbconvert_exporter": "python",
   "pygments_lexer": "ipython2",
   "version": "2.7.12"
  }
 },
 "nbformat": 4,
 "nbformat_minor": 0
}
