{
 "cells": [
  {
   "cell_type": "markdown",
   "metadata": {},
   "source": [
    "# Strings\n",
    "Python has tremendous power when dealing with strings.\n",
    "### What are strings?\n",
    "Strings are sequences of characters\n",
    "### So what are characters?\n",
    "This brings up one of the primary divisions between Python 2 and 3. Python 3 handles characters and thus strings more robustly by defaulting characters to be unicode - an industrial strength character computing standard. Strings are bytes in Python 2. To declare a string you simply put characters between quotes.\n",
    "### More on Unicode\n",
    "Before Unicode, one of the first computing standards for character representation was ASCII, a system that represented 128 unique characters using 7 bits. A bit is the smallest unit of information for a computer and is binary (0/1). So 7 bits can encode 2^7 (128) different pieces of information and for ASCII, this information corresponded to characters, numbers and punctuation common to English language speakers.\n",
    "\n",
    "Since there happen to be many thousands of languages and tens of thousands of different character representations, Unicode was brought into existence to universally cover any possible writing system. Unicode represents each character with 4 **bytes**, and with 8-bits per byte that is 32 bits which can represent 2^32 or over 4 billion unique characters. Each number in Unicode is called a **code point** and represents a single unique character."
   ]
  },
  {
   "cell_type": "code",
   "execution_count": 1,
   "metadata": {
    "collapsed": true
   },
   "outputs": [],
   "source": [
    "# Define a string\n",
    "my_string = 'my own personal string'"
   ]
  },
  {
   "cell_type": "code",
   "execution_count": 2,
   "metadata": {
    "collapsed": false
   },
   "outputs": [
    {
     "data": {
      "text/plain": [
       "\"asdfsa'asdf\""
      ]
     },
     "execution_count": 2,
     "metadata": {},
     "output_type": "execute_result"
    }
   ],
   "source": [
    "# Define a string with quotes inside. Escape the quote with \\\n",
    "my_string_w_quotes = 'asdfsa\\'asdf'\n",
    "my_string_w_quotes"
   ]
  },
  {
   "cell_type": "code",
   "execution_count": 3,
   "metadata": {
    "collapsed": false
   },
   "outputs": [
    {
     "data": {
      "text/plain": [
       "\"my own personal string with an inner quote. it's grand!\""
      ]
     },
     "execution_count": 3,
     "metadata": {},
     "output_type": "execute_result"
    }
   ],
   "source": [
    "# both single and double quotes work with python\n",
    "# a more elegant way to handle quotes inside quotes is to use both double/single quotes\n",
    "my_string_w_quotes = \"my own personal string with an inner quote. it's grand!\"\n",
    "my_string_w_quotes"
   ]
  },
  {
   "cell_type": "code",
   "execution_count": 4,
   "metadata": {
    "collapsed": false
   },
   "outputs": [
    {
     "data": {
      "text/plain": [
       "'My friend said, \"I\\'m only a mediocre pythonista\". I got mad! '"
      ]
     },
     "execution_count": 4,
     "metadata": {},
     "output_type": "execute_result"
    }
   ],
   "source": [
    "# If you have a bizarre string with both double and single quotes you can go one level up and use triple quotes\n",
    "my_string_w_2_quote_types = '''My friend said, \"I'm only a mediocre pythonista\". I got mad! '''\n",
    "\n",
    "# The interpreter outputted an escaped quote mark\n",
    "my_string_w_2_quote_types"
   ]
  },
  {
   "cell_type": "markdown",
   "metadata": {},
   "source": [
    "### Print as a function\n",
    "One other notable change between Python 2 and 3 is that **`print`** is now a function and not a statement. In the last example the output has an escaped character. To view the string in a prettier format with the outer quotes and escaped characters omitted use the print function. \n",
    "\n",
    "A function is a reference to reusable stored code that performs a particular task. Function names are always followed by a set of parentheses (when called) and can contain **arguments** which are comma separated values that the function will use. Notebook 5 is dedicated to functions."
   ]
  },
  {
   "cell_type": "code",
   "execution_count": 5,
   "metadata": {
    "collapsed": false
   },
   "outputs": [
    {
     "name": "stdout",
     "output_type": "stream",
     "text": [
      "My friend said, \"I'm only a mediocre pythonista\". I got mad! \n"
     ]
    }
   ],
   "source": [
    "# the print function with a single argument\n",
    "print(my_string_w_2_quote_types)"
   ]
  },
  {
   "cell_type": "code",
   "execution_count": 6,
   "metadata": {
    "collapsed": false
   },
   "outputs": [],
   "source": [
    "# Triple quotes can be used as block quotes\n",
    "block_quote = \"\"\"\n",
    "This is\n",
    "my \n",
    "block\n",
    "quote\n",
    "y'all\n",
    "\"\"\""
   ]
  },
  {
   "cell_type": "code",
   "execution_count": 7,
   "metadata": {
    "collapsed": false
   },
   "outputs": [
    {
     "data": {
      "text/plain": [
       "\"\\nThis is\\nmy \\nblock\\nquote\\ny'all\\n\""
      ]
     },
     "execution_count": 7,
     "metadata": {},
     "output_type": "execute_result"
    }
   ],
   "source": [
    "# ugly with newline \\n char\n",
    "block_quote"
   ]
  },
  {
   "cell_type": "code",
   "execution_count": 8,
   "metadata": {
    "collapsed": false
   },
   "outputs": [
    {
     "name": "stdout",
     "output_type": "stream",
     "text": [
      "\n",
      "This is\n",
      "my \n",
      "block\n",
      "quote\n",
      "y'all\n",
      "\n"
     ]
    }
   ],
   "source": [
    "# pretty\n",
    "print(block_quote)"
   ]
  },
  {
   "cell_type": "markdown",
   "metadata": {},
   "source": [
    "## Quick Interlude on Object Oriented Programming\n",
    "In Python, it is common to see the phrase, \"Everything is an object\". In short, this means that nearly every Python construct (variables, functions, any value, classes, class instances and even modules) is an object. So, what is an object? For now we can simply define an object as something that has both attributes and methods. An attribute is simply a reference to another object stored under a specific name. A method is a function attached to an object that performs some action and returns a value. [See this post for more info.](https://jeffknupp.com/blog/2013/02/14/drastically-improve-your-python-understanding-pythons-execution-model/)\n",
    "\n",
    "### Everyday examples of objects\n",
    "If the above didn't make much sense, it might be easier to think of objects like we do in the real world. For example, lets use a **Person** as an example of an object in Python. Each person object will have both attributes and methods. Examples of attributes (stored values) could be the name (John), occupation (Data Scientist) and address (123 fake street). Methods on the other hand would be an action performed by the person. Examples of methods could be eat, walk, talk, type, etc... Think action verbs when you think of methods and nouns (or adjectives) for attributes.\n",
    "\n",
    "### Dot Notation\n",
    "Common to many object oriented programming languages is the dot notation. A dot is placed after the object name and then proceeded by either the attribute or method name. All methods are invoked by a placing a set of parentheses after the method name. Any arguments needed for the processing of the method go inside the parentheses. Below is an extremely simple representation of an object using the dot notation. We will assume that there is an object **person** and explore it's attributes and methods.\n",
    "\n",
    "```\n",
    "# assume we have an object named person\n",
    "# person has attributes and methods\n",
    "# let's first explore the attributes\n",
    "\n",
    ">>> person.name\n",
    "'John'\n",
    "\n",
    ">>> person.occupation\n",
    "'Data Scientist'\n",
    "\n",
    ">>> person.weight\n",
    "180\n",
    "\n",
    "# Now let's see how methods are called\n",
    "# Let's have the person eat by calling the eat method and pass it the argument 'steak'\n",
    "\n",
    ">>> person.eat('steak')\n",
    "John ate a steak and now weighs 182.\n",
    "\n",
    "# Not all methods have arguments\n",
    "# Let's make the person sleep\n",
    "\n",
    ">>> person.sleep()\n",
    "John sleeps for 8 hours\n",
    "```\n",
    "\n",
    "### The Takeaway\n",
    "Since everything is an object, you will be using the dot notation all the time in Python to either get more information about that object (an attribute) or take an action (call a method).\n",
    "\n",
    "### String Methods\n",
    "Below you will see a few of the methods (there aren't many attributes for string objects) in action. Take notice how all the methods follow the name of the string and the dot(.) and always have parentheses both with and without arguments."
   ]
  },
  {
   "cell_type": "code",
   "execution_count": 9,
   "metadata": {
    "collapsed": true
   },
   "outputs": [],
   "source": [
    "# Methods are called with object.method(arguments) notation\n",
    "# test many methods on string\n",
    "test_string = 'this is a TesT string.'"
   ]
  },
  {
   "cell_type": "code",
   "execution_count": 10,
   "metadata": {
    "collapsed": false
   },
   "outputs": [
    {
     "data": {
      "text/plain": [
       "'This is a test string.'"
      ]
     },
     "execution_count": 10,
     "metadata": {},
     "output_type": "execute_result"
    }
   ],
   "source": [
    "# Properly capitalize first letter\n",
    "test_string.capitalize()"
   ]
  },
  {
   "cell_type": "code",
   "execution_count": 11,
   "metadata": {
    "collapsed": false
   },
   "outputs": [
    {
     "data": {
      "text/plain": [
       "'this is a test string.'"
      ]
     },
     "execution_count": 11,
     "metadata": {},
     "output_type": "execute_result"
    }
   ],
   "source": [
    "#make lowercase\n",
    "test_string.lower()"
   ]
  },
  {
   "cell_type": "code",
   "execution_count": 12,
   "metadata": {
    "collapsed": false
   },
   "outputs": [
    {
     "data": {
      "text/plain": [
       "2"
      ]
     },
     "execution_count": 12,
     "metadata": {},
     "output_type": "execute_result"
    }
   ],
   "source": [
    "#count occurrences of a substring\n",
    "test_string.count('is')"
   ]
  },
  {
   "cell_type": "code",
   "execution_count": 13,
   "metadata": {
    "collapsed": false
   },
   "outputs": [
    {
     "data": {
      "text/plain": [
       "False"
      ]
     },
     "execution_count": 13,
     "metadata": {},
     "output_type": "execute_result"
    }
   ],
   "source": [
    "# are all characters alphanumeric?\n",
    "test_string.isalnum()"
   ]
  },
  {
   "cell_type": "code",
   "execution_count": 14,
   "metadata": {
    "collapsed": false
   },
   "outputs": [
    {
     "data": {
      "text/plain": [
       "['this', 'is', 'a', 'TesT', 'string.']"
      ]
     },
     "execution_count": 14,
     "metadata": {},
     "output_type": "execute_result"
    }
   ],
   "source": [
    "#split a string by a given character. Default is space. Returns a list\n",
    "test_string.split()"
   ]
  },
  {
   "cell_type": "markdown",
   "metadata": {},
   "source": [
    "### So how many string methods are there?\n",
    "There are far too many methods to remember for all the python objects that you will encounter. To get all the methods use the **dir** function."
   ]
  },
  {
   "cell_type": "code",
   "execution_count": 15,
   "metadata": {
    "collapsed": false
   },
   "outputs": [
    {
     "name": "stdout",
     "output_type": "stream",
     "text": [
      "['__add__', '__class__', '__contains__', '__delattr__', '__dir__', '__doc__', '__eq__', '__format__', '__ge__', '__getattribute__', '__getitem__', '__getnewargs__', '__gt__', '__hash__', '__init__', '__iter__', '__le__', '__len__', '__lt__', '__mod__', '__mul__', '__ne__', '__new__', '__reduce__', '__reduce_ex__', '__repr__', '__rmod__', '__rmul__', '__setattr__', '__sizeof__', '__str__', '__subclasshook__', 'capitalize', 'casefold', 'center', 'count', 'encode', 'endswith', 'expandtabs', 'find', 'format', 'format_map', 'index', 'isalnum', 'isalpha', 'isdecimal', 'isdigit', 'isidentifier', 'islower', 'isnumeric', 'isprintable', 'isspace', 'istitle', 'isupper', 'join', 'ljust', 'lower', 'lstrip', 'maketrans', 'partition', 'replace', 'rfind', 'rindex', 'rjust', 'rpartition', 'rsplit', 'rstrip', 'split', 'splitlines', 'startswith', 'strip', 'swapcase', 'title', 'translate', 'upper', 'zfill']\n"
     ]
    }
   ],
   "source": [
    "# use print to make the output shorter and wider and not one long list\n",
    "print(dir(test_string))"
   ]
  },
  {
   "cell_type": "markdown",
   "metadata": {},
   "source": [
    "### Double Underscore Methods\n",
    "There are actually two underscores before and after the first half of the methods above. These signify **special** methods that are invoked in a different way than the dot notation. The double underscore methods can be invoked by the dot notation but that is not the standard way of accessing them. For instance, the **`__add__`** method alerts the programmer that the plus sign (+) operator will call the **`__add__`** method. Some of these special methods are covered below.\n",
    "\n",
    "\n",
    "### The Python Data Model\n",
    "Also, these **dunder** (short for double underscore) methods are fixed and standardized for all Python objects. [The Python Data Model](https://docs.python.org/3/reference/datamodel.html) standardizes the language and gives developers a common framework to quickly give objects a certain 'power'. There are [about 100](https://docs.python.org/3/reference/datamodel.html#special-method-names) of these special methods available to all objects (not all are implemented)."
   ]
  },
  {
   "cell_type": "markdown",
   "metadata": {},
   "source": [
    "### Advanced: How can you view all the normal string methods?\n",
    "Let's say we want to print out the methods that are unique only to strings. The dunder methods will need to be filtered out since they are part of the Python data model and can be implemented by all Python objects.\n",
    "\n",
    "The below code uses something called a list comprehension that will be discussed in detail later. It might not make much sense now."
   ]
  },
  {
   "cell_type": "code",
   "execution_count": 16,
   "metadata": {
    "collapsed": false
   },
   "outputs": [
    {
     "name": "stdout",
     "output_type": "stream",
     "text": [
      "['capitalize', 'casefold', 'center', 'count', 'encode', 'endswith', 'expandtabs', 'find', 'format', 'format_map', 'index', 'isalnum', 'isalpha', 'isdecimal', 'isdigit', 'isidentifier', 'islower', 'isnumeric', 'isprintable', 'isspace', 'istitle', 'isupper', 'join', 'ljust', 'lower', 'lstrip', 'maketrans', 'partition', 'replace', 'rfind', 'rindex', 'rjust', 'rpartition', 'rsplit', 'rstrip', 'split', 'splitlines', 'startswith', 'strip', 'swapcase', 'title', 'translate', 'upper', 'zfill']\n"
     ]
    }
   ],
   "source": [
    "# print out only the normal methods. This will be explained later if it doesn't make sense now\n",
    "print([method for method in dir(test_string) if method[0] != '_'])"
   ]
  },
  {
   "cell_type": "markdown",
   "metadata": {},
   "source": [
    "### How do I find out what these methods do?\n",
    "Use the help function to see the documentation. Lets find out what the `endswith` method does."
   ]
  },
  {
   "cell_type": "code",
   "execution_count": 17,
   "metadata": {
    "collapsed": false
   },
   "outputs": [
    {
     "name": "stdout",
     "output_type": "stream",
     "text": [
      "Help on built-in function endswith:\n",
      "\n",
      "endswith(...) method of builtins.str instance\n",
      "    S.endswith(suffix[, start[, end]]) -> bool\n",
      "    \n",
      "    Return True if S ends with the specified suffix, False otherwise.\n",
      "    With optional start, test S beginning at that position.\n",
      "    With optional end, stop comparing S at that position.\n",
      "    suffix can also be a tuple of strings to try.\n",
      "\n"
     ]
    }
   ],
   "source": [
    "# get documentation for endswith. You can also just add a ? to the method to do the same thing\n",
    "help(test_string.endswith)"
   ]
  },
  {
   "cell_type": "code",
   "execution_count": 1,
   "metadata": {
    "collapsed": false
   },
   "outputs": [
    {
     "data": {
      "text/plain": [
       "False"
      ]
     },
     "execution_count": 1,
     "metadata": {},
     "output_type": "execute_result"
    }
   ],
   "source": [
    "# endswith has one required argument, the suffix and returns True or False if the string ends in that suffix\n",
    "test_string = 'yet another TEST StrinG'\n",
    "test_string.endswith('string')"
   ]
  },
  {
   "cell_type": "markdown",
   "metadata": {},
   "source": [
    "### Finding Attributes and Methods with tab completion\n",
    "Its difficult to remember the names of all the attributes and methods that each object possess. We can print to the screen all the attributes and methods using the dir function but thats not very efficient.\n",
    "\n",
    "A better way is to use tab completion. To quickly list and scroll through all the attributes and methods of an object, simply append a dot to an object name and **press tab** and the list will appear.\n",
    "\n",
    "Place your cursor at the end of the line below and press tab to view a scrollable list of attributes and methods."
   ]
  },
  {
   "cell_type": "code",
   "execution_count": 20,
   "metadata": {
    "collapsed": false
   },
   "outputs": [],
   "source": [
    "test_string."
   ]
  },
  {
   "cell_type": "markdown",
   "metadata": {},
   "source": [
    "### Problem 1\n",
    "<span style=\"color:green\">Find and use the string method that will replace each letter 'a' with 'A'. </span>"
   ]
  },
  {
   "cell_type": "code",
   "execution_count": 21,
   "metadata": {
    "collapsed": true
   },
   "outputs": [],
   "source": [
    "replace_string = 'replace each letter a in this string with A'\n",
    "# your code here"
   ]
  },
  {
   "cell_type": "markdown",
   "metadata": {},
   "source": [
    "### Chaining methods\n",
    "Methods will always return another object. Occasionally they will return the object **`None`** which will not output anything to the screen. Many string methods return a string. When a string is returned, it is possible to immediately append a dot and call another string method in succession. \n",
    "\n",
    "Take a look at the example below of four successive method calls (chained methods) using the dot notation. The last method, **`count`** returns an integer (which itself has different methods and attributes but our chaining stops there)."
   ]
  },
  {
   "cell_type": "code",
   "execution_count": 5,
   "metadata": {
    "collapsed": false
   },
   "outputs": [
    {
     "data": {
      "text/plain": [
       "2"
      ]
     },
     "execution_count": 5,
     "metadata": {},
     "output_type": "execute_result"
    }
   ],
   "source": [
    "test_string = '?!?!?!A HIDDEN TEST STRING??!!?!'\n",
    "# Lets remove punctuation, make lower case, replace all t's with e and count the instances of e\n",
    "test_string.strip('?!').lower().replace('t', 'a').count('e')\n",
    "## Wow that was 4 chained methods ??!!"
   ]
  },
  {
   "cell_type": "markdown",
   "metadata": {},
   "source": [
    "### Chaining on multiple lines\n",
    "In other languages (like JavaScript), chaining methods is very common and is usually written more clearly and cleanly with one method per line. You can do this in python by wrapping your expression in parentheses. This is because the interpreter expects new lines to be broken up by the backslash character \\.\n",
    "\n",
    "However, these rules don't apply inside parentheses. You may space your syntax however you like inside parentheses."
   ]
  },
  {
   "cell_type": "code",
   "execution_count": 6,
   "metadata": {
    "collapsed": false
   },
   "outputs": [
    {
     "data": {
      "text/plain": [
       "2"
      ]
     },
     "execution_count": 6,
     "metadata": {},
     "output_type": "execute_result"
    }
   ],
   "source": [
    "# using parethenses to put methods on different lines\n",
    "(test_string\n",
    "    .strip('?!')\n",
    "    .lower()\n",
    "    .replace('t', 'a')\n",
    "    .count('e'))"
   ]
  },
  {
   "cell_type": "code",
   "execution_count": 7,
   "metadata": {
    "collapsed": false
   },
   "outputs": [
    {
     "data": {
      "text/plain": [
       "2"
      ]
     },
     "execution_count": 7,
     "metadata": {},
     "output_type": "execute_result"
    }
   ],
   "source": [
    "#  This also works but is a bit uglier\n",
    "#  Unlike other languages (which ignore whitespace), a new line in python signals a new statement.\n",
    "test_string \\\n",
    "    .strip('?!') \\\n",
    "    .lower() \\\n",
    "    .replace('t', 'a') \\\n",
    "    .count('e')"
   ]
  },
  {
   "cell_type": "code",
   "execution_count": 8,
   "metadata": {
    "collapsed": false
   },
   "outputs": [
    {
     "name": "stdout",
     "output_type": "stream",
     "text": [
      "A HIDDEN TEST STRING\n",
      "a hidden test string\n",
      "a hidden aesa saring\n",
      "2\n"
     ]
    }
   ],
   "source": [
    "# We can print out each step of the expression as its evaluated\n",
    "foo = test_string.strip('?!')\n",
    "print(foo);\n",
    "\n",
    "foo = foo.lower()\n",
    "print(foo)\n",
    "\n",
    "foo = foo.replace('t', 'a')\n",
    "print(foo)\n",
    "\n",
    "foo = foo.count('e')\n",
    "print(foo)"
   ]
  },
  {
   "cell_type": "markdown",
   "metadata": {},
   "source": [
    "### Problem 2\n",
    "<span style=\"color:green\">Strip each letter 'a' from the right side, switch the case of each letter (from lower to upper and from upper to lower) and find the position(aka index) of the first letter 'o' </span>. Use a combination of the methods above. You can check the [string method documentation.](https://docs.python.org/3.5/library/stdtypes.html#string-methods)"
   ]
  },
  {
   "cell_type": "code",
   "execution_count": 26,
   "metadata": {
    "collapsed": false
   },
   "outputs": [],
   "source": [
    "test_string = 'aaaa TOO many aaaaaaaaa'\n",
    "# your code here"
   ]
  },
  {
   "cell_type": "markdown",
   "metadata": {},
   "source": [
    "### Getting the length of a string: Is it a function, attribute or method?\n",
    "Obtaining the length of a string is one of the most straightforward pieces of information that you could get from a string. By looking at the above examples you would think that there might be an attribute like...  \n",
    "\n",
    "`>>>test_string.len`  \n",
    "But there is no such attribute and this would result in an error. You might then immediately think that maybe getting the length is a method and try...  \n",
    "\n",
    "`>>>test_string.len()`  \n",
    "But yet again, this is not a method and would result in an error.\n",
    "\n",
    "### So how do you get the length of a string?\n",
    "There is actually the builtin **function** (not method) **`len()`** that returns the string length. A function is not directly attached to any object."
   ]
  },
  {
   "cell_type": "code",
   "execution_count": 9,
   "metadata": {
    "collapsed": false
   },
   "outputs": [
    {
     "data": {
      "text/plain": [
       "23"
      ]
     },
     "execution_count": 9,
     "metadata": {},
     "output_type": "execute_result"
    }
   ],
   "source": [
    "# Getting the length of a string using the len function\n",
    "test_string = 'yet another test string'\n",
    "len(test_string)"
   ]
  },
  {
   "cell_type": "markdown",
   "metadata": {},
   "source": [
    "### More on the `len()` function\n",
    "**`len()`** is a built-in function (Python has about 70 standard built-in functions) and will return the length of any object that has implemented the **`__len__`** special method. If you look above at the list of all the string methods that resulted from the **`dir()`** function you will see **`__len__`**. \n",
    "\n",
    "Again, all these methods that have double underscores before and after the method name are **special** and mean that there is another python construct that will be available to the programmer for that object. In this case, when you see that one of the available methods is **`__len__`**, you will know that the `len()` function can be used on that object.\n",
    "\n",
    "### Can you use the `__len__` method?\n",
    "An interesting aside is that you can actually use the double underscore methods directly instead of the special python constructs that are built for them, though you would almost never need to do this in practice."
   ]
  },
  {
   "cell_type": "code",
   "execution_count": 28,
   "metadata": {
    "collapsed": false
   },
   "outputs": [
    {
     "data": {
      "text/plain": [
       "23"
      ]
     },
     "execution_count": 28,
     "metadata": {},
     "output_type": "execute_result"
    }
   ],
   "source": [
    "# Using the __len__ method instead of the len() function\n",
    "test_string.__len__()"
   ]
  },
  {
   "cell_type": "markdown",
   "metadata": {},
   "source": [
    "### remember that `__add__` special method\n",
    "Since we saw `__add__`, we know that the **+** operator will do something with strings. Using the plus sign is how you concatenate strings in python"
   ]
  },
  {
   "cell_type": "code",
   "execution_count": 29,
   "metadata": {
    "collapsed": false
   },
   "outputs": [
    {
     "data": {
      "text/plain": [
       "'abcdefghijklmnop'"
      ]
     },
     "execution_count": 29,
     "metadata": {},
     "output_type": "execute_result"
    }
   ],
   "source": [
    "'abcde' + 'fghijk' + 'lmnop'"
   ]
  },
  {
   "cell_type": "code",
   "execution_count": 30,
   "metadata": {
    "collapsed": false
   },
   "outputs": [
    {
     "data": {
      "text/plain": [
       "'abcdefghijklmnop'"
      ]
     },
     "execution_count": 30,
     "metadata": {},
     "output_type": "execute_result"
    }
   ],
   "source": [
    "# you can also directly call the __add__ method\n",
    "'abcde'.__add__('fghijk',).__add__('lmnop')"
   ]
  },
  {
   "cell_type": "markdown",
   "metadata": {},
   "source": [
    "### What happens if you subtract strings?\n",
    "A Python object must implement the **`__sub__`** special method for the subtraction sign to be meaningful for that object. **`__sub__`** was not in the string method list and will yield an error."
   ]
  },
  {
   "cell_type": "code",
   "execution_count": 31,
   "metadata": {
    "collapsed": false
   },
   "outputs": [
    {
     "ename": "TypeError",
     "evalue": "unsupported operand type(s) for -: 'str' and 'str'",
     "output_type": "error",
     "traceback": [
      "\u001b[0;31m---------------------------------------------------------------------------\u001b[0m",
      "\u001b[0;31mTypeError\u001b[0m                                 Traceback (most recent call last)",
      "\u001b[0;32m<ipython-input-31-1bc7f4cd5547>\u001b[0m in \u001b[0;36m<module>\u001b[0;34m()\u001b[0m\n\u001b[0;32m----> 1\u001b[0;31m \u001b[0;34m'asdfa'\u001b[0m \u001b[0;34m-\u001b[0m \u001b[0;34m'a'\u001b[0m\u001b[0;34m\u001b[0m\u001b[0m\n\u001b[0m",
      "\u001b[0;31mTypeError\u001b[0m: unsupported operand type(s) for -: 'str' and 'str'"
     ]
    }
   ],
   "source": [
    "'asdfa' - 'a'"
   ]
  },
  {
   "cell_type": "markdown",
   "metadata": {},
   "source": [
    "### Why is there a `__mul__` special method?\n",
    "Looking back up the notebook, you can see the special method **`__mul__`**. This alerts the programmer that the multiplication operator (`*`) has been implemented. What does it do?"
   ]
  },
  {
   "cell_type": "code",
   "execution_count": 32,
   "metadata": {
    "collapsed": false
   },
   "outputs": [
    {
     "data": {
      "text/plain": [
       "'some test words | some test words | some test words | some test words | some test words | '"
      ]
     },
     "execution_count": 32,
     "metadata": {},
     "output_type": "execute_result"
    }
   ],
   "source": [
    "# The string is repeatedly concatenated to itself via multiplication\n",
    "'some test words | ' * 5"
   ]
  },
  {
   "cell_type": "markdown",
   "metadata": {},
   "source": [
    "### String Interpolation\n",
    "String interpolation means substituting variables inside of strings. There are a couple ways to do this, including a new more [intuitive way](https://www.python.org/dev/peps/pep-0501/) in python 3.6. But we will go over the most popular one to date. There is much [more to string interpolation.](https://pyformat.info/)"
   ]
  },
  {
   "cell_type": "code",
   "execution_count": 33,
   "metadata": {
    "collapsed": false
   },
   "outputs": [
    {
     "name": "stdout",
     "output_type": "stream",
     "text": [
      "Employee Ted is a data scientist and earns 3 dollars per year\n"
     ]
    }
   ],
   "source": [
    "# Put curly braces every place within a string where you want a substitution to occur.\n",
    "# After closing the string quote, use the.format method \n",
    "# with arguments equal to the order that you would like them substituted\n",
    "name = 'Ted'\n",
    "occupation = 'data scientist'\n",
    "salary = 3\n",
    "\n",
    "worker_info = 'Employee {} is a {} and earns {} dollars per year'.format(name, occupation, salary)\n",
    "print(worker_info)"
   ]
  },
  {
   "cell_type": "markdown",
   "metadata": {},
   "source": [
    "### Get substrings of strings\n",
    "Here is where we first introduce the index operator, **`[ ]`** which is fundamental to scientific computing in Python. The **`[ ]`** operator has the ability to grab item(s) from a sequence and grab them in most any manner you wish. Since strings are sequences of characters the **`[ ]`** operator provides lots of functionality for strings. \n",
    "\n",
    "The special method that implements this index operator is the **`__getitem__`** method."
   ]
  },
  {
   "cell_type": "code",
   "execution_count": 11,
   "metadata": {
    "collapsed": true
   },
   "outputs": [],
   "source": [
    "test_string = 'is this precourse too easy?'"
   ]
  },
  {
   "cell_type": "code",
   "execution_count": 12,
   "metadata": {
    "collapsed": false
   },
   "outputs": [
    {
     "data": {
      "text/plain": [
       "'h'"
      ]
     },
     "execution_count": 12,
     "metadata": {},
     "output_type": "execute_result"
    }
   ],
   "source": [
    "# Let's get the 4th character\n",
    "test_string[4]"
   ]
  },
  {
   "cell_type": "code",
   "execution_count": 13,
   "metadata": {
    "collapsed": false
   },
   "outputs": [
    {
     "data": {
      "text/plain": [
       "'i'"
      ]
     },
     "execution_count": 13,
     "metadata": {},
     "output_type": "execute_result"
    }
   ],
   "source": [
    "# 'h' appears to be the 5th character and not the 4th. Like most programming languages, \n",
    "#  sequences are 0-indexed in python\n",
    "test_string[0]"
   ]
  },
  {
   "cell_type": "code",
   "execution_count": 14,
   "metadata": {
    "collapsed": false
   },
   "outputs": [
    {
     "data": {
      "text/plain": [
       "'?'"
      ]
     },
     "execution_count": 14,
     "metadata": {},
     "output_type": "execute_result"
    }
   ],
   "source": [
    "# How to get the last letter of the string?\n",
    "# First we get the length\n",
    "last_position = len(test_string) - 1\n",
    "test_string[last_position]"
   ]
  },
  {
   "cell_type": "code",
   "execution_count": 15,
   "metadata": {
    "collapsed": false
   },
   "outputs": [
    {
     "data": {
      "text/plain": [
       "'?'"
      ]
     },
     "execution_count": 15,
     "metadata": {},
     "output_type": "execute_result"
    }
   ],
   "source": [
    "# That seems a little cumbersome. Python surely must have an easier way.\n",
    "# There is an easier way. Python allows indexing from the last element using negative indices starting with -1\n",
    "test_string[-1]"
   ]
  },
  {
   "cell_type": "code",
   "execution_count": 16,
   "metadata": {
    "collapsed": false
   },
   "outputs": [
    {
     "data": {
      "text/plain": [
       "'e'"
      ]
     },
     "execution_count": 16,
     "metadata": {},
     "output_type": "execute_result"
    }
   ],
   "source": [
    "# You can keep grabbing items any distance from the end\n",
    "test_string[-5]"
   ]
  },
  {
   "cell_type": "markdown",
   "metadata": {},
   "source": [
    "### Slicing strings\n",
    "Slicing a string, means to retrieve a subset of the string. There are numerous ways in which this accomplished. The bracket operator **`[ ]`** again is used along with a colon **`:`**\n",
    "\n",
    "It is best learned by example."
   ]
  },
  {
   "cell_type": "code",
   "execution_count": 17,
   "metadata": {
    "collapsed": false
   },
   "outputs": [
    {
     "data": {
      "text/plain": [
       "'his p'"
      ]
     },
     "execution_count": 17,
     "metadata": {},
     "output_type": "execute_result"
    }
   ],
   "source": [
    "# substrings are easily retrieved by giving the [] operator a starting and ending position separated by a :\n",
    "# foo[a:b] - slices from position a to b-1. It does not include position b\n",
    "test_string[4:9]"
   ]
  },
  {
   "cell_type": "code",
   "execution_count": 18,
   "metadata": {
    "collapsed": false
   },
   "outputs": [
    {
     "data": {
      "text/plain": [
       "'easy'"
      ]
     },
     "execution_count": 18,
     "metadata": {},
     "output_type": "execute_result"
    }
   ],
   "source": [
    "# you can also slice from the end using negative indices\n",
    "test_string[-5:-1]"
   ]
  },
  {
   "cell_type": "code",
   "execution_count": 19,
   "metadata": {
    "collapsed": false
   },
   "outputs": [
    {
     "data": {
      "text/plain": [
       "'is thi'"
      ]
     },
     "execution_count": 19,
     "metadata": {},
     "output_type": "execute_result"
    }
   ],
   "source": [
    "# You can slice by only giving either a starting or ending index\n",
    "# With no starting index it is defaulted to 0\n",
    "test_string[:6]"
   ]
  },
  {
   "cell_type": "code",
   "execution_count": 20,
   "metadata": {
    "collapsed": false
   },
   "outputs": [
    {
     "data": {
      "text/plain": [
       "'o easy?'"
      ]
     },
     "execution_count": 20,
     "metadata": {},
     "output_type": "execute_result"
    }
   ],
   "source": [
    "# slice from the 7th from the last position to the end\n",
    "test_string[-7:]"
   ]
  },
  {
   "cell_type": "code",
   "execution_count": 21,
   "metadata": {
    "collapsed": false
   },
   "outputs": [
    {
     "data": {
      "text/plain": [
       "'our'"
      ]
     },
     "execution_count": 21,
     "metadata": {},
     "output_type": "execute_result"
    }
   ],
   "source": [
    "# you can chain together slicing\n",
    "test_string[5:15][-3:]"
   ]
  },
  {
   "cell_type": "markdown",
   "metadata": {},
   "source": [
    "### More formal slicing definition [start : stop : step]\n",
    "Now that you have seen some string slicing in action. String slicing works within the bracket operator by passing it the starting index, the stopping index and the stepping amount. `foo[4:10:2]` slices from element 4 up to (but not including) element 10 by 2. If the step is not given it is defaulted to 1."
   ]
  },
  {
   "cell_type": "code",
   "execution_count": 22,
   "metadata": {
    "collapsed": false
   },
   "outputs": [
    {
     "data": {
      "text/plain": [
       "'hsp'"
      ]
     },
     "execution_count": 22,
     "metadata": {},
     "output_type": "execute_result"
    }
   ],
   "source": [
    "# its also possible to slice every nth letter with the syntax [start:stop:step]\n",
    "# This slices location 4 to 10 picking up every other character\n",
    "test_string[4:10:2]"
   ]
  },
  {
   "cell_type": "code",
   "execution_count": 23,
   "metadata": {
    "collapsed": false
   },
   "outputs": [
    {
     "data": {
      "text/plain": [
       "'psh'"
      ]
     },
     "execution_count": 23,
     "metadata": {},
     "output_type": "execute_result"
    }
   ],
   "source": [
    "# Very usefully, it is possible to take negative steps. Make sure start is higher than stop this time\n",
    "test_string[8:3:-2]"
   ]
  },
  {
   "cell_type": "code",
   "execution_count": 24,
   "metadata": {
    "collapsed": false
   },
   "outputs": [
    {
     "data": {
      "text/plain": [
       "'?ysae oot esruocerp siht si'"
      ]
     },
     "execution_count": 24,
     "metadata": {},
     "output_type": "execute_result"
    }
   ],
   "source": [
    "# And to fully reverse a string simply do not input a start or stop, just a step of -1\n",
    "test_string[::-1]"
   ]
  },
  {
   "cell_type": "code",
   "execution_count": 48,
   "metadata": {
    "collapsed": false
   },
   "outputs": [
    {
     "ename": "IndexError",
     "evalue": "string index out of range",
     "output_type": "error",
     "traceback": [
      "\u001b[0;31m---------------------------------------------------------------------------\u001b[0m",
      "\u001b[0;31mIndexError\u001b[0m                                Traceback (most recent call last)",
      "\u001b[0;32m<ipython-input-48-9d1568d589c4>\u001b[0m in \u001b[0;36m<module>\u001b[0;34m()\u001b[0m\n\u001b[1;32m      1\u001b[0m \u001b[0;31m# error will occur if you try and access an index out of range\u001b[0m\u001b[0;34m\u001b[0m\u001b[0;34m\u001b[0m\u001b[0m\n\u001b[0;32m----> 2\u001b[0;31m \u001b[0mtest_string\u001b[0m\u001b[0;34m[\u001b[0m\u001b[0;36m40\u001b[0m\u001b[0;34m]\u001b[0m\u001b[0;34m\u001b[0m\u001b[0m\n\u001b[0m",
      "\u001b[0;31mIndexError\u001b[0m: string index out of range"
     ]
    }
   ],
   "source": [
    "# error will occur if you try and access an index out of range\n",
    "test_string[40]"
   ]
  },
  {
   "cell_type": "code",
   "execution_count": 49,
   "metadata": {
    "collapsed": false
   },
   "outputs": [
    {
     "data": {
      "text/plain": [
       "'his precourse too easy?'"
      ]
     },
     "execution_count": 49,
     "metadata": {},
     "output_type": "execute_result"
    }
   ],
   "source": [
    "# but no error will occur when your index is out of range in a slice\n",
    "test_string[4:600]"
   ]
  },
  {
   "cell_type": "markdown",
   "metadata": {},
   "source": [
    "### Problem 3\n",
    "<span style=\"color:green\">Slice this string from index 5 to the end by every 4th element</span>"
   ]
  },
  {
   "cell_type": "code",
   "execution_count": 50,
   "metadata": {
    "collapsed": true
   },
   "outputs": [],
   "source": [
    "test_string = 'or is this precourse too difficult?'\n",
    "# your code here"
   ]
  },
  {
   "cell_type": "markdown",
   "metadata": {},
   "source": [
    "### Problem 4\n",
    "<span style=\"color:green\">Get every third element starting from the end to the beginning </span>"
   ]
  },
  {
   "cell_type": "code",
   "execution_count": 51,
   "metadata": {
    "collapsed": true
   },
   "outputs": [],
   "source": [
    "# your code here"
   ]
  },
  {
   "cell_type": "markdown",
   "metadata": {},
   "source": [
    "### Problem 5\n",
    "<span style=\"color:green\">Use four chained operators on a string of your choice. Look at the methods in the docs or above </span>"
   ]
  },
  {
   "cell_type": "code",
   "execution_count": 52,
   "metadata": {
    "collapsed": true
   },
   "outputs": [],
   "source": [
    "# Enter in a string inside the quotes\n",
    "your_string = ''\n",
    "# your code here"
   ]
  },
  {
   "cell_type": "markdown",
   "metadata": {},
   "source": [
    "### What happens if you try and assign a new value to a character or slice of a string?\n",
    "Since strings are **immutable** (can't be changed once created) so this will cause an error."
   ]
  },
  {
   "cell_type": "code",
   "execution_count": 53,
   "metadata": {
    "collapsed": false
   },
   "outputs": [
    {
     "ename": "TypeError",
     "evalue": "'str' object does not support item assignment",
     "output_type": "error",
     "traceback": [
      "\u001b[0;31m---------------------------------------------------------------------------\u001b[0m",
      "\u001b[0;31mTypeError\u001b[0m                                 Traceback (most recent call last)",
      "\u001b[0;32m<ipython-input-53-48c8add3df84>\u001b[0m in \u001b[0;36m<module>\u001b[0;34m()\u001b[0m\n\u001b[0;32m----> 1\u001b[0;31m \u001b[0mtest_string\u001b[0m\u001b[0;34m[\u001b[0m\u001b[0;36m7\u001b[0m\u001b[0;34m]\u001b[0m \u001b[0;34m=\u001b[0m \u001b[0;34m'z'\u001b[0m\u001b[0;34m\u001b[0m\u001b[0m\n\u001b[0m",
      "\u001b[0;31mTypeError\u001b[0m: 'str' object does not support item assignment"
     ]
    }
   ],
   "source": [
    "test_string[7] = 'z'"
   ]
  },
  {
   "cell_type": "code",
   "execution_count": 54,
   "metadata": {
    "collapsed": false
   },
   "outputs": [
    {
     "ename": "TypeError",
     "evalue": "'str' object does not support item assignment",
     "output_type": "error",
     "traceback": [
      "\u001b[0;31m---------------------------------------------------------------------------\u001b[0m",
      "\u001b[0;31mTypeError\u001b[0m                                 Traceback (most recent call last)",
      "\u001b[0;32m<ipython-input-54-f2192b9adde1>\u001b[0m in \u001b[0;36m<module>\u001b[0;34m()\u001b[0m\n\u001b[0;32m----> 1\u001b[0;31m \u001b[0mtest_string\u001b[0m\u001b[0;34m[\u001b[0m\u001b[0;36m7\u001b[0m\u001b[0;34m:\u001b[0m\u001b[0;36m20\u001b[0m\u001b[0;34m:\u001b[0m\u001b[0;34m-\u001b[0m\u001b[0;36m1\u001b[0m\u001b[0;34m]\u001b[0m \u001b[0;34m=\u001b[0m \u001b[0;34m'z'\u001b[0m\u001b[0;34m\u001b[0m\u001b[0m\n\u001b[0m",
      "\u001b[0;31mTypeError\u001b[0m: 'str' object does not support item assignment"
     ]
    }
   ],
   "source": [
    "test_string[7:20:-1] = 'z'"
   ]
  },
  {
   "cell_type": "markdown",
   "metadata": {},
   "source": [
    "### Mutable and Immutable Objects\n",
    "Python objects are either mutable or immutable. Mutable objects can have their value's changed after creation. Immutable objects are those whose values cannot be changed after creation.\n",
    "\n",
    "Strings, ints, floats, booleans are types of objects that are immutable (unable to be changed after creation).\n",
    "\n",
    "We will soon learn mutable types like lists, dictionaries and sets."
   ]
  },
  {
   "cell_type": "markdown",
   "metadata": {},
   "source": [
    "### Didn't we have some strings from above that were mutated?\n",
    "In some of the above examples strings were concatenated together to form a new string but the original strings were never changed."
   ]
  },
  {
   "cell_type": "code",
   "execution_count": 55,
   "metadata": {
    "collapsed": false
   },
   "outputs": [
    {
     "name": "stdout",
     "output_type": "stream",
     "text": [
      "string 1 string 2\n",
      "string 1 \n",
      "string 2\n"
     ]
    }
   ],
   "source": [
    "# Concatenation does not mutate the underlying string\n",
    "a = 'string 1 '\n",
    "b = 'string 2'\n",
    "print(a + b)\n",
    "print(a)\n",
    "print(b)"
   ]
  },
  {
   "cell_type": "markdown",
   "metadata": {},
   "source": [
    "### Multiline comments with strings\n",
    "Instead of using the # for commenting out multiple lines of code, Python allows you to use triple quotes that are unassigned to a variable to comment out large blocks of texts. This is actually standard practice for writing documentation in methods that you write and are intuitively named 'docstrings'."
   ]
  },
  {
   "cell_type": "code",
   "execution_count": 56,
   "metadata": {
    "collapsed": false
   },
   "outputs": [],
   "source": [
    "\"\"\"\n",
    "This area can be\n",
    "used as a multiline comment since\n",
    "the normal comment character # does not allow for this.\n",
    "\n",
    "This multiline comment is especially important when writing docstrings for functions\n",
    "\"\"\"\n",
    "foo = \"executing a string assignment\"\n",
    "# no output"
   ]
  },
  {
   "cell_type": "markdown",
   "metadata": {},
   "source": [
    "### Simple test whether a string contains a substring"
   ]
  },
  {
   "cell_type": "code",
   "execution_count": 57,
   "metadata": {
    "collapsed": true
   },
   "outputs": [],
   "source": [
    "foo = \"executing a string assignment\""
   ]
  },
  {
   "cell_type": "code",
   "execution_count": 58,
   "metadata": {
    "collapsed": false
   },
   "outputs": [
    {
     "data": {
      "text/plain": [
       "3"
      ]
     },
     "execution_count": 58,
     "metadata": {},
     "output_type": "execute_result"
    }
   ],
   "source": [
    "# you can use the index method, which gives you the position of the substring if found\n",
    "foo.index('cut')"
   ]
  },
  {
   "cell_type": "code",
   "execution_count": 59,
   "metadata": {
    "collapsed": false
   },
   "outputs": [
    {
     "data": {
      "text/plain": [
       "True"
      ]
     },
     "execution_count": 59,
     "metadata": {},
     "output_type": "execute_result"
    }
   ],
   "source": [
    "# or if you just need a boolean returned you use the keyword in\n",
    "'cut' in foo"
   ]
  },
  {
   "cell_type": "code",
   "execution_count": 60,
   "metadata": {
    "collapsed": false
   },
   "outputs": [
    {
     "data": {
      "text/plain": [
       "True"
      ]
     },
     "execution_count": 60,
     "metadata": {},
     "output_type": "execute_result"
    }
   ],
   "source": [
    "# can also use keyword not to return the opposite\n",
    "'foo' not in foo"
   ]
  },
  {
   "cell_type": "markdown",
   "metadata": {},
   "source": [
    "## Congrats on finishing notebook 2!\n",
    "Move on to notebook 3! The pre-course is mandatory so make sure you finish it all!"
   ]
  }
 ],
 "metadata": {
  "anaconda-cloud": {},
  "kernelspec": {
   "display_name": "Python [default]",
   "language": "python",
   "name": "python3"
  },
  "language_info": {
   "codemirror_mode": {
    "name": "ipython",
    "version": 3
   },
   "file_extension": ".py",
   "mimetype": "text/x-python",
   "name": "python",
   "nbconvert_exporter": "python",
   "pygments_lexer": "ipython3",
   "version": "3.5.2"
  }
 },
 "nbformat": 4,
 "nbformat_minor": 0
}
