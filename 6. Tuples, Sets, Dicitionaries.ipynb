{
 "cells": [
  {
   "cell_type": "markdown",
   "metadata": {},
   "source": [
    "# Tuples, Sets and Dictionaries\n",
    "Data structures are constructs that store and contain data. The Python list is probably the most common data structure and the one we have covered thus far. This section will cover three other major data structures - tuples, sets and dictionaries, each with its own unique ability to store and retrieve data. Python has many more data structures but these three are built-in and are the most common and most useful.\n",
    "\n",
    "### Tuples\n",
    "Tuples can be thought of as immutable lists. Remember that immutable means that nothing about the object is able to be changed once created. No elements can be added, deleted or changed from them. Tuples are declared with a sequence of objects wrapped in **parentheses**.\n",
    "\n",
    "Below are a few different ways to declare a tuple"
   ]
  },
  {
   "cell_type": "code",
   "execution_count": 17,
   "metadata": {
    "collapsed": false
   },
   "outputs": [
    {
     "name": "stdout",
     "output_type": "stream",
     "text": [
      "(8, 6, 8, 'asfd', <built-in function max>, True, (1, 2), [-9, 8])\n",
      "()\n",
      "(8,)\n",
      "(1, 3, 6)\n",
      "(0, 1, 2, 3, 4, 5, 6, 7, 8, 9)\n"
     ]
    }
   ],
   "source": [
    "### Declare a tuple and insert many different types into it even other tuples and lists\n",
    "a = (8,6,8,'asfd', max, True, (1, 2), [-9, 8])\n",
    "\n",
    "# an empty tuple can be declared using the tuple keyword\n",
    "b = tuple()\n",
    "\n",
    "# empty tuple as just parentheses\n",
    "b2 = ()\n",
    "\n",
    "# a single element tuple must have a comma after its only element\n",
    "c = (8,)\n",
    "\n",
    "# turn a list/range into a tuple\n",
    "d = tuple([1, 3, 6])\n",
    "e = tuple(range(10))\n",
    "\n",
    "print(a, b, c, d, e, sep='\\n')"
   ]
  },
  {
   "cell_type": "markdown",
   "metadata": {},
   "source": [
    "### Tuples without parentheses\n",
    "Tuples can also be declared as just comma separated values without enclosing parentheses. This is actually called tuple 'packing'."
   ]
  },
  {
   "cell_type": "code",
   "execution_count": 18,
   "metadata": {
    "collapsed": false
   },
   "outputs": [
    {
     "data": {
      "text/plain": [
       "(1, 2, 'asdf')"
      ]
     },
     "execution_count": 18,
     "metadata": {},
     "output_type": "execute_result"
    }
   ],
   "source": [
    "a = 1, 2, 'asdf'\n",
    "a"
   ]
  },
  {
   "cell_type": "markdown",
   "metadata": {},
   "source": [
    "### Tuple unpacking\n",
    "The inverse of the above operation (called 'unpacking') can also take place. The values of a tuple can be simultaneously assigned to different variables all in one step."
   ]
  },
  {
   "cell_type": "code",
   "execution_count": 19,
   "metadata": {
    "collapsed": false
   },
   "outputs": [
    {
     "name": "stdout",
     "output_type": "stream",
     "text": [
      "1\n",
      "one\n",
      "True\n"
     ]
    }
   ],
   "source": [
    "# unpack a tuple with 3 elements into 3 different variables\n",
    "my_tuple = (1, 'one', True)\n",
    "a, b, c = my_tuple\n",
    "print(a)\n",
    "print(b)\n",
    "print(c)"
   ]
  },
  {
   "cell_type": "code",
   "execution_count": 1,
   "metadata": {
    "collapsed": false
   },
   "outputs": [
    {
     "name": "stdout",
     "output_type": "stream",
     "text": [
      "1\n",
      "one\n",
      "True\n"
     ]
    }
   ],
   "source": [
    "# The same thing can be done with lists\n",
    "my_list = [1, 'one', True]\n",
    "a, b, c = my_list\n",
    "print(a)\n",
    "print(b)\n",
    "print(c)"
   ]
  },
  {
   "cell_type": "markdown",
   "metadata": {},
   "source": [
    "### More packing/unpacking examples\n",
    "There are many, many more ways of unpacking/packing Python sequences. See [this stackoverflow post](http://stackoverflow.com/questions/6967632/unpacking-extended-unpacking-and-nested-extended-unpacking) that details many more examples. "
   ]
  },
  {
   "cell_type": "markdown",
   "metadata": {},
   "source": [
    "### Accessing Elements in Tuples: Same as Lists\n",
    "Tuples and lists share the same mechanism to retrieve the items inside of them. The brackets **`[ ]`** operator can be used to grab single elements or slices of elements. All the following examples should look familiar to you as they would return the same result whether the object was a list or a tuple."
   ]
  },
  {
   "cell_type": "code",
   "execution_count": 31,
   "metadata": {
    "collapsed": false
   },
   "outputs": [
    {
     "data": {
      "text/plain": [
       "4"
      ]
     },
     "execution_count": 31,
     "metadata": {},
     "output_type": "execute_result"
    }
   ],
   "source": [
    "# declare a tuple and get the first item\n",
    "my_tuple = (4, -9, 'asdf', 5, 2.2, 7, True, 0)\n",
    "\n",
    "my_tuple[0]"
   ]
  },
  {
   "cell_type": "code",
   "execution_count": 32,
   "metadata": {
    "collapsed": false
   },
   "outputs": [
    {
     "data": {
      "text/plain": [
       "0"
      ]
     },
     "execution_count": 32,
     "metadata": {},
     "output_type": "execute_result"
    }
   ],
   "source": [
    "# get the last item\n",
    "my_tuple[-1]"
   ]
  },
  {
   "cell_type": "code",
   "execution_count": 33,
   "metadata": {
    "collapsed": false
   },
   "outputs": [
    {
     "data": {
      "text/plain": [
       "(4, -9, 'asdf')"
      ]
     },
     "execution_count": 33,
     "metadata": {},
     "output_type": "execute_result"
    }
   ],
   "source": [
    "# get the first three items\n",
    "my_tuple[:3]"
   ]
  },
  {
   "cell_type": "code",
   "execution_count": 34,
   "metadata": {
    "collapsed": false
   },
   "outputs": [
    {
     "data": {
      "text/plain": [
       "False"
      ]
     },
     "execution_count": 34,
     "metadata": {},
     "output_type": "execute_result"
    }
   ],
   "source": [
    "# check if an element is in the tuple\n",
    "50 in my_tuple"
   ]
  },
  {
   "cell_type": "code",
   "execution_count": 36,
   "metadata": {
    "collapsed": false
   },
   "outputs": [
    {
     "data": {
      "text/plain": [
       "('asdf', 2.2)"
      ]
     },
     "execution_count": 36,
     "metadata": {},
     "output_type": "execute_result"
    }
   ],
   "source": [
    "# slice a tuple from 2 to 6 with step size of 2\n",
    "my_tuple[2:6:2]"
   ]
  },
  {
   "cell_type": "code",
   "execution_count": 38,
   "metadata": {
    "collapsed": false
   },
   "outputs": [
    {
     "data": {
      "text/plain": [
       "(5, 8, 9, 5, 8)"
      ]
     },
     "execution_count": 38,
     "metadata": {},
     "output_type": "execute_result"
    }
   ],
   "source": [
    "# concatenate two tuples together\n",
    "(5, 8, 9) + (5, 8)"
   ]
  },
  {
   "cell_type": "markdown",
   "metadata": {},
   "source": [
    "### Tuple Methods\n",
    "Tuples only have two public methods (those without the double underscores)."
   ]
  },
  {
   "cell_type": "markdown",
   "metadata": {},
   "source": [
    "### Problem 1\n",
    "\n",
    "<span style=\"color:green\">Find all the public tuple methods. There was a similar example done in the lists notebook if you forgot.</span>"
   ]
  },
  {
   "cell_type": "code",
   "execution_count": 2,
   "metadata": {
    "collapsed": false
   },
   "outputs": [],
   "source": [
    "# your code here"
   ]
  },
  {
   "cell_type": "markdown",
   "metadata": {},
   "source": [
    "### Sets\n",
    "Sets in Python are similar but slightly different than lists or tuples. Python sets are unordered sequences of objects that only appear once. Sets are mutable objects. You may modify them after creation. They are defined by curly braces followed by comma separated values or with the `set` keyword. See set creation examples below."
   ]
  },
  {
   "cell_type": "code",
   "execution_count": 58,
   "metadata": {
    "collapsed": false
   },
   "outputs": [
    {
     "name": "stdout",
     "output_type": "stream",
     "text": [
      "{5}\n",
      "{1, 2, 4}\n",
      "set()\n",
      "{True, 'asdf', 5.4, 9}\n"
     ]
    }
   ],
   "source": [
    "# creating sets\n",
    "a = {5}\n",
    "b = set([1, 2, 2, 4]) # needs brackets or parentheses around comma separated values\n",
    "c = set() # must use the keyword set to create an empty set\n",
    "dictionary = {} # this creates an empty DICTIONARY not a set\n",
    "e = {9, True, 5.4, 'asdf', 'asdf', 'asdf', True}\n",
    "\n",
    "print(a, b, c, e, sep='\\n')"
   ]
  },
  {
   "cell_type": "markdown",
   "metadata": {},
   "source": [
    "### Accessing items in a set\n",
    "Since sets are unordered, there is no way to access a specific element within the set like with tuples/lists. \n",
    "\n",
    "### What are sets used for\n",
    "Think of solving classic ven diagram problems. We are primarily interested in membership of items in a set or sets. What two sets have in common (their intersection), their union, their complement. These membership questions are what we want to ask.\n",
    "\n",
    "### Speed of sets\n",
    "Sets are implemented using hash tables which allow for extremely fast membership checking. This is different than checking membership in a list where all the elements must be checked one at a time.\n",
    "\n",
    "### Using %timeit magic function\n",
    "iPython comes with some nifty extra functionality called 'magic' functions. The %timeit magic function allows you to time a code block in your notebook. The example below shows how much faster membership checking is for sets than it is for lists. A list and a set are created with the exact same one million elements. The number 900,000 will be checked for membership in each object. To time a single line of code, proceed the line by `%timeit`."
   ]
  },
  {
   "cell_type": "code",
   "execution_count": 64,
   "metadata": {
    "collapsed": true
   },
   "outputs": [],
   "source": [
    "# create list and set\n",
    "n = 1000000\n",
    "num_check = 900000\n",
    "set_a = set(range(n))\n",
    "list_a = list(range(n))"
   ]
  },
  {
   "cell_type": "markdown",
   "metadata": {},
   "source": [
    "### Unbelievable time difference!\n",
    "Time set and list membership. The set took 82 nanoseconds (one billionth of a second) vs the list's 12 milliseconds (one thousandth) of a second. That is about 100,000 times faster for the set than the list."
   ]
  },
  {
   "cell_type": "code",
   "execution_count": 65,
   "metadata": {
    "collapsed": false
   },
   "outputs": [
    {
     "name": "stdout",
     "output_type": "stream",
     "text": [
      "The slowest run took 14.73 times longer than the fastest. This could mean that an intermediate result is being cached.\n",
      "10000000 loops, best of 3: 81.8 ns per loop\n"
     ]
    }
   ],
   "source": [
    "%timeit num_check in set_a"
   ]
  },
  {
   "cell_type": "code",
   "execution_count": 70,
   "metadata": {
    "collapsed": false
   },
   "outputs": [
    {
     "name": "stdout",
     "output_type": "stream",
     "text": [
      "100 loops, best of 3: 12.6 ms per loop\n"
     ]
    }
   ],
   "source": [
    "%timeit num_check in list_a"
   ]
  },
  {
   "cell_type": "markdown",
   "metadata": {},
   "source": [
    "### Set Operations\n",
    "See examples below on basic operations of sets - adding, removing, union, intersection"
   ]
  },
  {
   "cell_type": "code",
   "execution_count": 71,
   "metadata": {
    "collapsed": true
   },
   "outputs": [],
   "source": [
    "# define two sets\n",
    "a = {1, 2, 3, 4}\n",
    "b = {3, 4, 5, 6}"
   ]
  },
  {
   "cell_type": "code",
   "execution_count": 78,
   "metadata": {
    "collapsed": false
   },
   "outputs": [
    {
     "data": {
      "text/plain": [
       "False"
      ]
     },
     "execution_count": 78,
     "metadata": {},
     "output_type": "execute_result"
    }
   ],
   "source": [
    "# Check membership\n",
    "5 in a"
   ]
  },
  {
   "cell_type": "code",
   "execution_count": 79,
   "metadata": {
    "collapsed": false
   },
   "outputs": [
    {
     "data": {
      "text/plain": [
       "False"
      ]
     },
     "execution_count": 79,
     "metadata": {},
     "output_type": "execute_result"
    }
   ],
   "source": [
    "6 not in b"
   ]
  },
  {
   "cell_type": "code",
   "execution_count": 77,
   "metadata": {
    "collapsed": false
   },
   "outputs": [
    {
     "name": "stdout",
     "output_type": "stream",
     "text": [
      "{10, 1, 2, 3, 4}\n",
      "{3, 4, 5, 6}\n"
     ]
    }
   ],
   "source": [
    "# add an element to set \n",
    "a.add(10) # operation happens in place\n",
    "b.add(6) # 6 is already a member so no item is added\n",
    "print(a)\n",
    "print(b)"
   ]
  },
  {
   "cell_type": "code",
   "execution_count": 83,
   "metadata": {
    "collapsed": false
   },
   "outputs": [
    {
     "data": {
      "text/plain": [
       "{1, 2, 3, 4, 5, 6, 10}"
      ]
     },
     "execution_count": 83,
     "metadata": {},
     "output_type": "execute_result"
    }
   ],
   "source": [
    "# take the union of a set and store it to another variable\n",
    "c = a.union(b)\n",
    "c"
   ]
  },
  {
   "cell_type": "code",
   "execution_count": 84,
   "metadata": {
    "collapsed": false
   },
   "outputs": [
    {
     "data": {
      "text/plain": [
       "{1, 2, 3, 4, 5, 6, 10}"
      ]
     },
     "execution_count": 84,
     "metadata": {},
     "output_type": "execute_result"
    }
   ],
   "source": [
    "# you can also use the | operator for unions\n",
    "c = a | b\n",
    "c"
   ]
  },
  {
   "cell_type": "code",
   "execution_count": 86,
   "metadata": {
    "collapsed": false
   },
   "outputs": [
    {
     "data": {
      "text/plain": [
       "{3, 4}"
      ]
     },
     "execution_count": 86,
     "metadata": {},
     "output_type": "execute_result"
    }
   ],
   "source": [
    "# take the intersection\n",
    "c = a.intersection(b)\n",
    "c"
   ]
  },
  {
   "cell_type": "code",
   "execution_count": 87,
   "metadata": {
    "collapsed": false
   },
   "outputs": [
    {
     "data": {
      "text/plain": [
       "{3, 4}"
      ]
     },
     "execution_count": 87,
     "metadata": {},
     "output_type": "execute_result"
    }
   ],
   "source": [
    "# this can also be done using the & operator\n",
    "c = a & b\n",
    "c"
   ]
  },
  {
   "cell_type": "markdown",
   "metadata": {},
   "source": [
    "### Problem 2\n",
    "\n",
    "<span style=\"color:green\">Define a set and use a builtin function that will output the number of elements in that set.</span>"
   ]
  },
  {
   "cell_type": "code",
   "execution_count": 1,
   "metadata": {
    "collapsed": false
   },
   "outputs": [
    {
     "data": {
      "text/plain": [
       "4"
      ]
     },
     "execution_count": 1,
     "metadata": {},
     "output_type": "execute_result"
    }
   ],
   "source": [
    "set ={22,33,44,55}\n",
    "len(set)"
   ]
  },
  {
   "cell_type": "markdown",
   "metadata": {},
   "source": [
    "### Problem 3\n",
    "\n",
    "<span style=\"color:green\">Create a set of all the even numbers from 0 to 100. Then create another set of every number divisible by 7 from 0 to 100. Find the intersection of those sets.</span>"
   ]
  },
  {
   "cell_type": "code",
   "execution_count": 17,
   "metadata": {
    "collapsed": false
   },
   "outputs": [
    {
     "ename": "TypeError",
     "evalue": "'set' object is not callable",
     "output_type": "error",
     "traceback": [
      "\u001b[0;31m---------------------------------------------------------------------------\u001b[0m",
      "\u001b[0;31mTypeError\u001b[0m                                 Traceback (most recent call last)",
      "\u001b[0;32m<ipython-input-17-5fd1794f8684>\u001b[0m in \u001b[0;36m<module>\u001b[0;34m()\u001b[0m\n\u001b[0;32m----> 1\u001b[0;31m \u001b[0mone\u001b[0m \u001b[0;34m=\u001b[0m \u001b[0mset\u001b[0m\u001b[0;34m(\u001b[0m\u001b[0mrange\u001b[0m\u001b[0;34m(\u001b[0m\u001b[0;36m0\u001b[0m\u001b[0;34m,\u001b[0m \u001b[0;36m101\u001b[0m\u001b[0;34m,\u001b[0m \u001b[0;36m2\u001b[0m\u001b[0;34m)\u001b[0m\u001b[0;34m)\u001b[0m\u001b[0;34m\u001b[0m\u001b[0m\n\u001b[0m\u001b[1;32m      2\u001b[0m \u001b[0mtwo\u001b[0m \u001b[0;34m=\u001b[0m \u001b[0mset\u001b[0m\u001b[0;34m(\u001b[0m\u001b[0mrange\u001b[0m\u001b[0;34m(\u001b[0m\u001b[0;36m0\u001b[0m\u001b[0;34m,\u001b[0m \u001b[0;36m101\u001b[0m\u001b[0;34m,\u001b[0m \u001b[0;36m7\u001b[0m\u001b[0;34m)\u001b[0m\u001b[0;34m)\u001b[0m\u001b[0;34m\u001b[0m\u001b[0m\n\u001b[1;32m      3\u001b[0m \u001b[0mone\u001b[0m\u001b[0;34m&\u001b[0m\u001b[0mtwo\u001b[0m\u001b[0;34m\u001b[0m\u001b[0m\n",
      "\u001b[0;31mTypeError\u001b[0m: 'set' object is not callable"
     ]
    }
   ],
   "source": [
    "one = set(range(0, 101, 2))\n",
    "two = set(range(0, 101, 7))\n",
    "one&two"
   ]
  },
  {
   "cell_type": "markdown",
   "metadata": {},
   "source": [
    "### Use case for sets: What methods do tuples and lists have in common?\n",
    "Since tuples and lists are so similar, it'd be nice to know which methods they have in common and which ones are different. An elegant solution to this is provided with python sets."
   ]
  },
  {
   "cell_type": "code",
   "execution_count": 91,
   "metadata": {
    "collapsed": true
   },
   "outputs": [],
   "source": [
    "# Store all methods of lists and tuples\n",
    "some_list = []\n",
    "some_tuple = tuple()\n",
    "list_methods_set = set(dir(some_list))\n",
    "tuple_methods_set = set(dir(some_tuple))"
   ]
  },
  {
   "cell_type": "markdown",
   "metadata": {},
   "source": [
    "Get the methods in common using the intersection"
   ]
  },
  {
   "cell_type": "code",
   "execution_count": 93,
   "metadata": {
    "collapsed": false
   },
   "outputs": [
    {
     "name": "stdout",
     "output_type": "stream",
     "text": [
      "{'__setattr__', '__iter__', 'index', '__gt__', '__add__', '__reduce_ex__', '__repr__', '__getattribute__', '__str__', 'count', '__class__', '__format__', '__doc__', '__delattr__', '__ge__', '__dir__', '__subclasshook__', '__new__', '__hash__', '__ne__', '__len__', '__rmul__', '__init__', '__mul__', '__lt__', '__eq__', '__reduce__', '__getitem__', '__contains__', '__sizeof__', '__le__'}\n"
     ]
    }
   ],
   "source": [
    "# the & operator creates an intersection of sets\n",
    "common_methods = list_methods_set & tuple_methods_set\n",
    "print(common_methods)"
   ]
  },
  {
   "cell_type": "markdown",
   "metadata": {},
   "source": [
    "Get the methods that are unique to list methods. Python sets support subtraction (removing the elements from the first set that are in common with the second set) but not addition. To join two sets use the union method or operator."
   ]
  },
  {
   "cell_type": "code",
   "execution_count": 94,
   "metadata": {
    "collapsed": false
   },
   "outputs": [
    {
     "name": "stdout",
     "output_type": "stream",
     "text": [
      "{'reverse', 'append', 'copy', 'clear', 'insert', '__delitem__', '__iadd__', 'extend', '__imul__', '__reversed__', 'pop', 'remove', 'sort', '__setitem__'}\n"
     ]
    }
   ],
   "source": [
    "# get methods that are unique to lists\n",
    "print(list_methods_set - tuple_methods_set)"
   ]
  },
  {
   "cell_type": "markdown",
   "metadata": {},
   "source": [
    "### The method differences between lists and tuples\n",
    "As expected it looks like all the methods that are in common between sets and tuples are ones that don't alter the underlying object and the methods that are part of list object only all do some mutation."
   ]
  },
  {
   "cell_type": "markdown",
   "metadata": {},
   "source": [
    "### Problem 4\n",
    "\n",
    "<span style=\"color:green\">Find all the public tuple methods that are not in common with set methods.</span>"
   ]
  },
  {
   "cell_type": "code",
   "execution_count": 25,
   "metadata": {
    "collapsed": false
   },
   "outputs": [
    {
     "ename": "TypeError",
     "evalue": "'set' object is not callable",
     "output_type": "error",
     "traceback": [
      "\u001b[0;31m---------------------------------------------------------------------------\u001b[0m",
      "\u001b[0;31mTypeError\u001b[0m                                 Traceback (most recent call last)",
      "\u001b[0;32m<ipython-input-25-da94628188e1>\u001b[0m in \u001b[0;36m<module>\u001b[0;34m()\u001b[0m\n\u001b[1;32m      1\u001b[0m \u001b[0;32mfrom\u001b[0m \u001b[0msocket\u001b[0m \u001b[0;32mimport\u001b[0m \u001b[0;34m*\u001b[0m\u001b[0;34m\u001b[0m\u001b[0m\n\u001b[0;32m----> 2\u001b[0;31m \u001b[0mtuple_methods\u001b[0m \u001b[0;34m=\u001b[0m \u001b[0mset\u001b[0m\u001b[0;34m(\u001b[0m\u001b[0mdir\u001b[0m\u001b[0;34m(\u001b[0m\u001b[0mtuple\u001b[0m\u001b[0;34m)\u001b[0m\u001b[0;34m)\u001b[0m\u001b[0;34m\u001b[0m\u001b[0m\n\u001b[0m\u001b[1;32m      3\u001b[0m \u001b[0mbet_methods\u001b[0m \u001b[0;34m=\u001b[0m \u001b[0mset\u001b[0m\u001b[0;34m(\u001b[0m\u001b[0mdir\u001b[0m\u001b[0;34m(\u001b[0m\u001b[0mset\u001b[0m\u001b[0;34m)\u001b[0m\u001b[0;34m)\u001b[0m\u001b[0;34m\u001b[0m\u001b[0m\n\u001b[1;32m      4\u001b[0m \u001b[0mbet_methods\u001b[0m\u001b[0;34m\u001b[0m\u001b[0m\n",
      "\u001b[0;31mTypeError\u001b[0m: 'set' object is not callable"
     ]
    }
   ],
   "source": [
    "from socket import *\n",
    "tuple_methods = set(dir(tuple))\n",
    "set_methods = set(dir(set))\n",
    "\n"
   ]
  },
  {
   "cell_type": "markdown",
   "metadata": {},
   "source": [
    "### Problem 5: Advanced\n",
    "<span style=\"color:green\">Create a list of all the Fibonacci numbers less than 1000 and another list of all the prime numbers less than a 1000. Use a set to find the numbers that are common to both groups.</span>"
   ]
  },
  {
   "cell_type": "code",
   "execution_count": 5,
   "metadata": {
    "collapsed": true
   },
   "outputs": [],
   "source": []
  },
  {
   "cell_type": "markdown",
   "metadata": {},
   "source": [
    "### Dictionaries\n",
    "Dictionaries are powerful and flexible data structures where each element is a mapping from a `key` to a `value` or 'key value pairs'. Every key has exactly one value that is associated with it. Dictionaries are defined using the same curly braces as sets, but each element in a dictionary consists of a key value pair separated by a colon.\n",
    "\n",
    "The only restriction on dictionaries is that each key must have a value, each key must be an immutable object, and every key maps to exactly one value (just as in sets no key can repeat). Dictionaries are also unordered like sets.\n",
    "\n",
    "Let's see some examples of dictionaries defined using curly braces"
   ]
  },
  {
   "cell_type": "code",
   "execution_count": 100,
   "metadata": {
    "collapsed": false
   },
   "outputs": [],
   "source": [
    "# Defining dictionaries\n",
    "letter_dict = {'a': 1, 'b': 2, 'z': 26}\n",
    "\n",
    "num_to_word_dict = {1:'one', 2:'two', 234:'two-hundred thirty four'}\n",
    "\n",
    "city_coord_dict = {(29, 95):'Houston', (29, 90):'New Orleans'}"
   ]
  },
  {
   "cell_type": "markdown",
   "metadata": {},
   "source": [
    "If you try and use a mutable object as a key to a dictionary you will get an error."
   ]
  },
  {
   "cell_type": "code",
   "execution_count": 102,
   "metadata": {
    "collapsed": false
   },
   "outputs": [
    {
     "ename": "TypeError",
     "evalue": "unhashable type: 'list'",
     "output_type": "error",
     "traceback": [
      "\u001b[0;31m---------------------------------------------------------------------------\u001b[0m",
      "\u001b[0;31mTypeError\u001b[0m                                 Traceback (most recent call last)",
      "\u001b[0;32m<ipython-input-102-de1dcb4eb221>\u001b[0m in \u001b[0;36m<module>\u001b[0;34m()\u001b[0m\n\u001b[1;32m      1\u001b[0m \u001b[0;31m# redefine city_coord_dict with lists instead of tuples\u001b[0m\u001b[0;34m\u001b[0m\u001b[0;34m\u001b[0m\u001b[0m\n\u001b[0;32m----> 2\u001b[0;31m \u001b[0mcity_coord_dict\u001b[0m \u001b[0;34m=\u001b[0m \u001b[0;34m{\u001b[0m\u001b[0;34m[\u001b[0m\u001b[0;36m29\u001b[0m\u001b[0;34m,\u001b[0m \u001b[0;36m95\u001b[0m\u001b[0;34m]\u001b[0m\u001b[0;34m:\u001b[0m\u001b[0;34m'Houston'\u001b[0m\u001b[0;34m,\u001b[0m \u001b[0;34m[\u001b[0m\u001b[0;36m29\u001b[0m\u001b[0;34m,\u001b[0m \u001b[0;36m90\u001b[0m\u001b[0;34m]\u001b[0m\u001b[0;34m:\u001b[0m\u001b[0;34m'New Orleans'\u001b[0m\u001b[0;34m}\u001b[0m\u001b[0;34m\u001b[0m\u001b[0m\n\u001b[0m",
      "\u001b[0;31mTypeError\u001b[0m: unhashable type: 'list'"
     ]
    }
   ],
   "source": [
    "# redefine city_coord_dict with lists instead of tuples\n",
    "city_coord_dict = {[29, 95]:'Houston', [29, 90]:'New Orleans'}"
   ]
  },
  {
   "cell_type": "markdown",
   "metadata": {},
   "source": [
    "### Unhashable Type!\n",
    "Dictionaries like sets are implemented using hash tables for extremely fast lookups (but larger memory requirements) and so only objects that can be hashed (objects that can never change during their lifetime) can be used as keys.\n",
    "\n",
    "If you are unsure if an object can be used as a key you can use the `hash` function to see if an error is raised."
   ]
  },
  {
   "cell_type": "code",
   "execution_count": 104,
   "metadata": {
    "collapsed": false
   },
   "outputs": [
    {
     "data": {
      "text/plain": [
       "3713085962043070856"
      ]
     },
     "execution_count": 104,
     "metadata": {},
     "output_type": "execute_result"
    }
   ],
   "source": [
    "# using the hash function\n",
    "my_tuple = (5, 6)\n",
    "hash(my_tuple)"
   ]
  },
  {
   "cell_type": "code",
   "execution_count": 105,
   "metadata": {
    "collapsed": false
   },
   "outputs": [
    {
     "ename": "TypeError",
     "evalue": "unhashable type: 'list'",
     "output_type": "error",
     "traceback": [
      "\u001b[0;31m---------------------------------------------------------------------------\u001b[0m",
      "\u001b[0;31mTypeError\u001b[0m                                 Traceback (most recent call last)",
      "\u001b[0;32m<ipython-input-105-66e3fef2cdb4>\u001b[0m in \u001b[0;36m<module>\u001b[0;34m()\u001b[0m\n\u001b[1;32m      1\u001b[0m \u001b[0mmy_list\u001b[0m \u001b[0;34m=\u001b[0m \u001b[0;34m[\u001b[0m\u001b[0;36m5\u001b[0m\u001b[0;34m,\u001b[0m \u001b[0;36m6\u001b[0m\u001b[0;34m]\u001b[0m\u001b[0;34m\u001b[0m\u001b[0m\n\u001b[0;32m----> 2\u001b[0;31m \u001b[0mhash\u001b[0m\u001b[0;34m(\u001b[0m\u001b[0mmy_list\u001b[0m\u001b[0;34m)\u001b[0m\u001b[0;34m\u001b[0m\u001b[0m\n\u001b[0m",
      "\u001b[0;31mTypeError\u001b[0m: unhashable type: 'list'"
     ]
    }
   ],
   "source": [
    "my_list = [5, 6]\n",
    "hash(my_list)"
   ]
  },
  {
   "cell_type": "markdown",
   "metadata": {},
   "source": [
    "### Defining dictionaries with `dict` function\n",
    "The `dict` function allows for a different method of constructing a dictionary and can convert lists of lists to dictionaries."
   ]
  },
  {
   "cell_type": "code",
   "execution_count": 137,
   "metadata": {
    "collapsed": false
   },
   "outputs": [],
   "source": [
    "# dictionaries using the dict function\n",
    "d1 = {'a': 1, 'b': 2, 'c': 3} # curly braces method\n",
    "d2 = dict(a = 1, b = 2, c = 3) # this seems strange but python automatically converts the key to a string here\n",
    "d3 = dict([['a', 1], ['b', 2], ['c', 3]]) # list of 2 element lists"
   ]
  },
  {
   "cell_type": "code",
   "execution_count": 107,
   "metadata": {
    "collapsed": false
   },
   "outputs": [
    {
     "data": {
      "text/plain": [
       "({'a': 1, 'b': 2, 'c': 3}, {'a': 1, 'b': 2, 'c': 3}, {'a': 1, 'b': 2, 'c': 3})"
      ]
     },
     "execution_count": 107,
     "metadata": {},
     "output_type": "execute_result"
    }
   ],
   "source": [
    "# all dictionary declarations yielded the same dictionary data\n",
    "# the keys are the letters and the values are the numbers\n",
    "d1, d2, d3"
   ]
  },
  {
   "cell_type": "markdown",
   "metadata": {},
   "source": [
    "### Dictionary Values can be Anything\n",
    "Dictionaries are key:value pairs where the key is a hashable object. The value can be any Python object including lists or even other dictionaries."
   ]
  },
  {
   "cell_type": "code",
   "execution_count": 119,
   "metadata": {
    "collapsed": false
   },
   "outputs": [
    {
     "data": {
      "text/plain": [
       "{'Adeline': [65, 22, 10], 'Jane': [45, 98, 77], 'Sally': [87, 76, 65]}"
      ]
     },
     "execution_count": 119,
     "metadata": {},
     "output_type": "execute_result"
    }
   ],
   "source": [
    "# Let's say we are teachers with students that have test score grades\n",
    "# A dictionary is an excellent data structure to keep track of the scores\n",
    "# Let's manually create some data with 3 students that each have 3 test scores\n",
    "students = {'Sally': [87, 76, 65], 'Jane' : [45, 98, 77], 'Adeline' : [65, 22, 10]}\n",
    "students"
   ]
  },
  {
   "cell_type": "markdown",
   "metadata": {},
   "source": [
    "### Accessing elements of a dictionary\n",
    "Elements of a dictionary are accessed similarly to lists using the bracket operator. A dictionary is inherently unordered so instead of passing an integer index to the bracket operator, the key is used to lookup the value in a dictionary."
   ]
  },
  {
   "cell_type": "code",
   "execution_count": 108,
   "metadata": {
    "collapsed": true
   },
   "outputs": [],
   "source": [
    "# redefine some dictionaries from above\n",
    "letter_dict = {'a': 1, 'b': 2, 'z': 26}\n",
    "\n",
    "num_to_word_dict = {1:'one', 2:'two', 234:'two-hundred thirty four'}\n",
    "\n",
    "city_coord_dict = {(29, 95):'Houston', (29, 90):'New Orleans'}"
   ]
  },
  {
   "cell_type": "code",
   "execution_count": 109,
   "metadata": {
    "collapsed": false
   },
   "outputs": [
    {
     "data": {
      "text/plain": [
       "1"
      ]
     },
     "execution_count": 109,
     "metadata": {},
     "output_type": "execute_result"
    }
   ],
   "source": [
    "# retreiving items\n",
    "letter_dict['a']"
   ]
  },
  {
   "cell_type": "code",
   "execution_count": 110,
   "metadata": {
    "collapsed": false
   },
   "outputs": [
    {
     "data": {
      "text/plain": [
       "26"
      ]
     },
     "execution_count": 110,
     "metadata": {},
     "output_type": "execute_result"
    }
   ],
   "source": [
    "letter_dict['z']"
   ]
  },
  {
   "cell_type": "code",
   "execution_count": 111,
   "metadata": {
    "collapsed": false
   },
   "outputs": [
    {
     "data": {
      "text/plain": [
       "'Houston'"
      ]
     },
     "execution_count": 111,
     "metadata": {},
     "output_type": "execute_result"
    }
   ],
   "source": [
    "city_coord_dict[(29, 95)]"
   ]
  },
  {
   "cell_type": "code",
   "execution_count": 113,
   "metadata": {
    "collapsed": false
   },
   "outputs": [
    {
     "data": {
      "text/plain": [
       "'two-hundred thirty four'"
      ]
     },
     "execution_count": 113,
     "metadata": {},
     "output_type": "execute_result"
    }
   ],
   "source": [
    "num_to_word_dict[234]"
   ]
  },
  {
   "cell_type": "markdown",
   "metadata": {},
   "source": [
    "### The very useful `get` dictionary method\n",
    "One of the most useful dictionary methods is the `get` method, which will attempt to find the passed key and if not in the dictionary return a default value. Normally an error would be raised if the key is not in the dictionary."
   ]
  },
  {
   "cell_type": "code",
   "execution_count": 114,
   "metadata": {
    "collapsed": false
   },
   "outputs": [
    {
     "ename": "KeyError",
     "evalue": "'c'",
     "output_type": "error",
     "traceback": [
      "\u001b[0;31m---------------------------------------------------------------------------\u001b[0m",
      "\u001b[0;31mKeyError\u001b[0m                                  Traceback (most recent call last)",
      "\u001b[0;32m<ipython-input-114-8599f09bd40e>\u001b[0m in \u001b[0;36m<module>\u001b[0;34m()\u001b[0m\n\u001b[1;32m      1\u001b[0m \u001b[0;31m# first see what happens when key is not in dictionary\u001b[0m\u001b[0;34m\u001b[0m\u001b[0;34m\u001b[0m\u001b[0m\n\u001b[0;32m----> 2\u001b[0;31m \u001b[0mletter_dict\u001b[0m\u001b[0;34m[\u001b[0m\u001b[0;34m'c'\u001b[0m\u001b[0;34m]\u001b[0m\u001b[0;34m\u001b[0m\u001b[0m\n\u001b[0m",
      "\u001b[0;31mKeyError\u001b[0m: 'c'"
     ]
    }
   ],
   "source": [
    "# first see what happens when a key is not in the dictionary\n",
    "letter_dict['c']"
   ]
  },
  {
   "cell_type": "code",
   "execution_count": 116,
   "metadata": {
    "collapsed": false
   },
   "outputs": [
    {
     "data": {
      "text/plain": [
       "1"
      ]
     },
     "execution_count": 116,
     "metadata": {},
     "output_type": "execute_result"
    }
   ],
   "source": [
    "# now use get method\n",
    "letter_dict.get('a', 'not in here!')"
   ]
  },
  {
   "cell_type": "code",
   "execution_count": 117,
   "metadata": {
    "collapsed": false
   },
   "outputs": [
    {
     "data": {
      "text/plain": [
       "'not in here!'"
      ]
     },
     "execution_count": 117,
     "metadata": {},
     "output_type": "execute_result"
    }
   ],
   "source": [
    "letter_dict.get('c', 'not in here!')"
   ]
  },
  {
   "cell_type": "markdown",
   "metadata": {},
   "source": [
    "### Dictionary Membership Checking\n",
    "Check membership (of the key) the same way as with sets with the `in` operator. Speed is just as fast as with sets."
   ]
  },
  {
   "cell_type": "code",
   "execution_count": 120,
   "metadata": {
    "collapsed": false
   },
   "outputs": [
    {
     "data": {
      "text/plain": [
       "False"
      ]
     },
     "execution_count": 120,
     "metadata": {},
     "output_type": "execute_result"
    }
   ],
   "source": [
    "# Test whether 'Tom' is a student\n",
    "'Tom' in students"
   ]
  },
  {
   "cell_type": "markdown",
   "metadata": {},
   "source": [
    "### Get just the keys and values separately\n",
    "It's important to remember that dictionaries are unordered so the order of their elements is never guaranteed to be the same when running the same code over again. The below methods retreive the keys and values."
   ]
  },
  {
   "cell_type": "code",
   "execution_count": 15,
   "metadata": {
    "collapsed": false
   },
   "outputs": [
    {
     "data": {
      "text/plain": [
       "dict_keys(['Brian', 'Sally', 'Jane', 'Adeline'])"
      ]
     },
     "execution_count": 15,
     "metadata": {},
     "output_type": "execute_result"
    }
   ],
   "source": [
    "# Get just the keys\n",
    "students.keys()"
   ]
  },
  {
   "cell_type": "code",
   "execution_count": 127,
   "metadata": {
    "collapsed": false
   },
   "outputs": [
    {
     "data": {
      "text/plain": [
       "dict_values([[45, 98, 77], [87, 76, 65], [65, 22, 10]])"
      ]
     },
     "execution_count": 127,
     "metadata": {},
     "output_type": "execute_result"
    }
   ],
   "source": [
    "# get just the values\n",
    "students.values()"
   ]
  },
  {
   "cell_type": "markdown",
   "metadata": {},
   "source": [
    "### Problem 6\n",
    "\n",
    "<span style=\"color:green\">Are dictionaries mutable or immutable objects?</span>"
   ]
  },
  {
   "cell_type": "code",
   "execution_count": null,
   "metadata": {
    "collapsed": true
   },
   "outputs": [],
   "source": [
    "Mutable "
   ]
  },
  {
   "cell_type": "code",
   "execution_count": null,
   "metadata": {
    "collapsed": true
   },
   "outputs": [],
   "source": []
  },
  {
   "cell_type": "markdown",
   "metadata": {},
   "source": [
    "Double click to answer here:\n",
    "\n"
   ]
  },
  {
   "cell_type": "markdown",
   "metadata": {},
   "source": [
    "### Mutating Dictionaries\n",
    "Dictionaries are mutable and new key:value pairs can be added, deleted, and updated at any time after creation."
   ]
  },
  {
   "cell_type": "code",
   "execution_count": 138,
   "metadata": {
    "collapsed": true
   },
   "outputs": [],
   "source": [
    "# Define a dictionary\n",
    "students = {'Sally': [87, 76, 65], 'Jane' : [45, 98, 77], 'Adeline' : [65, 22, 10]}"
   ]
  },
  {
   "cell_type": "code",
   "execution_count": 139,
   "metadata": {
    "collapsed": false
   },
   "outputs": [
    {
     "data": {
      "text/plain": [
       "{'Adeline': [65, 22, 10],\n",
       " 'Jane': [45, 98, 77],\n",
       " 'Penelope': [100, 98, 90],\n",
       " 'Sally': [87, 76, 65]}"
      ]
     },
     "execution_count": 139,
     "metadata": {},
     "output_type": "execute_result"
    }
   ],
   "source": [
    "# add a new student key:value pair\n",
    "students['Penelope'] = [100, 98, 90]\n",
    "\n",
    "students"
   ]
  },
  {
   "cell_type": "code",
   "execution_count": 140,
   "metadata": {
    "collapsed": false
   },
   "outputs": [
    {
     "data": {
      "text/plain": [
       "{'Adeline': [65, 22, 10], 'Jane': [45, 98, 77], 'Penelope': [100, 98, 90]}"
      ]
     },
     "execution_count": 140,
     "metadata": {},
     "output_type": "execute_result"
    }
   ],
   "source": [
    "# delete a student\n",
    "del students['Sally']\n",
    "\n",
    "students"
   ]
  },
  {
   "cell_type": "code",
   "execution_count": 141,
   "metadata": {
    "collapsed": false
   },
   "outputs": [
    {
     "data": {
      "text/plain": [
       "{'Adeline': [87, 56, 88], 'Jane': [45, 98, 77], 'Penelope': [100, 98, 90]}"
      ]
     },
     "execution_count": 141,
     "metadata": {},
     "output_type": "execute_result"
    }
   ],
   "source": [
    "# Change all of the scores of a single student\n",
    "students['Adeline'] = [87, 56, 88]\n",
    "\n",
    "students"
   ]
  },
  {
   "cell_type": "code",
   "execution_count": 142,
   "metadata": {
    "collapsed": false
   },
   "outputs": [
    {
     "data": {
      "text/plain": [
       "{'Adeline': [87, 56, 88], 'Jane': [45, 98, 77], 'Penelope': [100, 98, 99]}"
      ]
     },
     "execution_count": 142,
     "metadata": {},
     "output_type": "execute_result"
    }
   ],
   "source": [
    "# change a single test score of a student\n",
    "students['Penelope'][2] = 99\n",
    "students"
   ]
  },
  {
   "cell_type": "code",
   "execution_count": 143,
   "metadata": {
    "collapsed": false
   },
   "outputs": [
    {
     "data": {
      "text/plain": [
       "{'Penelope': [100, 98, 99],\n",
       " 0: 'zero',\n",
       " 'Jane': [45, 98, 77],\n",
       " 'Adeline': [87, 56, 88]}"
      ]
     },
     "execution_count": 143,
     "metadata": {},
     "output_type": "execute_result"
    }
   ],
   "source": [
    "# add a key:value pair of completely different type\n",
    "students[0] = 'zero'\n",
    "\n",
    "students"
   ]
  },
  {
   "cell_type": "markdown",
   "metadata": {},
   "source": [
    "### Problem 7\n",
    "\n",
    "<span style=\"color:green\">Write a function that emulates the `get` dictionary method. The function will consist of three arguments: the dictionary, the key to lookup and the default value to return if the key is not in the dictionary. Test your function with the provided code.</span>"
   ]
  },
  {
   "cell_type": "code",
   "execution_count": 33,
   "metadata": {
    "collapsed": false
   },
   "outputs": [],
   "source": [
    "def dict_get(dictionary, key, default):\n",
    "    if key in dictionary:\n",
    "        return dictionary[key]\n",
    "    return default"
   ]
  },
  {
   "cell_type": "code",
   "execution_count": 34,
   "metadata": {
    "collapsed": false
   },
   "outputs": [
    {
     "name": "stdout",
     "output_type": "stream",
     "text": [
      "[0, 0, 0]\n",
      "[45, 98, 77]\n"
     ]
    }
   ],
   "source": [
    "# test code \n",
    "test_dict = {'Sally': [87, 76, 65], 'Jane' : [45, 98, 77], 'Adeline' : [65, 22, 10]}\n",
    "key = 'jane'\n",
    "default = [0, 0, 0]\n",
    "\n",
    "print(dict_get(test_dict, key, default))\n",
    "\n",
    "key = 'Jane'\n",
    "print(dict_get(test_dict, key, default))"
   ]
  },
  {
   "cell_type": "markdown",
   "metadata": {},
   "source": [
    "### Problem 8\n",
    "\n",
    "<span style=\"color:green\">Create a function that accepts two parameters, a dictionary, and a string. If that string is in the dictionary, increment the value by 1. If not, create a new record in the dictionary with the string as a key and 0 as its value. Test your function with provided code.</span>"
   ]
  },
  {
   "cell_type": "code",
   "execution_count": 39,
   "metadata": {
    "collapsed": false
   },
   "outputs": [],
   "source": [
    "def add_to_dict(dictionary, key):\n",
    "    if key in dictionary:\n",
    "        dictionary[key] += 1\n",
    "    else:\n",
    "        dictionary[key]=0"
   ]
  },
  {
   "cell_type": "code",
   "execution_count": 40,
   "metadata": {
    "collapsed": false
   },
   "outputs": [
    {
     "data": {
      "text/plain": [
       "{'Houston': 1, 'New Orleans': 3, 'New York': 0}"
      ]
     },
     "execution_count": 40,
     "metadata": {},
     "output_type": "execute_result"
    }
   ],
   "source": [
    "# test code\n",
    "test_dict = {'Houston': 1, 'New Orleans':2}\n",
    "\n",
    "add_to_dict(test_dict, 'New York')\n",
    "\n",
    "add_to_dict(test_dict, 'New Orleans')\n",
    "\n",
    "test_dict"
   ]
  },
  {
   "cell_type": "markdown",
   "metadata": {},
   "source": [
    "The above problem is a manual implementation of a Python object called an `DefaultDict`. Check the [collections module](https://docs.python.org/3/library/collections.html) for more info."
   ]
  },
  {
   "cell_type": "markdown",
   "metadata": {},
   "source": [
    "### Iterate through dictionaries\n",
    "One of the most common operations on a dictionary is to loop(iterate) through it key by key to do some calculation on the values.\n",
    "\n",
    "\n",
    "### Use a for loop\n",
    "To iterate through each element in a dictionary you use a for loop. Previously when for loops iterated through list or range objects, there was one variable that was used to track the current element. For dictionaries you will use two variable names separated by commas to be assigned to the key and value of the current element.\n",
    "\n",
    "In the below example, the variable `student` is assigned to the key and `scores` is assigned to the value (a list in this case). Since dictionaries are unordered there is no way to determine the order of elements.\n",
    "\n",
    "And to create the 'iterator' you will need to use the `.items` method of the dictionary."
   ]
  },
  {
   "cell_type": "code",
   "execution_count": 151,
   "metadata": {
    "collapsed": false
   },
   "outputs": [
    {
     "name": "stdout",
     "output_type": "stream",
     "text": [
      "Jane's average score is 73.33333333333333\n",
      "Sally's average score is 76.0\n",
      "Adeline's average score is 32.333333333333336\n"
     ]
    }
   ],
   "source": [
    "# define students again with test scores\n",
    "students = {'Sally': [87, 76, 65], 'Jane' : [45, 98, 77], 'Adeline' : [65, 22, 10]}\n",
    "\n",
    "for student, scores in students.items():\n",
    "    avg_score = sum(scores) / len(scores)\n",
    "    print(\"{}'s average score is {}\".format(student, avg_score))"
   ]
  },
  {
   "cell_type": "markdown",
   "metadata": {},
   "source": [
    "### Dictionary Comprehensions\n",
    "Just like list comprehensions it is possible to create dictionary comprehensions - and set and tuple comprehensions as well. A dictionary comprehension will loop through a sequence and create a key:value pair for each iteration. You can add a conditional statement to filter out items as well if you wish."
   ]
  },
  {
   "cell_type": "code",
   "execution_count": 153,
   "metadata": {
    "collapsed": false
   },
   "outputs": [
    {
     "data": {
      "text/plain": [
       "{'Adeline': 65, 'Jane': 98, 'Sally': 87}"
      ]
     },
     "execution_count": 153,
     "metadata": {},
     "output_type": "execute_result"
    }
   ],
   "source": [
    "# Dictionary comprehension examples\n",
    "# Remember to use .items to create the iterator\n",
    "# make a dictionary that has the student name as the key and max test score as the value\n",
    "{student: max(scores) for student, scores in students.items()}"
   ]
  },
  {
   "cell_type": "code",
   "execution_count": 157,
   "metadata": {
    "collapsed": false
   },
   "outputs": [
    {
     "data": {
      "text/plain": [
       "{' ': 32,\n",
       " 'a': 97,\n",
       " 'c': 99,\n",
       " 'd': 100,\n",
       " 'e': 101,\n",
       " 'h': 104,\n",
       " 'i': 105,\n",
       " 'l': 108,\n",
       " 'n': 110,\n",
       " 'o': 111,\n",
       " 'p': 112,\n",
       " 'r': 114,\n",
       " 's': 115,\n",
       " 't': 116,\n",
       " 'v': 118,\n",
       " 'w': 119}"
      ]
     },
     "execution_count": 157,
     "metadata": {},
     "output_type": "execute_result"
    }
   ],
   "source": [
    "# can loop through a string, list, tuple (any sequence) during a dictionary comprehension and not just a dictionary\n",
    "\n",
    "# loop through a string and create a dictionary with each letter as the key and the unicode point as the value\n",
    "phrase = 'a phrase that contains vowels and consonants'\n",
    "{letter:ord(letter)  for letter in phrase}"
   ]
  },
  {
   "cell_type": "markdown",
   "metadata": {},
   "source": [
    "### Problem 9\n",
    "\n",
    "<span style=\"color:green\">Create a dictionary through a dictionary comp that gets the average score for each student</span>"
   ]
  },
  {
   "cell_type": "code",
   "execution_count": 42,
   "metadata": {
    "collapsed": false
   },
   "outputs": [
    {
     "data": {
      "text/plain": [
       "{'Adeline': 32, 'Jane': 73, 'Sally': 76}"
      ]
     },
     "execution_count": 42,
     "metadata": {},
     "output_type": "execute_result"
    }
   ],
   "source": [
    "students = {'Sally': [87, 76, 65], 'Jane' : [45, 98, 77], 'Adeline' : [65, 22, 10]}\n",
    "\n",
    "avg = {student : sum(scores) / len(scores) for student, scores in students.items()}\n",
    "avg"
   ]
  },
  {
   "cell_type": "markdown",
   "metadata": {},
   "source": [
    "### Problem 10\n",
    "\n",
    "<span style=\"color:green\">Create a dictionary through a dictionary comp that has the student name as the key and the minimum grade as value but for only students that have an 'e' in their name.</span>"
   ]
  },
  {
   "cell_type": "code",
   "execution_count": 49,
   "metadata": {
    "collapsed": false
   },
   "outputs": [
    {
     "data": {
      "text/plain": [
       "{'Adeline': 10, 'Jane': 45}"
      ]
     },
     "execution_count": 49,
     "metadata": {},
     "output_type": "execute_result"
    }
   ],
   "source": [
    "students = {'Sally': [87, 76, 65], 'Jane' : [45, 98, 77], 'Adeline' : [65, 22, 10]}\n",
    "name = {student: min(scores)for student, scores in students.items() if 'e' in student}\n",
    "name\n"
   ]
  },
  {
   "cell_type": "markdown",
   "metadata": {},
   "source": [
    "### Problem 11\n",
    "\n",
    "<span style=\"color:green\">Use a dictionary comp that loops through the numbers 0 to 10 and uses the integer as the key and a list with its squared and cubed value as its value.</span>"
   ]
  },
  {
   "cell_type": "code",
   "execution_count": 55,
   "metadata": {
    "collapsed": false
   },
   "outputs": [
    {
     "data": {
      "text/plain": [
       "{0: [0, 0],\n",
       " 1: [1, 1],\n",
       " 2: [4, 8],\n",
       " 3: [9, 27],\n",
       " 4: [16, 64],\n",
       " 5: [25, 125],\n",
       " 6: [36, 216],\n",
       " 7: [49, 343],\n",
       " 8: [64, 512],\n",
       " 9: [81, 729]}"
      ]
     },
     "execution_count": 55,
     "metadata": {},
     "output_type": "execute_result"
    }
   ],
   "source": [
    "{n:[n ** 2, n ** 3] for n in range(0,10)}"
   ]
  },
  {
   "cell_type": "markdown",
   "metadata": {},
   "source": [
    "### Problem 12: Advanced\n",
    "\n",
    "<span style=\"color:green\">Iterate through each student and drop their lowest test grade. Replace it with 100.</span>"
   ]
  },
  {
   "cell_type": "code",
   "execution_count": 59,
   "metadata": {
    "collapsed": false
   },
   "outputs": [
    {
     "data": {
      "text/plain": [
       "{'Adeline': [100, 100, 100], 'Jane': [100, 100, 100], 'Sally': [100, 100, 100]}"
      ]
     },
     "execution_count": 59,
     "metadata": {},
     "output_type": "execute_result"
    }
   ],
   "source": [
    "for student, scores in students.items():\n",
    "    scores[scores.index(min(scores))] = 100\n",
    "students"
   ]
  },
  {
   "cell_type": "markdown",
   "metadata": {},
   "source": [
    "# Congrats! You've reached the end\n",
    "This is just a small sampling of what python is capable of doing. Only the most important aspects of the language have been covered but if you have internalized this material you will be able to do very well during the actual course."
   ]
  }
 ],
 "metadata": {
  "anaconda-cloud": {},
  "kernelspec": {
   "display_name": "Python [default]",
   "language": "python",
   "name": "python2"
  },
  "language_info": {
   "codemirror_mode": {
    "name": "ipython",
    "version": 2
   },
   "file_extension": ".py",
   "mimetype": "text/x-python",
   "name": "python",
   "nbconvert_exporter": "python",
   "pygments_lexer": "ipython2",
   "version": "2.7.12"
  }
 },
 "nbformat": 4,
 "nbformat_minor": 0
}
