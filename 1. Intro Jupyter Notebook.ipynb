{
 "cells": [
  {
   "cell_type": "markdown",
   "metadata": {},
   "source": [
    "# Welcome to the Pre-Course Assignment\n",
    "\n",
    "### So Where am I?\n",
    "If you have never seen this application then you might be wondering what strange place you have landed on the internet. You are now running a **Jupyter Notebook** server locally from your localhost at default port 8888. This specific notebook is using an iPython kernel capable of executing Python commands."
   ]
  },
  {
   "cell_type": "markdown",
   "metadata": {},
   "source": [
    "### What are Jupyter Notebooks and why are we using them?\n",
    "Jupyter notebooks allow you to interactively write code, visualize results and enhance the output via markdown, html, <button>Pointless html button</button>, latex ($c = \\sqrt{a^2 + b^2}$) and other rich content streams (see Python image!) ![caption](http://m.c.lnkd.licdn.com/mpr/mpr/p/8/005/074/142/3d2d31a.jpg)  \n",
    "\n",
    "We are using them because they provide an excellent means to iteratively and interactively explore and visualize data in one place. They are also great for showing examples and providing space for students to complete exercises.\n",
    "\n",
    "### What's the difference between iPython notebooks and Jupyter notebooks?\n",
    "If you are already familiar with these notebooks you might be wondering why they are referred to as jupyter and not iPython notebooks. The original research for this project stemmed from the need of an easily shareable interactive python document and so was aptly named iPython notebook. The developers then began to include [many other language kernels](https://github.com/ipython/ipython/wiki/IPython-kernels-for-other-languages) for interactive computing of which Python was just one. The project was renamed [Jupyter](https://blog.jupyter.org/2015/04/15/the-big-split/) as the framework for interactive computing was language agnostic only with the backend kernels differing. It turns out, lots of people enjoy working in this type of an environment and hopefully you will too.\n",
    "\n",
    "### What are some drawback to jupyter notebooks?\n",
    "Perhaps the biggest drawback is the unwieldy mess that these notebooks can become if used for beyond their purpose. These notebooks unfortunately lend themselves to out of order operation where you can find yourself utilizing an output from a cell below for a cell above. Keeping track of variables from one cell to another can have you using values for variables you never intended. These notebooks are also pretty horrible for developing production quality code. Its best to open up a normal text editor for production purposes. But for exploration and teaching these notebooks are excellent!\n",
    "\n",
    "### What else do I need to know about these notebooks?\n",
    "Well, there are [books](http://www.amazon.com/IPython-Notebook-Essentials-Felipe-Martins/dp/1783988347) just about the notebook. There's also a user interface tour under the Help menu above (please check it out now). The basics of the notebook work as follows. The notebook is made up of cells, which you can see outlines for below. This cell probably doesn't have an outline since its not clicked. But if you click it once you will see the outline. There are two main types of cells, **code** and **markdown**. Code cells can only run Python (or your current kernel) commands or magic commands (not important now). Markdown cells can contain markdown, html and latex. This current cell is a markdown cell with markdown, html and latex. You can double click this cell to see the underlying input. Press shift + enter to put it back the way it was.\n",
    "\n",
    "### How do I change cell type?\n",
    "From the Cell dropdown menu above or with the keyboard shortcut (**esc + M**) for markdown or (**esc + Y**) for code"
   ]
  },
  {
   "cell_type": "markdown",
   "metadata": {},
   "source": [
    "### Keyboard Shortcuts\n",
    "Keyboard shortcuts are great and are very useful in these notebooks. Please look through the keyboard shortcut list in the help dropdown menu above. The keyboard shortcuts in the **command mode** section are probably going to be more useful. The shortcuts in the **edit mode** (when there is a flashing cursor on your screen so you can type) are going to be more familiar and for the most part are just normal text editing keyboard shortcuts.\n",
    "\n",
    "### Your first problem!\n",
    "Use the command mode keyboard shortcut (esc + dd) to delete the cell below. Make sure you click in that cell first!"
   ]
  },
  {
   "cell_type": "code",
   "execution_count": 1,
   "metadata": {
    "collapsed": false
   },
   "outputs": [],
   "source": []
  },
  {
   "cell_type": "markdown",
   "metadata": {},
   "source": [
    "### What other useful things are there to know about the notebook?\n",
    "Even though iPython/Jupyter notebooks have been in development for several years now, they will occasionally crash or  you will write code when executed that is in an infinite loop or just takes too long to complete. To stop execution, press the stop button above or from the Kernel menu above select restart. All variable and function definitions will be lost when this happens. If you are still unable to stop the execution, you need to go back to the terminal where you launched the notebook from and kill it (ctrl + c).\n",
    "\n",
    "One other note. If you exit this browser tab, the notebook will still be running until you kill the kernel from the terminal. This means that all variables will remain alive if you reopen the notebook with the kernel it was started with still running.\n",
    "\n",
    "### Where is the Python part of this notebook?\n",
    "OK, finally we are ready to move onto Python. If your Python skills are weak, you will likely have a difficult time during the course and so this tutorial will be very valuable for you. On the other hand if you already have strong Python skills then this will be a good refresher.\n",
    "\n",
    "### What actually is Python?\n",
    "For a computer, Python code is simply characters on a screen. These characters have no idea what to do with themselves unless some other computer program translates them to a language that a machine can understand. Its important to understand that Python is a programming language and that Python the programming language has many different implementations that turn those characters to executable machine code. The original implementation of Python is called CPython written in C by the ['Benevolent Dictator for Life'](https://en.wikipedia.org/wiki/Benevolent_dictator_for_life) Guido van Rossum who started the project in the 80's and released it in 1991. CPython parses the Python code and compiles it to Python bytecode which is then interpreted by the CPython virtual machine.\n",
    "\n",
    "It is an open source language that anyone can contribute to. See the [github repository](https://github.com/python/cpython) where [Guido](https://github.com/gvanrossum) still commits to frequently. Python is a dynamic language (variable types don't need to be declared before assignment). Because Python is not compiled down to machine code but rather interpreted at run-time (with CPython) it can execute slower than compiled languages like C or Fortran.\n",
    "\n",
    "### Why use Python?\n",
    "Python is a high-level language. High-level as, it is a programming language for dummies and is easy to learn, with simple and compact syntax that can look like executable pseudocode. See example: `foo is not None`. \n",
    "\n",
    "Since Python does not have to be compiled (technically it is compiled to bytecode but not down to machine code like C), it can be used interactively which makes it excellent for scientific computing where results from operations need to be seen to write further code. Your code can also actually look very similar to what it would look like on paper as a scientist.\n",
    "\n",
    "Python handles many things under the hood like memory management that a lower language like C does not so that you can concentrate on development.\n",
    "\n",
    "It is a general purpose programming languages allowing you to develop a wide range of applications from the web to full scale data science pipelines.\n",
    "\n",
    "So, a small sacrifice in inefficiency allows for great productivity as a developer.\n",
    "\n",
    "### Quick note on Python 2 vs Python 3\n",
    "For practical purposes of this class, there should be almost no difference. The main difference for us would be how Python handles simple division. Python 2 truncates all division outputs to an integer where as Python 3 keeps the value as float. So `17/4` evaluates to 4 in python 2 and 4.25 in python 3. There are many other differences but they should not affect the course if you happen to love python 2 (which will be supported until 2020)\n",
    "\n",
    "### Your first lines of Python in this notebook\n",
    "As previously mentioned, you can only execute Python code in code cells. The type of the cell is always written in a text box in the header of this page. Code blocks also always have **`In [ ]:`** to the left of them. If there is a number in the brackets, it means that cell was executed and you will see an **`Out[10]:`** area below. The number in brackets is the rank of that cells last execution. So, if you see a 10 in the cell, it means that it was the 10th cell to be executed the last time it was ran.\n",
    "\n",
    "# Don't use a calculator, use Python!\n",
    "To kick things off we can start off using Python as a calculator. All the standard operators work as expected. Execute the expressions in the code cells below.\n",
    "\n",
    "### Important Execution Note \n",
    "While in the cell press **shift+enter** to execute the cell and move on to the next cell. To remain in the current cell press **ctrl+enter**. Pressing **enter** just by itself will simply create a new line in the current cell."
   ]
  },
  {
   "cell_type": "code",
   "execution_count": 2,
   "metadata": {
    "collapsed": false
   },
   "outputs": [
    {
     "data": {
      "text/plain": [
       "15.666666666666668"
      ]
     },
     "execution_count": 2,
     "metadata": {},
     "output_type": "execute_result"
    }
   ],
   "source": [
    "# add, sub, mul, divide all happen as expected\n",
    "7 * 7 - 50 + 100 / 6"
   ]
  },
  {
   "cell_type": "markdown",
   "metadata": {},
   "source": [
    "### Comments in code blocks\n",
    "To insert a comment simply put use the hash (#) and that line will be commented out. The keyboard shortcut to comment out a line is **ctrl + /** or **cmd + /** on a mac"
   ]
  },
  {
   "cell_type": "code",
   "execution_count": 3,
   "metadata": {
    "collapsed": false
   },
   "outputs": [
    {
     "data": {
      "text/plain": [
       "1"
      ]
     },
     "execution_count": 3,
     "metadata": {},
     "output_type": "execute_result"
    }
   ],
   "source": [
    "# Integer division is done with //\n",
    "12 // 7"
   ]
  },
  {
   "cell_type": "code",
   "execution_count": 4,
   "metadata": {
    "collapsed": false
   },
   "outputs": [
    {
     "data": {
      "text/plain": [
       "64"
      ]
     },
     "execution_count": 4,
     "metadata": {},
     "output_type": "execute_result"
    }
   ],
   "source": [
    "# Use ** to raise to a power\n",
    "4 ** 3"
   ]
  },
  {
   "cell_type": "code",
   "execution_count": 5,
   "metadata": {
    "collapsed": false
   },
   "outputs": [
    {
     "data": {
      "text/plain": [
       "11"
      ]
     },
     "execution_count": 5,
     "metadata": {},
     "output_type": "execute_result"
    }
   ],
   "source": [
    "# % is the modulus operator to get a remainder\n",
    "89 % 13"
   ]
  },
  {
   "cell_type": "markdown",
   "metadata": {},
   "source": [
    "### Where do I enter my code for this assignment?\n",
    "So far you have only had one problem to do. From here on out there will be many cells that contain a problem that requires some Python code to be entered in. Any code block that requires your input will end with **`# your code here`**.\n",
    "\n",
    "### Problem 1\n",
    "<span style=\"color:green\">How many seconds are there in a century?</span>"
   ]
  },
  {
   "cell_type": "code",
   "execution_count": 1,
   "metadata": {
    "collapsed": false
   },
   "outputs": [
    {
     "data": {
      "text/plain": [
       "3153600000"
      ]
     },
     "execution_count": 1,
     "metadata": {},
     "output_type": "execute_result"
    }
   ],
   "source": [
    "100*365*24*60*60"
   ]
  },
  {
   "cell_type": "markdown",
   "metadata": {},
   "source": [
    "### Advanced:\n",
    "Occasionally there will be diversions to more 'advanced' topics for those already comfortable with basic Python, but since Python is simple most of these advanced topics will be doable for those not very familiar with the language.\n",
    "\n",
    "### Advanced: operator and math library\n",
    "These will not be necessary for the course but are good to know nonetheless. The **operator** and **math** modules are part of the [standard Python libraries](https://docs.python.org/3/library/). The operator library has many built-in operators as functions. Operators as functions? Yes. For instance the [mul](https://docs.python.org/3/library/operator.html#operator.mul) function takes two arguments and multiplies them together. The [math](https://docs.python.org/3/library/math.html) library has many math functions, though not nearly as NumPy (a popular library we will cover in class)"
   ]
  },
  {
   "cell_type": "code",
   "execution_count": 7,
   "metadata": {
    "collapsed": true
   },
   "outputs": [],
   "source": [
    "# Lets import some math and operator functions and see them working\n",
    "from operator import mul, le # multiplication and less than or equal to operator\n",
    "from math import log, cos"
   ]
  },
  {
   "cell_type": "code",
   "execution_count": 8,
   "metadata": {
    "collapsed": false
   },
   "outputs": [
    {
     "data": {
      "text/plain": [
       "50"
      ]
     },
     "execution_count": 8,
     "metadata": {},
     "output_type": "execute_result"
    }
   ],
   "source": [
    "# a simple operation with mul\n",
    "mul(10, 5)"
   ]
  },
  {
   "cell_type": "code",
   "execution_count": 9,
   "metadata": {
    "collapsed": false
   },
   "outputs": [
    {
     "data": {
      "text/plain": [
       "-0.039"
      ]
     },
     "execution_count": 9,
     "metadata": {},
     "output_type": "execute_result"
    }
   ],
   "source": [
    "#nested operation with log and cos. Round is a builtin function\n",
    "round(cos(log(5)), 3)"
   ]
  },
  {
   "cell_type": "code",
   "execution_count": 10,
   "metadata": {
    "collapsed": false
   },
   "outputs": [
    {
     "data": {
      "text/plain": [
       "False"
      ]
     },
     "execution_count": 10,
     "metadata": {},
     "output_type": "execute_result"
    }
   ],
   "source": [
    "# is 20 times 5 less than or equal to the log of 200 using only operator and math libraries\n",
    "le(mul(20,5), log(200))"
   ]
  },
  {
   "cell_type": "markdown",
   "metadata": {},
   "source": [
    "### Advanced: Problem 2\n",
    "<span style=\"color:green\">Write an expression using only operator and math libraries (that means without: `+ - * /` to see if the area of a circle with radius 5 is greater than or equal to 40</span>"
   ]
  },
  {
   "cell_type": "code",
   "execution_count": 3,
   "metadata": {
    "collapsed": false
   },
   "outputs": [
    {
     "data": {
      "text/plain": [
       "False"
      ]
     },
     "execution_count": 3,
     "metadata": {},
     "output_type": "execute_result"
    }
   ],
   "source": [
    "from operator import mul,le\n",
    "import math\n",
    "area = mul(math.pi, math.pow(5,2))\n",
    "le(area,40)"
   ]
  },
  {
   "cell_type": "markdown",
   "metadata": {},
   "source": [
    "### Assigning values to variables\n",
    "Variable assignment is easy as well and happens with the equal sign"
   ]
  },
  {
   "cell_type": "code",
   "execution_count": 12,
   "metadata": {
    "collapsed": true
   },
   "outputs": [],
   "source": [
    "a = 10\n",
    "b = log(a)\n",
    "c = b ** 3"
   ]
  },
  {
   "cell_type": "code",
   "execution_count": 13,
   "metadata": {
    "collapsed": false
   },
   "outputs": [
    {
     "data": {
      "text/plain": [
       "10"
      ]
     },
     "execution_count": 13,
     "metadata": {},
     "output_type": "execute_result"
    }
   ],
   "source": [
    "a"
   ]
  },
  {
   "cell_type": "code",
   "execution_count": 14,
   "metadata": {
    "collapsed": false
   },
   "outputs": [
    {
     "data": {
      "text/plain": [
       "2.302585092994046"
      ]
     },
     "execution_count": 14,
     "metadata": {},
     "output_type": "execute_result"
    }
   ],
   "source": [
    "b"
   ]
  },
  {
   "cell_type": "code",
   "execution_count": 15,
   "metadata": {
    "collapsed": false
   },
   "outputs": [
    {
     "data": {
      "text/plain": [
       "12.208071553760862"
      ]
     },
     "execution_count": 15,
     "metadata": {},
     "output_type": "execute_result"
    }
   ],
   "source": [
    "c"
   ]
  },
  {
   "cell_type": "markdown",
   "metadata": {},
   "source": [
    "### Outputting more than one variable at a same time\n",
    "You can output all three variables at the same time if you separate them with commas. This technically creates a tuple which we will talk about later"
   ]
  },
  {
   "cell_type": "code",
   "execution_count": 16,
   "metadata": {
    "collapsed": false
   },
   "outputs": [
    {
     "data": {
      "text/plain": [
       "(10, 2.302585092994046, 12.208071553760862)"
      ]
     },
     "execution_count": 16,
     "metadata": {},
     "output_type": "execute_result"
    }
   ],
   "source": [
    "# output multiple variables\n",
    "a, b, c"
   ]
  },
  {
   "cell_type": "markdown",
   "metadata": {},
   "source": [
    "### Problem 3\n",
    "<span style=\"color:green\">Use three different variables to store a 15% sales tax on a $70 meal to get the total and output all of them at the same time</span>"
   ]
  },
  {
   "cell_type": "code",
   "execution_count": 1,
   "metadata": {
    "collapsed": false
   },
   "outputs": [
    {
     "data": {
      "text/plain": [
       "(10.5, 10.5, 10.5)"
      ]
     },
     "execution_count": 1,
     "metadata": {},
     "output_type": "execute_result"
    }
   ],
   "source": [
    "t = 0.15*70\n",
    "r = 0.15*70\n",
    "s = 0.15*70 \n",
    "t,r,s\n"
   ]
  },
  {
   "cell_type": "markdown",
   "metadata": {},
   "source": [
    "### Checking Solutions\n",
    "Solutions for all problems can be found in the **precourse solutions** Notebook. I recommend attempting each problem on your own before checking the solutions."
   ]
  },
  {
   "cell_type": "markdown",
   "metadata": {},
   "source": [
    "# Congrats on completing your first notebook!\n",
    "Please continue to number 2! You can use file > open or navigate to localhost:8888 to find the notebook"
   ]
  }
 ],
 "metadata": {
  "anaconda-cloud": {},
  "kernelspec": {
   "display_name": "Python [conda root]",
   "language": "python",
   "name": "conda-root-py"
  },
  "language_info": {
   "codemirror_mode": {
    "name": "ipython",
    "version": 2
   },
   "file_extension": ".py",
   "mimetype": "text/x-python",
   "name": "python",
   "nbconvert_exporter": "python",
   "pygments_lexer": "ipython2",
   "version": "2.7.12"
  }
 },
 "nbformat": 4,
 "nbformat_minor": 0
}
